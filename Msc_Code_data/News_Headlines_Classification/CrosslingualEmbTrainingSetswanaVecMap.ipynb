{
  "cells": [
    {
      "cell_type": "code",
      "execution_count": null,
      "metadata": {
        "id": "0t0zpfElAMOv"
      },
      "outputs": [],
      "source": [
        "import os, sys, re\n",
        "import ast\n",
        "import string\n",
        "import pandas as pd\n",
        "import numpy as np\n",
        "import pickle\n",
        "import seaborn as sns\n",
        "import matplotlib.pyplot as plt"
      ]
    },
    {
      "cell_type": "code",
      "execution_count": null,
      "metadata": {
        "colab": {
          "base_uri": "https://localhost:8080/"
        },
        "id": "C9cKDxXJAjrG",
        "outputId": "606474cf-7796-460a-b26d-d061c9b6d5c7"
      },
      "outputs": [
        {
          "name": "stdout",
          "output_type": "stream",
          "text": [
            "Drive already mounted at /content/drive; to attempt to forcibly remount, call drive.mount(\"/content/drive\", force_remount=True).\n"
          ]
        }
      ],
      "source": [
        "from google.colab import drive\n",
        "drive.mount('/content/drive')\n"
      ]
    },
    {
      "cell_type": "code",
      "execution_count": null,
      "metadata": {
        "id": "56WqCSdyBwCm"
      },
      "outputs": [],
      "source": [
        "path =\"/content/drive/MyDrive/CrosslingualModelPaper2/Copy of BBCNewsTrain.csv\""
      ]
    },
    {
      "cell_type": "code",
      "execution_count": null,
      "metadata": {
        "colab": {
          "base_uri": "https://localhost:8080/",
          "height": 206
        },
        "id": "wGICR4FkCE7P",
        "outputId": "cc8c4351-83fb-4cee-824c-99bd1ed7ee7a"
      },
      "outputs": [
        {
          "data": {
            "text/html": [
              "\n",
              "  <div id=\"df-65131413-7e6e-4ab1-9bd0-614b162b544e\">\n",
              "    <div class=\"colab-df-container\">\n",
              "      <div>\n",
              "<style scoped>\n",
              "    .dataframe tbody tr th:only-of-type {\n",
              "        vertical-align: middle;\n",
              "    }\n",
              "\n",
              "    .dataframe tbody tr th {\n",
              "        vertical-align: top;\n",
              "    }\n",
              "\n",
              "    .dataframe thead th {\n",
              "        text-align: right;\n",
              "    }\n",
              "</style>\n",
              "<table border=\"1\" class=\"dataframe\">\n",
              "  <thead>\n",
              "    <tr style=\"text-align: right;\">\n",
              "      <th></th>\n",
              "      <th>ArticleId</th>\n",
              "      <th>Text</th>\n",
              "      <th>Category</th>\n",
              "    </tr>\n",
              "  </thead>\n",
              "  <tbody>\n",
              "    <tr>\n",
              "      <th>0</th>\n",
              "      <td>1833</td>\n",
              "      <td>worldcom ex-boss launches defence lawyers defe...</td>\n",
              "      <td>business</td>\n",
              "    </tr>\n",
              "    <tr>\n",
              "      <th>1</th>\n",
              "      <td>154</td>\n",
              "      <td>german business confidence slides german busin...</td>\n",
              "      <td>business</td>\n",
              "    </tr>\n",
              "    <tr>\n",
              "      <th>2</th>\n",
              "      <td>1101</td>\n",
              "      <td>bbc poll indicates economic gloom citizens in ...</td>\n",
              "      <td>business</td>\n",
              "    </tr>\n",
              "    <tr>\n",
              "      <th>3</th>\n",
              "      <td>1976</td>\n",
              "      <td>lifestyle  governs mobile choice  faster  bett...</td>\n",
              "      <td>tech</td>\n",
              "    </tr>\n",
              "    <tr>\n",
              "      <th>4</th>\n",
              "      <td>917</td>\n",
              "      <td>enron bosses in $168m payout eighteen former e...</td>\n",
              "      <td>business</td>\n",
              "    </tr>\n",
              "  </tbody>\n",
              "</table>\n",
              "</div>\n",
              "      <button class=\"colab-df-convert\" onclick=\"convertToInteractive('df-65131413-7e6e-4ab1-9bd0-614b162b544e')\"\n",
              "              title=\"Convert this dataframe to an interactive table.\"\n",
              "              style=\"display:none;\">\n",
              "        \n",
              "  <svg xmlns=\"http://www.w3.org/2000/svg\" height=\"24px\"viewBox=\"0 0 24 24\"\n",
              "       width=\"24px\">\n",
              "    <path d=\"M0 0h24v24H0V0z\" fill=\"none\"/>\n",
              "    <path d=\"M18.56 5.44l.94 2.06.94-2.06 2.06-.94-2.06-.94-.94-2.06-.94 2.06-2.06.94zm-11 1L8.5 8.5l.94-2.06 2.06-.94-2.06-.94L8.5 2.5l-.94 2.06-2.06.94zm10 10l.94 2.06.94-2.06 2.06-.94-2.06-.94-.94-2.06-.94 2.06-2.06.94z\"/><path d=\"M17.41 7.96l-1.37-1.37c-.4-.4-.92-.59-1.43-.59-.52 0-1.04.2-1.43.59L10.3 9.45l-7.72 7.72c-.78.78-.78 2.05 0 2.83L4 21.41c.39.39.9.59 1.41.59.51 0 1.02-.2 1.41-.59l7.78-7.78 2.81-2.81c.8-.78.8-2.07 0-2.86zM5.41 20L4 18.59l7.72-7.72 1.47 1.35L5.41 20z\"/>\n",
              "  </svg>\n",
              "      </button>\n",
              "      \n",
              "  <style>\n",
              "    .colab-df-container {\n",
              "      display:flex;\n",
              "      flex-wrap:wrap;\n",
              "      gap: 12px;\n",
              "    }\n",
              "\n",
              "    .colab-df-convert {\n",
              "      background-color: #E8F0FE;\n",
              "      border: none;\n",
              "      border-radius: 50%;\n",
              "      cursor: pointer;\n",
              "      display: none;\n",
              "      fill: #1967D2;\n",
              "      height: 32px;\n",
              "      padding: 0 0 0 0;\n",
              "      width: 32px;\n",
              "    }\n",
              "\n",
              "    .colab-df-convert:hover {\n",
              "      background-color: #E2EBFA;\n",
              "      box-shadow: 0px 1px 2px rgba(60, 64, 67, 0.3), 0px 1px 3px 1px rgba(60, 64, 67, 0.15);\n",
              "      fill: #174EA6;\n",
              "    }\n",
              "\n",
              "    [theme=dark] .colab-df-convert {\n",
              "      background-color: #3B4455;\n",
              "      fill: #D2E3FC;\n",
              "    }\n",
              "\n",
              "    [theme=dark] .colab-df-convert:hover {\n",
              "      background-color: #434B5C;\n",
              "      box-shadow: 0px 1px 3px 1px rgba(0, 0, 0, 0.15);\n",
              "      filter: drop-shadow(0px 1px 2px rgba(0, 0, 0, 0.3));\n",
              "      fill: #FFFFFF;\n",
              "    }\n",
              "  </style>\n",
              "\n",
              "      <script>\n",
              "        const buttonEl =\n",
              "          document.querySelector('#df-65131413-7e6e-4ab1-9bd0-614b162b544e button.colab-df-convert');\n",
              "        buttonEl.style.display =\n",
              "          google.colab.kernel.accessAllowed ? 'block' : 'none';\n",
              "\n",
              "        async function convertToInteractive(key) {\n",
              "          const element = document.querySelector('#df-65131413-7e6e-4ab1-9bd0-614b162b544e');\n",
              "          const dataTable =\n",
              "            await google.colab.kernel.invokeFunction('convertToInteractive',\n",
              "                                                     [key], {});\n",
              "          if (!dataTable) return;\n",
              "\n",
              "          const docLinkHtml = 'Like what you see? Visit the ' +\n",
              "            '<a target=\"_blank\" href=https://colab.research.google.com/notebooks/data_table.ipynb>data table notebook</a>'\n",
              "            + ' to learn more about interactive tables.';\n",
              "          element.innerHTML = '';\n",
              "          dataTable['output_type'] = 'display_data';\n",
              "          await google.colab.output.renderOutput(dataTable, element);\n",
              "          const docLink = document.createElement('div');\n",
              "          docLink.innerHTML = docLinkHtml;\n",
              "          element.appendChild(docLink);\n",
              "        }\n",
              "      </script>\n",
              "    </div>\n",
              "  </div>\n",
              "  "
            ],
            "text/plain": [
              "   ArticleId                                               Text  Category\n",
              "0       1833  worldcom ex-boss launches defence lawyers defe...  business\n",
              "1        154  german business confidence slides german busin...  business\n",
              "2       1101  bbc poll indicates economic gloom citizens in ...  business\n",
              "3       1976  lifestyle  governs mobile choice  faster  bett...      tech\n",
              "4        917  enron bosses in $168m payout eighteen former e...  business"
            ]
          },
          "execution_count": 87,
          "metadata": {},
          "output_type": "execute_result"
        }
      ],
      "source": [
        "df = pd.read_csv(path, sep = \",\")\n",
        "df.head()"
      ]
    },
    {
      "cell_type": "code",
      "execution_count": null,
      "metadata": {
        "id": "YefCtSrzCq0-"
      },
      "outputs": [],
      "source": [
        "classes = df['Category'].unique()"
      ]
    },
    {
      "cell_type": "code",
      "execution_count": null,
      "metadata": {
        "colab": {
          "base_uri": "https://localhost:8080/"
        },
        "id": "9fq-sZ9IDkUd",
        "outputId": "2ce8a8c8-038a-4f81-c0ee-8d17d4a04e23"
      },
      "outputs": [
        {
          "data": {
            "text/plain": [
              "array(['business', 'tech', 'politics', 'sport', 'entertainment'],\n",
              "      dtype=object)"
            ]
          },
          "execution_count": 89,
          "metadata": {},
          "output_type": "execute_result"
        }
      ],
      "source": [
        "\n",
        "classes"
      ]
    },
    {
      "cell_type": "code",
      "execution_count": null,
      "metadata": {
        "colab": {
          "base_uri": "https://localhost:8080/"
        },
        "id": "rYLXtZM29RKB",
        "outputId": "5c1fa533-0ff3-4d94-fff9-a65ecfe97f97"
      },
      "outputs": [
        {
          "name": "stdout",
          "output_type": "stream",
          "text": [
            "Looking in indexes: https://pypi.org/simple, https://us-python.pkg.dev/colab-wheels/public/simple/\n",
            "Requirement already satisfied: wordcloud in /usr/local/lib/python3.8/dist-packages (1.8.2.2)\n",
            "Requirement already satisfied: numpy>=1.6.1 in /usr/local/lib/python3.8/dist-packages (from wordcloud) (1.22.4)\n",
            "Requirement already satisfied: pillow in /usr/local/lib/python3.8/dist-packages (from wordcloud) (8.4.0)\n",
            "Requirement already satisfied: matplotlib in /usr/local/lib/python3.8/dist-packages (from wordcloud) (3.5.3)\n",
            "Requirement already satisfied: cycler>=0.10 in /usr/local/lib/python3.8/dist-packages (from matplotlib->wordcloud) (0.11.0)\n",
            "Requirement already satisfied: pyparsing>=2.2.1 in /usr/local/lib/python3.8/dist-packages (from matplotlib->wordcloud) (3.0.9)\n",
            "Requirement already satisfied: kiwisolver>=1.0.1 in /usr/local/lib/python3.8/dist-packages (from matplotlib->wordcloud) (1.4.4)\n",
            "Requirement already satisfied: fonttools>=4.22.0 in /usr/local/lib/python3.8/dist-packages (from matplotlib->wordcloud) (4.38.0)\n",
            "Requirement already satisfied: packaging>=20.0 in /usr/local/lib/python3.8/dist-packages (from matplotlib->wordcloud) (23.0)\n",
            "Requirement already satisfied: python-dateutil>=2.7 in /usr/local/lib/python3.8/dist-packages (from matplotlib->wordcloud) (2.8.2)\n",
            "Requirement already satisfied: six>=1.5 in /usr/local/lib/python3.8/dist-packages (from python-dateutil>=2.7->matplotlib->wordcloud) (1.15.0)\n"
          ]
        }
      ],
      "source": [
        "# plot entertainment in word cloud\n",
        "\n",
        "!pip install wordcloud"
      ]
    },
    {
      "cell_type": "code",
      "execution_count": null,
      "metadata": {
        "colab": {
          "base_uri": "https://localhost:8080/"
        },
        "id": "xZoJmkR7EdQe",
        "outputId": "2db3fc70-9b8a-4af4-d840-7426a2fb6937"
      },
      "outputs": [
        {
          "name": "stderr",
          "output_type": "stream",
          "text": [
            "[nltk_data] Downloading package stopwords to /root/nltk_data...\n",
            "[nltk_data]   Unzipping corpora/stopwords.zip.\n",
            "[nltk_data] Downloading package punkt to /root/nltk_data...\n",
            "[nltk_data]   Unzipping tokenizers/punkt.zip.\n",
            "[nltk_data] Downloading package wordnet to /root/nltk_data...\n",
            "[nltk_data] Downloading package omw-1.4 to /root/nltk_data...\n"
          ]
        },
        {
          "data": {
            "text/plain": [
              "True"
            ]
          },
          "execution_count": 91,
          "metadata": {},
          "output_type": "execute_result"
        }
      ],
      "source": [
        "import nltk\n",
        "nltk.download('stopwords')\n",
        "nltk.download('punkt')\n",
        "nltk.download('wordnet')\n",
        "nltk.download('omw-1.4')"
      ]
    },
    {
      "cell_type": "code",
      "execution_count": null,
      "metadata": {
        "id": "syfE-IilDlLO"
      },
      "outputs": [],
      "source": [
        "from nltk.corpus import stopwords\n",
        "from nltk.stem import WordNetLemmatizer\n",
        "from nltk.tokenize import word_tokenize\n",
        "from string import punctuation\n",
        "# from gensim.models import KeyedVectors\n",
        "from nltk.stem import SnowballStemmer\n",
        "from bs4 import BeautifulSoup\n",
        "from nltk.stem.porter import PorterStemmer\n",
        "from sklearn.feature_selection import chi2\n",
        "import chardet\n",
        "from collections import Counter\n",
        "import itertools"
      ]
    },
    {
      "cell_type": "code",
      "execution_count": null,
      "metadata": {
        "id": "yPZLEWJLEVWa"
      },
      "outputs": [],
      "source": [
        "import matplotlib.pyplot as plt\n",
        "import seaborn as sns\n",
        "import matplotlib.style as style\n",
        "from sklearn.metrics import classification_report"
      ]
    },
    {
      "cell_type": "code",
      "execution_count": null,
      "metadata": {
        "id": "Txe9VQh9Eext"
      },
      "outputs": [],
      "source": [
        "# scikit-sklearn\n",
        "from sklearn.model_selection import KFold, cross_val_score, train_test_split\n",
        "from sklearn.metrics import accuracy_score,classification_report, roc_auc_score, log_loss, make_scorer, confusion_matrix\n",
        "from sklearn.model_selection import train_test_split, cross_val_predict, StratifiedKFold\n",
        "from sklearn.metrics import precision_recall_fscore_support as score\n",
        "from sklearn.preprocessing import LabelBinarizer, LabelEncoder, OneHotEncoder,MultiLabelBinarizer\n",
        "from sklearn.metrics import confusion_matrix\n",
        "from sklearn.linear_model import LogisticRegression\n",
        "# from xgboost import XGBClassifier\n",
        "from sklearn.feature_extraction.text import CountVectorizer\n",
        "from sklearn.feature_extraction.text import TfidfVectorizer\n",
        "from sklearn.svm import SVC\n",
        "from sklearn.decomposition import TruncatedSVD\n",
        "from sklearn.linear_model import LogisticRegression\n",
        "from sklearn.ensemble import RandomForestClassifier\n",
        "# import gensim\n",
        "# import scikitplot.plotters as skplt"
      ]
    },
    {
      "cell_type": "code",
      "execution_count": null,
      "metadata": {
        "colab": {
          "base_uri": "https://localhost:8080/"
        },
        "id": "YSv5A4wqEmW5",
        "outputId": "aa16e47d-4841-4921-83ab-f3d5d43aa204"
      },
      "outputs": [
        {
          "name": "stdout",
          "output_type": "stream",
          "text": [
            "You have TensorFlow version 2.11.0\n"
          ]
        }
      ],
      "source": [
        "# deep learning libraries\n",
        "import tensorflow as tf\n",
        "from tensorflow import keras\n",
        "from tensorflow.keras.models import Sequential, Model\n",
        "from tensorflow.keras.layers import Input, concatenate, Dense, Activation, Dropout, Flatten, Embedding, Concatenate, LSTM, Bidirectional, GRU, Conv1D, MaxPooling1D\n",
        "from tensorflow.keras.layers import TimeDistributed\n",
        "from tensorflow.keras.preprocessing.text import Tokenizer,one_hot\n",
        "from tensorflow.keras.preprocessing.sequence import pad_sequences\n",
        "from tensorflow.keras.callbacks import EarlyStopping,ModelCheckpoint, Callback,CSVLogger, ReduceLROnPlateau\n",
        "from tensorflow.keras.preprocessing import text, sequence\n",
        "from tensorflow.keras.optimizers import Adam, RMSprop\n",
        "from tensorflow.keras import utils\n",
        "from tensorflow.keras.callbacks import EarlyStopping,ModelCheckpoint, Callback,CSVLogger\n",
        "from tensorflow.keras.layers.experimental.preprocessing import TextVectorization\n",
        "from tensorflow.keras.layers import SpatialDropout1D\n",
        "# This code was tested with TensorFlow v1.4\n",
        "print(\"You have TensorFlow version\", tf.__version__)"
      ]
    },
    {
      "cell_type": "code",
      "execution_count": null,
      "metadata": {
        "id": "ZLAvM3sA5zX0"
      },
      "outputs": [],
      "source": [
        "!pip install -q -U keras-tuner\n",
        "import kerastuner\n",
        "from kerastuner.tuners import RandomSearch, Hyperband, BayesianOptimization"
      ]
    },
    {
      "cell_type": "code",
      "execution_count": null,
      "metadata": {
        "colab": {
          "base_uri": "https://localhost:8080/",
          "height": 363
        },
        "id": "xcam21seFNKR",
        "outputId": "73f32f8d-4517-4485-eb60-43f52f256dda"
      },
      "outputs": [
        {
          "data": {
            "text/html": [
              "\n",
              "  <div id=\"df-85785e62-1762-48e8-841b-fa4c65744405\">\n",
              "    <div class=\"colab-df-container\">\n",
              "      <div>\n",
              "<style scoped>\n",
              "    .dataframe tbody tr th:only-of-type {\n",
              "        vertical-align: middle;\n",
              "    }\n",
              "\n",
              "    .dataframe tbody tr th {\n",
              "        vertical-align: top;\n",
              "    }\n",
              "\n",
              "    .dataframe thead th {\n",
              "        text-align: right;\n",
              "    }\n",
              "</style>\n",
              "<table border=\"1\" class=\"dataframe\">\n",
              "  <thead>\n",
              "    <tr style=\"text-align: right;\">\n",
              "      <th></th>\n",
              "      <th>ArticleId</th>\n",
              "      <th>Text</th>\n",
              "      <th>Category</th>\n",
              "    </tr>\n",
              "  </thead>\n",
              "  <tbody>\n",
              "    <tr>\n",
              "      <th>1089</th>\n",
              "      <td>388</td>\n",
              "      <td>roddick into san jose final andy roddick will ...</td>\n",
              "      <td>sport</td>\n",
              "    </tr>\n",
              "    <tr>\n",
              "      <th>154</th>\n",
              "      <td>2044</td>\n",
              "      <td>the year search became personal the odds are t...</td>\n",
              "      <td>tech</td>\n",
              "    </tr>\n",
              "    <tr>\n",
              "      <th>97</th>\n",
              "      <td>603</td>\n",
              "      <td>pension hitch for long-living men male life ex...</td>\n",
              "      <td>business</td>\n",
              "    </tr>\n",
              "    <tr>\n",
              "      <th>573</th>\n",
              "      <td>324</td>\n",
              "      <td>blunkett hints at election call ex-home secret...</td>\n",
              "      <td>politics</td>\n",
              "    </tr>\n",
              "    <tr>\n",
              "      <th>690</th>\n",
              "      <td>1965</td>\n",
              "      <td>smith keen on home series return scotland mana...</td>\n",
              "      <td>sport</td>\n",
              "    </tr>\n",
              "    <tr>\n",
              "      <th>727</th>\n",
              "      <td>2217</td>\n",
              "      <td>top stars join us tsunami tv show brad pitt  r...</td>\n",
              "      <td>entertainment</td>\n",
              "    </tr>\n",
              "    <tr>\n",
              "      <th>1124</th>\n",
              "      <td>1799</td>\n",
              "      <td>chepkemei hit by big ban kenya s athletics bod...</td>\n",
              "      <td>sport</td>\n",
              "    </tr>\n",
              "    <tr>\n",
              "      <th>753</th>\n",
              "      <td>1106</td>\n",
              "      <td>gazprom  in $36m back-tax claim  the nuclear u...</td>\n",
              "      <td>business</td>\n",
              "    </tr>\n",
              "    <tr>\n",
              "      <th>1438</th>\n",
              "      <td>155</td>\n",
              "      <td>google s toolbar sparks concern search engine ...</td>\n",
              "      <td>tech</td>\n",
              "    </tr>\n",
              "    <tr>\n",
              "      <th>149</th>\n",
              "      <td>1184</td>\n",
              "      <td>arthur hailey: king of the bestsellers novelis...</td>\n",
              "      <td>entertainment</td>\n",
              "    </tr>\n",
              "  </tbody>\n",
              "</table>\n",
              "</div>\n",
              "      <button class=\"colab-df-convert\" onclick=\"convertToInteractive('df-85785e62-1762-48e8-841b-fa4c65744405')\"\n",
              "              title=\"Convert this dataframe to an interactive table.\"\n",
              "              style=\"display:none;\">\n",
              "        \n",
              "  <svg xmlns=\"http://www.w3.org/2000/svg\" height=\"24px\"viewBox=\"0 0 24 24\"\n",
              "       width=\"24px\">\n",
              "    <path d=\"M0 0h24v24H0V0z\" fill=\"none\"/>\n",
              "    <path d=\"M18.56 5.44l.94 2.06.94-2.06 2.06-.94-2.06-.94-.94-2.06-.94 2.06-2.06.94zm-11 1L8.5 8.5l.94-2.06 2.06-.94-2.06-.94L8.5 2.5l-.94 2.06-2.06.94zm10 10l.94 2.06.94-2.06 2.06-.94-2.06-.94-.94-2.06-.94 2.06-2.06.94z\"/><path d=\"M17.41 7.96l-1.37-1.37c-.4-.4-.92-.59-1.43-.59-.52 0-1.04.2-1.43.59L10.3 9.45l-7.72 7.72c-.78.78-.78 2.05 0 2.83L4 21.41c.39.39.9.59 1.41.59.51 0 1.02-.2 1.41-.59l7.78-7.78 2.81-2.81c.8-.78.8-2.07 0-2.86zM5.41 20L4 18.59l7.72-7.72 1.47 1.35L5.41 20z\"/>\n",
              "  </svg>\n",
              "      </button>\n",
              "      \n",
              "  <style>\n",
              "    .colab-df-container {\n",
              "      display:flex;\n",
              "      flex-wrap:wrap;\n",
              "      gap: 12px;\n",
              "    }\n",
              "\n",
              "    .colab-df-convert {\n",
              "      background-color: #E8F0FE;\n",
              "      border: none;\n",
              "      border-radius: 50%;\n",
              "      cursor: pointer;\n",
              "      display: none;\n",
              "      fill: #1967D2;\n",
              "      height: 32px;\n",
              "      padding: 0 0 0 0;\n",
              "      width: 32px;\n",
              "    }\n",
              "\n",
              "    .colab-df-convert:hover {\n",
              "      background-color: #E2EBFA;\n",
              "      box-shadow: 0px 1px 2px rgba(60, 64, 67, 0.3), 0px 1px 3px 1px rgba(60, 64, 67, 0.15);\n",
              "      fill: #174EA6;\n",
              "    }\n",
              "\n",
              "    [theme=dark] .colab-df-convert {\n",
              "      background-color: #3B4455;\n",
              "      fill: #D2E3FC;\n",
              "    }\n",
              "\n",
              "    [theme=dark] .colab-df-convert:hover {\n",
              "      background-color: #434B5C;\n",
              "      box-shadow: 0px 1px 3px 1px rgba(0, 0, 0, 0.15);\n",
              "      filter: drop-shadow(0px 1px 2px rgba(0, 0, 0, 0.3));\n",
              "      fill: #FFFFFF;\n",
              "    }\n",
              "  </style>\n",
              "\n",
              "      <script>\n",
              "        const buttonEl =\n",
              "          document.querySelector('#df-85785e62-1762-48e8-841b-fa4c65744405 button.colab-df-convert');\n",
              "        buttonEl.style.display =\n",
              "          google.colab.kernel.accessAllowed ? 'block' : 'none';\n",
              "\n",
              "        async function convertToInteractive(key) {\n",
              "          const element = document.querySelector('#df-85785e62-1762-48e8-841b-fa4c65744405');\n",
              "          const dataTable =\n",
              "            await google.colab.kernel.invokeFunction('convertToInteractive',\n",
              "                                                     [key], {});\n",
              "          if (!dataTable) return;\n",
              "\n",
              "          const docLinkHtml = 'Like what you see? Visit the ' +\n",
              "            '<a target=\"_blank\" href=https://colab.research.google.com/notebooks/data_table.ipynb>data table notebook</a>'\n",
              "            + ' to learn more about interactive tables.';\n",
              "          element.innerHTML = '';\n",
              "          dataTable['output_type'] = 'display_data';\n",
              "          await google.colab.output.renderOutput(dataTable, element);\n",
              "          const docLink = document.createElement('div');\n",
              "          docLink.innerHTML = docLinkHtml;\n",
              "          element.appendChild(docLink);\n",
              "        }\n",
              "      </script>\n",
              "    </div>\n",
              "  </div>\n",
              "  "
            ],
            "text/plain": [
              "      ArticleId                                               Text  \\\n",
              "1089        388  roddick into san jose final andy roddick will ...   \n",
              "154        2044  the year search became personal the odds are t...   \n",
              "97          603  pension hitch for long-living men male life ex...   \n",
              "573         324  blunkett hints at election call ex-home secret...   \n",
              "690        1965  smith keen on home series return scotland mana...   \n",
              "727        2217  top stars join us tsunami tv show brad pitt  r...   \n",
              "1124       1799  chepkemei hit by big ban kenya s athletics bod...   \n",
              "753        1106  gazprom  in $36m back-tax claim  the nuclear u...   \n",
              "1438        155  google s toolbar sparks concern search engine ...   \n",
              "149        1184  arthur hailey: king of the bestsellers novelis...   \n",
              "\n",
              "           Category  \n",
              "1089          sport  \n",
              "154            tech  \n",
              "97         business  \n",
              "573        politics  \n",
              "690           sport  \n",
              "727   entertainment  \n",
              "1124          sport  \n",
              "753        business  \n",
              "1438           tech  \n",
              "149   entertainment  "
            ]
          },
          "execution_count": 97,
          "metadata": {},
          "output_type": "execute_result"
        }
      ],
      "source": [
        "\n",
        "# shuffle data\n",
        "import random\n",
        "random_idx_list = [random.randint(1,len(df.Text)) for i in range(10)] # creates random indexes to choose from dataframe\n",
        "df.loc[random_idx_list,:].head(10) # Returns the rows with the index and display it"
      ]
    },
    {
      "cell_type": "code",
      "execution_count": null,
      "metadata": {
        "colab": {
          "base_uri": "https://localhost:8080/",
          "height": 355
        },
        "id": "9dK4HVchsmKo",
        "outputId": "bb457a39-26ee-4e4c-ed75-69d4a62f1d71"
      },
      "outputs": [
        {
          "data": {
            "image/png": "[encoded data removed]",
            "text/plain": [
              "<Figure size 720x360 with 1 Axes>"
            ]
          },
          "metadata": {},
          "output_type": "display_data"
        }
      ],
      "source": [
        "# sns plot\n",
        "sns.set(rc={\"figure.figsize\": (10,5)})\n",
        "ax = sns.countplot(y=\"Category\",data=df)\n",
        "\n",
        "for p in ax.patches:\n",
        "    height = p.get_height()\n",
        "    width = p.get_width()\n",
        "    ax.set_title(\"Category distributions..\")\n",
        "    ax.text(x = width+3,\n",
        "            y = p.get_y() + (height/2),\n",
        "            s = \"{:.0f}\".format(width),\n",
        "            va = \"center\")\n",
        "plt.savefig('Class_dist_Eng.jpeg', format='eps', bbox_inches='tight')"
      ]
    },
    {
      "cell_type": "code",
      "execution_count": null,
      "metadata": {
        "colab": {
          "base_uri": "https://localhost:8080/",
          "height": 504
        },
        "id": "JfYimfOsSMyW",
        "outputId": "08bb78e7-47d3-4ce1-e87b-6922d2583bde"
      },
      "outputs": [
        {
          "name": "stdout",
          "output_type": "stream",
          "text": [
            "Number of rows per star rating:\n",
            "sport            346\n",
            "business         336\n",
            "politics         274\n",
            "entertainment    273\n",
            "tech             261\n",
            "Name: Category, dtype: int64\n"
          ]
        },
        {
          "data": {
            "image/png": "[encoded data removed]",
            "text/plain": [
              "<Figure size 504x360 with 1 Axes>"
            ]
          },
          "metadata": {},
          "output_type": "display_data"
        }
      ],
      "source": [
        "print(\"Number of rows per star rating:\")\n",
        "print(df['Category'].value_counts())\n",
        "plt.figure(figsize=(7, 5))\n",
        "pd.value_counts(df['Category']).plot.bar(title=\"Category distribution\")\n",
        "plt.xlabel(\"Categories\")\n",
        "plt.ylabel(\"No. of records per category\")\n",
        "plt.xticks(rotation = 60)\n",
        "plt.xticks([0,1,2,3,4],['  SPT  ', '  BNS  ', '  PTS  ', '  ETT  ', '  TCH  '])\n",
        "plt.savefig(\"EngClass75_60dgspace_sp.eps\", format = 'eps', dpi= 300, bbox_inches = 'tight')\n",
        "plt.show()"
      ]
    },
    {
      "cell_type": "code",
      "execution_count": null,
      "metadata": {
        "id": "e1MgF3g8FQ_E"
      },
      "outputs": [],
      "source": [
        "\n",
        "stopWords = set(stopwords.words('english'))\n",
        "import string\n",
        "def cleanString(text):\n",
        "#   text = re.sub(r\"[^A-Za-z0-9^,!.\\/'+-=]\", \" \", str(text))\n",
        "\n",
        "    text = re.sub(r\" \\n \", \" \", text)\n",
        "    text = re.sub(r\"what's\", \"what is\", text)\n",
        "    text = re.sub(r\"\\'s\", \" \", text) # remove possessive pronoun terminations:\n",
        "    text = re.sub(r\"\\'ve\", \"have\", text)\n",
        "    text = re.sub(r\"can't\", \"can not\", text)\n",
        "    text = re.sub(r\"aren't\", \"are not\", text)\n",
        "    text = re.sub(r\"couldn't\", \"could not\", text)\n",
        "    text = re.sub(r\"didn't\", \"did not\", text)\n",
        "    text = re.sub(r\"doesn't\", \"does not\", text)\n",
        "    text = re.sub(r\"don't\", \"do not\", text)\n",
        "    text = re.sub(r\"hadn't\", \"had not\", text)\n",
        "    text = re.sub(r\"hasn't\", \"has not\", text)\n",
        "    text = re.sub(r\"haven't\", \"have not\", text)\n",
        "    text = re.sub(r\"isn't\", \"is not\", text)\n",
        "    text = re.sub(r\"shouldn't\", \"should not\", text)\n",
        "    text = re.sub(r\"wasn't\", \"was not\", text)\n",
        "    text = re.sub(r\"weren't\", \"were not\", text)\n",
        "    text = re.sub(r\"won't\", \"will not\", text)\n",
        "    text = re.sub(r\"wouldn't\", \"would not\", text)\n",
        "    text = re.sub(r\"mustn't\", \"must not\", text)\n",
        "    text = re.sub(r\"that's\", \"that is\", text)\n",
        "    text = re.sub(r\"i'm\", \"i am\", text)\n",
        "    text = re.sub(r\"\\'re\", \"are\", text)\n",
        "    text = re.sub(r\",\", \" \", text)\n",
        "    text = re.sub(r\"\\.\", \" \", text)\n",
        "    text = re.sub(r\"!\", \" \", text)\n",
        "    text = re.sub(r\"\\/\", \" \", text)\n",
        "    text = re.sub(r\"\\^\", \" ^ \", text)\n",
        "    text = re.sub(r\"\\+\", \" \", text)\n",
        "    text = re.sub(r\"\\-\", \" - \", text)\n",
        "    text = re.sub(r\"\\= =\", \" \", text)\n",
        "    text = re.sub(r\"\\==\", \" \", text)\n",
        "    text = re.sub(r\"'\", \" \", text)\n",
        "    text = re.sub(r'[^\\x00-\\x7f]+',r' ', text)\n",
        "    text = re.sub(r\"(\\d+)(k)\", r\"\\g<1>000\", text)\n",
        "    text = re.sub(r\"\\0s\", \"0\", text)\n",
        "    text = re.sub(r\" 9 11 \", \"911\", text)\n",
        "    text = re.sub(r\"\\s{2,}\", \" \", text)\n",
        "\n",
        "    ## Convert words to lower case and split them\n",
        "    text = text.lower().split()\n",
        "    text = [w for w in text if not w in stopWords]\n",
        "\n",
        "    # remove punctuation from each word\n",
        "    table = str.maketrans('', '', string.punctuation)\n",
        "    text = [w.translate(table) for w in text]\n",
        "\n",
        "    # Lemmatizer\n",
        "    lemma = WordNetLemmatizer()\n",
        "    text = [lemma.lemmatize(word) for word in text]\n",
        "\n",
        "    text = \" \".join(text)\n",
        "\n",
        "    return text"
      ]
    },
    {
      "cell_type": "code",
      "execution_count": null,
      "metadata": {
        "id": "BdcK39YsFUXX"
      },
      "outputs": [],
      "source": [
        "stop_words = stopwords.words('english')\n",
        "stemmer = SnowballStemmer('english')\n",
        "text_cleaning_re = \"@\\S+|https?:\\S+|http?:\\S|[^A-Za-z0-9]+\"\n"
      ]
    },
    {
      "cell_type": "code",
      "execution_count": null,
      "metadata": {
        "id": "S-Iums-TFXr1"
      },
      "outputs": [],
      "source": [
        "def preprocess(text, stem=False):\n",
        "  text = re.sub(text_cleaning_re, ' ', str(text).lower()).strip()\n",
        "  tokens = []\n",
        "  for token in text.split():\n",
        "    if token not in stop_words:\n",
        "      if stem:\n",
        "        tokens.append(stemmer.stem(token))\n",
        "      else:\n",
        "        tokens.append(token)\n",
        "  return \" \".join(tokens)"
      ]
    },
    {
      "cell_type": "code",
      "execution_count": null,
      "metadata": {
        "id": "j_uF4G4uFb6-"
      },
      "outputs": [],
      "source": [
        "df.Text = df.Text.apply(lambda x: preprocess(x))"
      ]
    },
    {
      "cell_type": "code",
      "execution_count": null,
      "metadata": {
        "id": "1o15BzjlFgBa"
      },
      "outputs": [],
      "source": [
        "df['cleantext'] = df['Text'].map(lambda x: cleanString(x))"
      ]
    },
    {
      "cell_type": "code",
      "execution_count": null,
      "metadata": {
        "id": "YZTdDu9t9kQ0"
      },
      "outputs": [],
      "source": [
        "ent_data = df.loc[df['Category'] == \"entertainment\"]"
      ]
    },
    {
      "cell_type": "code",
      "execution_count": null,
      "metadata": {
        "colab": {
          "base_uri": "https://localhost:8080/",
          "height": 206
        },
        "id": "D47fUiCX9kVU",
        "outputId": "613a17a1-df27-4744-8f5b-ac67c1599ff0"
      },
      "outputs": [
        {
          "data": {
            "text/html": [
              "\n",
              "  <div id=\"df-9efd270e-073d-454b-8294-a319c93231d8\">\n",
              "    <div class=\"colab-df-container\">\n",
              "      <div>\n",
              "<style scoped>\n",
              "    .dataframe tbody tr th:only-of-type {\n",
              "        vertical-align: middle;\n",
              "    }\n",
              "\n",
              "    .dataframe tbody tr th {\n",
              "        vertical-align: top;\n",
              "    }\n",
              "\n",
              "    .dataframe thead th {\n",
              "        text-align: right;\n",
              "    }\n",
              "</style>\n",
              "<table border=\"1\" class=\"dataframe\">\n",
              "  <thead>\n",
              "    <tr style=\"text-align: right;\">\n",
              "      <th></th>\n",
              "      <th>ArticleId</th>\n",
              "      <th>Text</th>\n",
              "      <th>Category</th>\n",
              "      <th>cleantext</th>\n",
              "    </tr>\n",
              "  </thead>\n",
              "  <tbody>\n",
              "    <tr>\n",
              "      <th>7</th>\n",
              "      <td>1797</td>\n",
              "      <td>french honour director parker british film dir...</td>\n",
              "      <td>entertainment</td>\n",
              "      <td>french honour director parker british film dir...</td>\n",
              "    </tr>\n",
              "    <tr>\n",
              "      <th>9</th>\n",
              "      <td>1866</td>\n",
              "      <td>fockers fuel festive film chart comedy meet fo...</td>\n",
              "      <td>entertainment</td>\n",
              "      <td>fockers fuel festive film chart comedy meet fo...</td>\n",
              "    </tr>\n",
              "    <tr>\n",
              "      <th>11</th>\n",
              "      <td>1153</td>\n",
              "      <td>housewives lift channel 4 ratings debut us tel...</td>\n",
              "      <td>entertainment</td>\n",
              "      <td>housewife lift channel 4 rating debut u televi...</td>\n",
              "    </tr>\n",
              "    <tr>\n",
              "      <th>16</th>\n",
              "      <td>342</td>\n",
              "      <td>u2 desire number one u2 three prestigious gram...</td>\n",
              "      <td>entertainment</td>\n",
              "      <td>u2 desire number one u2 three prestigious gram...</td>\n",
              "    </tr>\n",
              "    <tr>\n",
              "      <th>21</th>\n",
              "      <td>177</td>\n",
              "      <td>carry star patsy rowlands dies actress patsy r...</td>\n",
              "      <td>entertainment</td>\n",
              "      <td>carry star patsy rowlands dy actress patsy row...</td>\n",
              "    </tr>\n",
              "  </tbody>\n",
              "</table>\n",
              "</div>\n",
              "      <button class=\"colab-df-convert\" onclick=\"convertToInteractive('df-9efd270e-073d-454b-8294-a319c93231d8')\"\n",
              "              title=\"Convert this dataframe to an interactive table.\"\n",
              "              style=\"display:none;\">\n",
              "        \n",
              "  <svg xmlns=\"http://www.w3.org/2000/svg\" height=\"24px\"viewBox=\"0 0 24 24\"\n",
              "       width=\"24px\">\n",
              "    <path d=\"M0 0h24v24H0V0z\" fill=\"none\"/>\n",
              "    <path d=\"M18.56 5.44l.94 2.06.94-2.06 2.06-.94-2.06-.94-.94-2.06-.94 2.06-2.06.94zm-11 1L8.5 8.5l.94-2.06 2.06-.94-2.06-.94L8.5 2.5l-.94 2.06-2.06.94zm10 10l.94 2.06.94-2.06 2.06-.94-2.06-.94-.94-2.06-.94 2.06-2.06.94z\"/><path d=\"M17.41 7.96l-1.37-1.37c-.4-.4-.92-.59-1.43-.59-.52 0-1.04.2-1.43.59L10.3 9.45l-7.72 7.72c-.78.78-.78 2.05 0 2.83L4 21.41c.39.39.9.59 1.41.59.51 0 1.02-.2 1.41-.59l7.78-7.78 2.81-2.81c.8-.78.8-2.07 0-2.86zM5.41 20L4 18.59l7.72-7.72 1.47 1.35L5.41 20z\"/>\n",
              "  </svg>\n",
              "      </button>\n",
              "      \n",
              "  <style>\n",
              "    .colab-df-container {\n",
              "      display:flex;\n",
              "      flex-wrap:wrap;\n",
              "      gap: 12px;\n",
              "    }\n",
              "\n",
              "    .colab-df-convert {\n",
              "      background-color: #E8F0FE;\n",
              "      border: none;\n",
              "      border-radius: 50%;\n",
              "      cursor: pointer;\n",
              "      display: none;\n",
              "      fill: #1967D2;\n",
              "      height: 32px;\n",
              "      padding: 0 0 0 0;\n",
              "      width: 32px;\n",
              "    }\n",
              "\n",
              "    .colab-df-convert:hover {\n",
              "      background-color: #E2EBFA;\n",
              "      box-shadow: 0px 1px 2px rgba(60, 64, 67, 0.3), 0px 1px 3px 1px rgba(60, 64, 67, 0.15);\n",
              "      fill: #174EA6;\n",
              "    }\n",
              "\n",
              "    [theme=dark] .colab-df-convert {\n",
              "      background-color: #3B4455;\n",
              "      fill: #D2E3FC;\n",
              "    }\n",
              "\n",
              "    [theme=dark] .colab-df-convert:hover {\n",
              "      background-color: #434B5C;\n",
              "      box-shadow: 0px 1px 3px 1px rgba(0, 0, 0, 0.15);\n",
              "      filter: drop-shadow(0px 1px 2px rgba(0, 0, 0, 0.3));\n",
              "      fill: #FFFFFF;\n",
              "    }\n",
              "  </style>\n",
              "\n",
              "      <script>\n",
              "        const buttonEl =\n",
              "          document.querySelector('#df-9efd270e-073d-454b-8294-a319c93231d8 button.colab-df-convert');\n",
              "        buttonEl.style.display =\n",
              "          google.colab.kernel.accessAllowed ? 'block' : 'none';\n",
              "\n",
              "        async function convertToInteractive(key) {\n",
              "          const element = document.querySelector('#df-9efd270e-073d-454b-8294-a319c93231d8');\n",
              "          const dataTable =\n",
              "            await google.colab.kernel.invokeFunction('convertToInteractive',\n",
              "                                                     [key], {});\n",
              "          if (!dataTable) return;\n",
              "\n",
              "          const docLinkHtml = 'Like what you see? Visit the ' +\n",
              "            '<a target=\"_blank\" href=https://colab.research.google.com/notebooks/data_table.ipynb>data table notebook</a>'\n",
              "            + ' to learn more about interactive tables.';\n",
              "          element.innerHTML = '';\n",
              "          dataTable['output_type'] = 'display_data';\n",
              "          await google.colab.output.renderOutput(dataTable, element);\n",
              "          const docLink = document.createElement('div');\n",
              "          docLink.innerHTML = docLinkHtml;\n",
              "          element.appendChild(docLink);\n",
              "        }\n",
              "      </script>\n",
              "    </div>\n",
              "  </div>\n",
              "  "
            ],
            "text/plain": [
              "    ArticleId                                               Text  \\\n",
              "7        1797  french honour director parker british film dir...   \n",
              "9        1866  fockers fuel festive film chart comedy meet fo...   \n",
              "11       1153  housewives lift channel 4 ratings debut us tel...   \n",
              "16        342  u2 desire number one u2 three prestigious gram...   \n",
              "21        177  carry star patsy rowlands dies actress patsy r...   \n",
              "\n",
              "         Category                                          cleantext  \n",
              "7   entertainment  french honour director parker british film dir...  \n",
              "9   entertainment  fockers fuel festive film chart comedy meet fo...  \n",
              "11  entertainment  housewife lift channel 4 rating debut u televi...  \n",
              "16  entertainment  u2 desire number one u2 three prestigious gram...  \n",
              "21  entertainment  carry star patsy rowlands dy actress patsy row...  "
            ]
          },
          "execution_count": 104,
          "metadata": {},
          "output_type": "execute_result"
        }
      ],
      "source": [
        "ent_data.head()"
      ]
    },
    {
      "cell_type": "markdown",
      "metadata": {
        "id": "g14GoQiBCnyD"
      },
      "source": [
        "# Training with 300 embeddings of VecMap"
      ]
    },
    {
      "cell_type": "code",
      "execution_count": null,
      "metadata": {
        "id": "VniWNwsUGGjB"
      },
      "outputs": [],
      "source": [
        "vectorizer = TextVectorization(max_tokens=50000, output_sequence_length=300)\n",
        "vectorizer.adapt(df['cleantext'].to_numpy())"
      ]
    },
    {
      "cell_type": "code",
      "execution_count": null,
      "metadata": {
        "colab": {
          "base_uri": "https://localhost:8080/"
        },
        "id": "HjoWM95XGSVh",
        "outputId": "87fa87bd-c18b-406d-ebcc-d59d7483c37c"
      },
      "outputs": [
        {
          "data": {
            "text/plain": [
              "array([    1,  5092,  9264,     1,     1, 12156])"
            ]
          },
          "execution_count": 106,
          "metadata": {},
          "output_type": "execute_result"
        }
      ],
      "source": [
        "output = vectorizer([[\"the cat sat on the mat\"]])\n",
        "output.numpy()[0, :6]"
      ]
    },
    {
      "cell_type": "code",
      "execution_count": null,
      "metadata": {
        "id": "0qw9zs4PGYp4"
      },
      "outputs": [],
      "source": [
        "voc = vectorizer.get_vocabulary()\n",
        "word_index = dict(zip(voc, range(len(voc))))"
      ]
    },
    {
      "cell_type": "markdown",
      "metadata": {
        "id": "1ZJc9RDBuVe3"
      },
      "source": [
        "Path to embeddings\n"
      ]
    },
    {
      "cell_type": "markdown",
      "metadata": {
        "id": "exQyv9SeyddH"
      },
      "source": [
        "# Cross Emb of 300 dimension created from Fasttext and FastText embeddings\n"
      ]
    },
    {
      "cell_type": "markdown",
      "metadata": {
        "id": "TeXE5hN54nyE"
      },
      "source": [
        "## First embedding with the FFNN model"
      ]
    },
    {
      "cell_type": "code",
      "execution_count": null,
      "metadata": {
        "colab": {
          "base_uri": "https://localhost:8080/"
        },
        "id": "bskqM5iSq3vt",
        "outputId": "4aa6992c-c8c9-459b-ef4b-7ed7cdcc7705"
      },
      "outputs": [
        {
          "name": "stdout",
          "output_type": "stream",
          "text": [
            "Found 500000 word vectors.\n"
          ]
        }
      ],
      "source": [
        "# Embeddings with 300 dimension and small vocab from 200d compression\n",
        "path_to_glove_file300d = '/content/drive/MyDrive/CrosslingualModels/Paper2Embeddings/vecmap_fast_fast300d/'\n",
        "embeddings_index = {}\n",
        "with open(path_to_glove_file300d) as f:\n",
        "    for line in f:\n",
        "        word, coefs = line.split(maxsplit=1)\n",
        "        coefs = np.fromstring(coefs, \"f\", sep=\" \")\n",
        "        embeddings_index[word] = coefs\n",
        "print(\"Found %s word vectors.\" % len(embeddings_index))"
      ]
    },
    {
      "cell_type": "code",
      "execution_count": null,
      "metadata": {
        "colab": {
          "base_uri": "https://localhost:8080/"
        },
        "id": "ik32bjwFGhUi",
        "outputId": "6fbb2dd2-826b-4dd7-9d9c-ebc8344a0d49"
      },
      "outputs": [
        {
          "name": "stdout",
          "output_type": "stream",
          "text": [
            "Converted 17439 words (4644 misses)\n"
          ]
        }
      ],
      "source": [
        "num_tokens = len(voc) + 2\n",
        "embedding_dim = 300\n",
        "hits = 0\n",
        "misses = 0\n",
        "input_size = 300\n",
        "# Prepare embedding matrix\n",
        "embedding_matrix = np.zeros((num_tokens, embedding_dim))\n",
        "for word, i in word_index.items():\n",
        "    embedding_vector = embeddings_index.get(word)\n",
        "    if embedding_vector is not None:\n",
        "        # Words not found in embedding index will be all-zeros.\n",
        "        # This includes the representation for \"padding\" and \"OOV\"\n",
        "        embedding_matrix[i] = embedding_vector\n",
        "        hits += 1\n",
        "    else:\n",
        "        misses += 1\n",
        "print(\"Converted %d words (%d misses)\" % (hits, misses))"
      ]
    },
    {
      "cell_type": "markdown",
      "metadata": {
        "id": "pEDcnvkmCcNU"
      },
      "source": [
        "## True"
      ]
    },
    {
      "cell_type": "code",
      "execution_count": null,
      "metadata": {
        "id": "kxLW1VW8j07D"
      },
      "outputs": [],
      "source": [
        "# embedding_matrix[5:6]"
      ]
    },
    {
      "cell_type": "code",
      "execution_count": null,
      "metadata": {
        "id": "Ge2q_OR-za_m"
      },
      "outputs": [],
      "source": [
        "embedding_layer_word_file200d = Embedding(num_tokens,embedding_dim,\n",
        "                                 embeddings_initializer=keras.initializers.Constant(embedding_matrix),\n",
        "                                 trainable=False)"
      ]
    },
    {
      "cell_type": "markdown",
      "metadata": {
        "id": "vE07Qi-W5WPL"
      },
      "source": [
        "# Feed forward NN"
      ]
    },
    {
      "cell_type": "code",
      "execution_count": null,
      "metadata": {
        "id": "eTRLLb6oijh7"
      },
      "outputs": [],
      "source": [
        "# !pip install keras-tuner\n",
        "BATCH_SIZE = 64\n",
        "num_epochs = 125"
      ]
    },
    {
      "cell_type": "code",
      "execution_count": null,
      "metadata": {
        "id": "dEnpOKZ7jXo_"
      },
      "outputs": [],
      "source": [
        "# define cnn model\n",
        "def build_model(hp):\n",
        "  model = Sequential()\n",
        "  int_sequences_input = keras.Input(shape=(300,), dtype=\"int64\") # word embedding shape\n",
        "  embedding_sequence_file200d = embedding_layer_word_file200d(int_sequences_input)\n",
        "  # x = SpatialDropout1D(0.2)(embedding_sequence_file200d)\n",
        "  x = tf.keras.layers.SpatialDropout1D(\n",
        "      hp.Float('sdropout', 0.1, 0.5, step=0.1, default=0.1))(embedding_sequence_file200d)\n",
        "  x = Flatten()(x)\n",
        "  hp_units1 = hp.Int('units1', 8, 16, step=2, default=8)\n",
        "  # x = Dense(16, activation='relu')(x)\n",
        "  x = Dense(units=hp_units1, activation='relu')(x)\n",
        "  # x = Dropout(0.4)(x)\n",
        "  x = Dropout(hp.Float('dropout',0.1,0.5,step=0.1,default=0.1))(x)\n",
        "  # compile model\n",
        "  outputs = Dense(5, activation='softmax')(x)\n",
        "  hp_learning_rate = hp.Choice('learning_rate', values=[1e-2, 1e-3, 1e-4])\n",
        "  opt = Adam(learning_rate=hp_learning_rate)\n",
        "  model = Model(int_sequences_input, outputs)\n",
        "  model.compile(optimizer=opt, loss='categorical_crossentropy', metrics=['accuracy'])\n",
        "  return model\n"
      ]
    },
    {
      "cell_type": "code",
      "execution_count": null,
      "metadata": {
        "id": "nPMBGVMQkK4y"
      },
      "outputs": [],
      "source": [
        "\n",
        "tuner = BayesianOptimization(build_model,objective='val_accuracy',max_trials=5)"
      ]
    },
    {
      "cell_type": "code",
      "execution_count": null,
      "metadata": {
        "id": "cC5lvL4impAu"
      },
      "outputs": [],
      "source": [
        "import numpy as np\n",
        "from tensorflow.keras.utils import to_categorical\n",
        "### Categorical data to be converted to numeric data\n",
        "train_classes = df.Category.tolist()\n",
        "\n",
        "### Universal list of colors\n",
        "total_cat =  df['Category'].unique()\n",
        "\n",
        "### map each color to an integer\n",
        "mapping = {}\n",
        "for x in range(len(total_cat)):\n",
        "  mapping[total_cat[x]] = x\n",
        "\n",
        "# integer representation\n",
        "for x in range(len(train_classes)):\n",
        "  train_classes[x] = mapping[train_classes[x]]\n",
        "\n",
        "one_hot_encode = to_categorical(train_classes)\n",
        "# print(one_hot_encode[0:10])"
      ]
    },
    {
      "cell_type": "code",
      "execution_count": null,
      "metadata": {
        "id": "WxB0w-qnmpDx"
      },
      "outputs": [],
      "source": [
        "np.random.seed(42)\n",
        "shuffle_indices = np.random.permutation(np.arange(len(one_hot_encode)))\n",
        "x_shuffled = df['Text'][shuffle_indices]\n",
        "y_shuffled = one_hot_encode[shuffle_indices]\n",
        "# Split train and test\n",
        "training_rate = 0.8\n",
        "train_len = int(len(one_hot_encode) * training_rate)\n",
        "# train data\n",
        "x_train = x_shuffled[:train_len]\n",
        "y_train = y_shuffled[:train_len]\n",
        "# test data\n",
        "x_test = x_shuffled[train_len:]\n",
        "y_test = y_shuffled[train_len:]"
      ]
    },
    {
      "cell_type": "code",
      "execution_count": null,
      "metadata": {
        "colab": {
          "base_uri": "https://localhost:8080/"
        },
        "id": "FmoDFYyQmpHK",
        "outputId": "492af950-d49c-4ba4-b764-02cd864a4452"
      },
      "outputs": [
        {
          "name": "stdout",
          "output_type": "stream",
          "text": [
            "x_train shape: (1192,)\n",
            "y_train shape: (1192, 5)\n",
            "x_test shape: (298,)\n",
            "y_test shape: (298, 5)\n"
          ]
        }
      ],
      "source": [
        "print(\"x_train shape:\", x_train.shape)\n",
        "print(\"y_train shape:\", y_train.shape)\n",
        "print(\"x_test shape:\", x_test.shape)\n",
        "print(\"y_test shape:\", y_test.shape)"
      ]
    },
    {
      "cell_type": "code",
      "execution_count": null,
      "metadata": {
        "id": "yvqgGhJymzXU"
      },
      "outputs": [],
      "source": [
        "x_trainvec = vectorizer(np.array([[s] for s in x_train])).numpy()\n",
        "x_valvec = vectorizer(np.array([[s] for s in x_test])).numpy()"
      ]
    },
    {
      "cell_type": "code",
      "execution_count": null,
      "metadata": {
        "id": "G3YJNMZjU2s7"
      },
      "outputs": [],
      "source": [
        "tuner.search(x_trainvec, y_train,batch_size=BATCH_SIZE,\n",
        "             epochs=num_epochs,\n",
        "             validation_data=(x_valvec, y_test))"
      ]
    },
    {
      "cell_type": "code",
      "execution_count": null,
      "metadata": {
        "colab": {
          "base_uri": "https://localhost:8080/"
        },
        "id": "ssmwkz2vnMzp",
        "outputId": "769ba1f1-45ce-4711-ee8f-9bb526e0e1e7"
      },
      "outputs": [
        {
          "name": "stdout",
          "output_type": "stream",
          "text": [
            "Results summary\n",
            "Results in ./untitled_project\n",
            "Showing 10 best trials\n",
            "<keras_tuner.engine.objective.Objective object at 0x7ff6103ab490>\n",
            "Trial summary\n",
            "Hyperparameters:\n",
            "sdropout: 0.1\n",
            "units1: 16\n",
            "dropout: 0.1\n",
            "learning_rate: 0.01\n",
            "Score: 0.8691275119781494\n",
            "Trial summary\n",
            "Hyperparameters:\n",
            "sdropout: 0.30000000000000004\n",
            "units1: 16\n",
            "dropout: 0.2\n",
            "learning_rate: 0.001\n",
            "Score: 0.8657718300819397\n",
            "Trial summary\n",
            "Hyperparameters:\n",
            "sdropout: 0.30000000000000004\n",
            "units1: 12\n",
            "dropout: 0.2\n",
            "learning_rate: 0.01\n",
            "Score: 0.8389261960983276\n",
            "Trial summary\n",
            "Hyperparameters:\n",
            "sdropout: 0.30000000000000004\n",
            "units1: 10\n",
            "dropout: 0.2\n",
            "learning_rate: 0.01\n",
            "Score: 0.8221476674079895\n",
            "Trial summary\n",
            "Hyperparameters:\n",
            "sdropout: 0.5\n",
            "units1: 16\n",
            "dropout: 0.5\n",
            "learning_rate: 0.0001\n",
            "Score: 0.8053691387176514\n"
          ]
        }
      ],
      "source": [
        "tuner.results_summary()"
      ]
    },
    {
      "cell_type": "code",
      "execution_count": null,
      "metadata": {
        "colab": {
          "base_uri": "https://localhost:8080/"
        },
        "id": "34PlD10eHHN_",
        "outputId": "61b1ed5d-6155-49d1-cf9f-8bc51231dc6e"
      },
      "outputs": [
        {
          "name": "stdout",
          "output_type": "stream",
          "text": [
            "{'sdropout': 0.1, 'units1': 16, 'dropout': 0.1, 'learning_rate': 0.01}\n"
          ]
        }
      ],
      "source": [
        "# Get the optimal hyperparameters\n",
        "best_hps = tuner.get_best_hyperparameters(num_trials = 1)[0]\n",
        "print(best_hps.values)"
      ]
    },
    {
      "cell_type": "code",
      "execution_count": null,
      "metadata": {
        "id": "epr44RIj0WEu"
      },
      "outputs": [],
      "source": [
        "# model svaing\n",
        "filepath = '/content/drive/MyDrive/CrosslingualModels/Paper2Results/vecmap/'\n",
        "# saving fitting accuracy and others\n",
        "csv_logger = CSVLogger(filepath+'CrosslingualModel_FandFVec300d.csv', append=True, separator=';')\n",
        "check_point = ModelCheckpoint(filepath+'CrosslingualModel_FandFVec300d.h5', save_best_only=True, save_weights_only=True)\n",
        "calls = [csv_logger,check_point]"
      ]
    },
    {
      "cell_type": "code",
      "execution_count": null,
      "metadata": {
        "colab": {
          "base_uri": "https://localhost:8080/"
        },
        "id": "JdwYckB05831",
        "outputId": "1460ba8f-871e-40f7-9827-50e019e34b86"
      },
      "outputs": [
        {
          "name": "stdout",
          "output_type": "stream",
          "text": [
            "Model: \"model\"\n",
            "_________________________________________________________________\n",
            " Layer (type)                Output Shape              Param #   \n",
            "=================================================================\n",
            " input_1 (InputLayer)        [(None, 300)]             0         \n",
            "                                                                 \n",
            " embedding (Embedding)       (None, 300, 300)          6625500   \n",
            "                                                                 \n",
            " spatial_dropout1d (SpatialD  (None, 300, 300)         0         \n",
            " ropout1D)                                                       \n",
            "                                                                 \n",
            " flatten (Flatten)           (None, 90000)             0         \n",
            "                                                                 \n",
            " dense (Dense)               (None, 16)                1440016   \n",
            "                                                                 \n",
            " dropout (Dropout)           (None, 16)                0         \n",
            "                                                                 \n",
            " dense_1 (Dense)             (None, 5)                 85        \n",
            "                                                                 \n",
            "=================================================================\n",
            "Total params: 8,065,601\n",
            "Trainable params: 1,440,101\n",
            "Non-trainable params: 6,625,500\n",
            "_________________________________________________________________\n"
          ]
        }
      ],
      "source": [
        "# #\n",
        "\n",
        "# # define cnn model\n",
        "# def create_model():\n",
        "#   model = Sequential()\n",
        "#   int_sequences_input = keras.Input(shape=(300,), dtype=\"int64\") # word embedding shape\n",
        "#   embedding_sequence_file200d = embedding_layer_word_file200d(int_sequences_input)\n",
        "#   x = SpatialDropout1D(0.1)(embedding_sequence_file200d)\n",
        "#   x = Flatten()(x)\n",
        "#   # hp_units1 = hp.Int('units1', 8, 16, step=2, default=4)\n",
        "#   x = Dense(16, activation='relu')(x)\n",
        "#   # x = Dense(units=hp_units1, activation='relu')(x)\n",
        "#   x = Dropout(0.1)(x)\n",
        "#   # x = Dropout(hp.Float('dropout',0.1,0.5,step=0.1,default=0.1))(x)\n",
        "#   # compile model\n",
        "#   outputs = Dense(5, activation='softmax')(x)\n",
        "#   hp_learning_rate = 0.01\n",
        "#   opt = Adam(learning_rate=hp_learning_rate)\n",
        "#   model = Model(int_sequences_input, outputs)\n",
        "#   model.compile(optimizer=opt, loss='categorical_crossentropy', metrics=['accuracy'])\n",
        "#   return model\n",
        "\n",
        "# # Create a basic model instance\n",
        "# model = create_model()\n",
        "\n",
        "# # Display the model's architecture\n",
        "# model.summary()"
      ]
    },
    {
      "cell_type": "code",
      "execution_count": null,
      "metadata": {
        "colab": {
          "base_uri": "https://localhost:8080/"
        },
        "id": "WW2Jm9ronM5Y",
        "outputId": "053e449c-8386-4753-92e4-f56430bac05a"
      },
      "outputs": [
        {
          "name": "stdout",
          "output_type": "stream",
          "text": [
            "Epoch 1/125\n",
            "19/19 [==============================] - 3s 20ms/step - loss: 1.2207 - accuracy: 0.5109 - val_loss: 0.6730 - val_accuracy: 0.7517\n",
            "Epoch 2/125\n",
            "19/19 [==============================] - 0s 11ms/step - loss: 0.3570 - accuracy: 0.8742 - val_loss: 0.4633 - val_accuracy: 0.8490\n",
            "Epoch 3/125\n",
            "19/19 [==============================] - 0s 10ms/step - loss: 0.1710 - accuracy: 0.9253 - val_loss: 0.4465 - val_accuracy: 0.8456\n",
            "Epoch 4/125\n",
            "19/19 [==============================] - 0s 11ms/step - loss: 0.1166 - accuracy: 0.9539 - val_loss: 0.3908 - val_accuracy: 0.8523\n",
            "Epoch 5/125\n",
            "19/19 [==============================] - 0s 11ms/step - loss: 0.1240 - accuracy: 0.9421 - val_loss: 0.3845 - val_accuracy: 0.8591\n",
            "Epoch 6/125\n",
            "19/19 [==============================] - 0s 6ms/step - loss: 0.0842 - accuracy: 0.9639 - val_loss: 0.4451 - val_accuracy: 0.8523\n",
            "Epoch 7/125\n",
            "19/19 [==============================] - 0s 6ms/step - loss: 0.0811 - accuracy: 0.9757 - val_loss: 0.4657 - val_accuracy: 0.8490\n",
            "Epoch 8/125\n",
            "19/19 [==============================] - 0s 6ms/step - loss: 0.0794 - accuracy: 0.9782 - val_loss: 0.4553 - val_accuracy: 0.8289\n",
            "Epoch 9/125\n",
            "19/19 [==============================] - 0s 5ms/step - loss: 0.0635 - accuracy: 0.9782 - val_loss: 0.5301 - val_accuracy: 0.8490\n",
            "Epoch 10/125\n",
            "19/19 [==============================] - 0s 6ms/step - loss: 0.0626 - accuracy: 0.9773 - val_loss: 0.4659 - val_accuracy: 0.8389\n",
            "Epoch 11/125\n",
            "19/19 [==============================] - 0s 6ms/step - loss: 0.0462 - accuracy: 0.9832 - val_loss: 0.5246 - val_accuracy: 0.8490\n",
            "Epoch 12/125\n",
            "19/19 [==============================] - 0s 6ms/step - loss: 0.0591 - accuracy: 0.9815 - val_loss: 0.4510 - val_accuracy: 0.8523\n",
            "Epoch 13/125\n",
            "19/19 [==============================] - 0s 6ms/step - loss: 0.0538 - accuracy: 0.9841 - val_loss: 0.4087 - val_accuracy: 0.8591\n",
            "Epoch 14/125\n",
            "19/19 [==============================] - 0s 6ms/step - loss: 0.0877 - accuracy: 0.9807 - val_loss: 0.6920 - val_accuracy: 0.8087\n",
            "Epoch 15/125\n",
            "19/19 [==============================] - 0s 5ms/step - loss: 0.0556 - accuracy: 0.9807 - val_loss: 0.5599 - val_accuracy: 0.8490\n",
            "Epoch 16/125\n",
            "19/19 [==============================] - 0s 6ms/step - loss: 0.0567 - accuracy: 0.9874 - val_loss: 0.4622 - val_accuracy: 0.8624\n",
            "Epoch 17/125\n",
            "19/19 [==============================] - 0s 6ms/step - loss: 0.0395 - accuracy: 0.9857 - val_loss: 0.5121 - val_accuracy: 0.8557\n",
            "Epoch 18/125\n",
            "19/19 [==============================] - 0s 6ms/step - loss: 0.0353 - accuracy: 0.9874 - val_loss: 0.5665 - val_accuracy: 0.8389\n",
            "Epoch 19/125\n",
            "19/19 [==============================] - 0s 6ms/step - loss: 0.0279 - accuracy: 0.9891 - val_loss: 0.5910 - val_accuracy: 0.8490\n",
            "Epoch 20/125\n",
            "19/19 [==============================] - 0s 6ms/step - loss: 0.0377 - accuracy: 0.9874 - val_loss: 0.5057 - val_accuracy: 0.8456\n",
            "Epoch 21/125\n",
            "19/19 [==============================] - 0s 6ms/step - loss: 0.0402 - accuracy: 0.9841 - val_loss: 0.4727 - val_accuracy: 0.8691\n",
            "Epoch 22/125\n",
            "19/19 [==============================] - 0s 6ms/step - loss: 0.0490 - accuracy: 0.9857 - val_loss: 0.6750 - val_accuracy: 0.8087\n",
            "Epoch 23/125\n",
            "19/19 [==============================] - 0s 6ms/step - loss: 0.0384 - accuracy: 0.9874 - val_loss: 0.5347 - val_accuracy: 0.8389\n",
            "Epoch 24/125\n",
            "19/19 [==============================] - 0s 6ms/step - loss: 0.0363 - accuracy: 0.9857 - val_loss: 0.4874 - val_accuracy: 0.8523\n",
            "Epoch 25/125\n",
            "19/19 [==============================] - 0s 6ms/step - loss: 0.0404 - accuracy: 0.9832 - val_loss: 0.5517 - val_accuracy: 0.8456\n",
            "Epoch 26/125\n",
            "19/19 [==============================] - 0s 6ms/step - loss: 0.0499 - accuracy: 0.9849 - val_loss: 0.5796 - val_accuracy: 0.8356\n",
            "Epoch 27/125\n",
            "19/19 [==============================] - 0s 6ms/step - loss: 0.0525 - accuracy: 0.9815 - val_loss: 0.6319 - val_accuracy: 0.8221\n",
            "Epoch 28/125\n",
            "19/19 [==============================] - 0s 6ms/step - loss: 0.0378 - accuracy: 0.9883 - val_loss: 0.6277 - val_accuracy: 0.8423\n",
            "Epoch 29/125\n",
            "19/19 [==============================] - 0s 5ms/step - loss: 0.0257 - accuracy: 0.9899 - val_loss: 0.6056 - val_accuracy: 0.8725\n",
            "Epoch 30/125\n",
            "19/19 [==============================] - 0s 6ms/step - loss: 0.0205 - accuracy: 0.9941 - val_loss: 0.5425 - val_accuracy: 0.8624\n",
            "Epoch 31/125\n",
            "19/19 [==============================] - 0s 5ms/step - loss: 0.0347 - accuracy: 0.9924 - val_loss: 0.6524 - val_accuracy: 0.8289\n",
            "Epoch 32/125\n",
            "19/19 [==============================] - 0s 6ms/step - loss: 0.0441 - accuracy: 0.9874 - val_loss: 1.0568 - val_accuracy: 0.7450\n",
            "Epoch 33/125\n",
            "19/19 [==============================] - 0s 6ms/step - loss: 0.0581 - accuracy: 0.9824 - val_loss: 0.7003 - val_accuracy: 0.8121\n",
            "Epoch 34/125\n",
            "19/19 [==============================] - 0s 6ms/step - loss: 0.0388 - accuracy: 0.9883 - val_loss: 0.5198 - val_accuracy: 0.8322\n",
            "Epoch 35/125\n",
            "19/19 [==============================] - 0s 6ms/step - loss: 0.0298 - accuracy: 0.9916 - val_loss: 0.7471 - val_accuracy: 0.8087\n",
            "Epoch 36/125\n",
            "19/19 [==============================] - 0s 6ms/step - loss: 0.0304 - accuracy: 0.9891 - val_loss: 0.5171 - val_accuracy: 0.8792\n",
            "Epoch 37/125\n",
            "19/19 [==============================] - 0s 6ms/step - loss: 0.0236 - accuracy: 0.9916 - val_loss: 0.5463 - val_accuracy: 0.8792\n",
            "Epoch 38/125\n",
            "19/19 [==============================] - 0s 6ms/step - loss: 0.0288 - accuracy: 0.9849 - val_loss: 0.5874 - val_accuracy: 0.8591\n",
            "Epoch 39/125\n",
            "19/19 [==============================] - 0s 6ms/step - loss: 0.0376 - accuracy: 0.9849 - val_loss: 0.7547 - val_accuracy: 0.8423\n",
            "Epoch 40/125\n",
            "19/19 [==============================] - 0s 6ms/step - loss: 0.0334 - accuracy: 0.9941 - val_loss: 0.6762 - val_accuracy: 0.8591\n",
            "Epoch 41/125\n",
            "19/19 [==============================] - 0s 7ms/step - loss: 0.0315 - accuracy: 0.9899 - val_loss: 0.7648 - val_accuracy: 0.8356\n",
            "Epoch 42/125\n",
            "19/19 [==============================] - 0s 6ms/step - loss: 0.0195 - accuracy: 0.9950 - val_loss: 1.0815 - val_accuracy: 0.7852\n",
            "Epoch 43/125\n",
            "19/19 [==============================] - 0s 6ms/step - loss: 0.0276 - accuracy: 0.9883 - val_loss: 0.5971 - val_accuracy: 0.8523\n",
            "Epoch 44/125\n",
            "19/19 [==============================] - 0s 6ms/step - loss: 0.0258 - accuracy: 0.9933 - val_loss: 1.0834 - val_accuracy: 0.7752\n",
            "Epoch 45/125\n",
            "19/19 [==============================] - 0s 6ms/step - loss: 0.0393 - accuracy: 0.9883 - val_loss: 0.8159 - val_accuracy: 0.8356\n",
            "Epoch 46/125\n",
            "19/19 [==============================] - 0s 6ms/step - loss: 0.0316 - accuracy: 0.9908 - val_loss: 0.7134 - val_accuracy: 0.8389\n",
            "Epoch 47/125\n",
            "19/19 [==============================] - 0s 6ms/step - loss: 0.0371 - accuracy: 0.9891 - val_loss: 0.6413 - val_accuracy: 0.8456\n",
            "Epoch 48/125\n",
            "19/19 [==============================] - 0s 6ms/step - loss: 0.0285 - accuracy: 0.9916 - val_loss: 0.7290 - val_accuracy: 0.8523\n",
            "Epoch 49/125\n",
            "19/19 [==============================] - 0s 6ms/step - loss: 0.0793 - accuracy: 0.9849 - val_loss: 0.6360 - val_accuracy: 0.8624\n",
            "Epoch 50/125\n",
            "19/19 [==============================] - 0s 6ms/step - loss: 0.0325 - accuracy: 0.9883 - val_loss: 0.6970 - val_accuracy: 0.8121\n",
            "Epoch 51/125\n",
            "19/19 [==============================] - 0s 6ms/step - loss: 0.0383 - accuracy: 0.9841 - val_loss: 0.7493 - val_accuracy: 0.8255\n",
            "Epoch 52/125\n",
            "19/19 [==============================] - 0s 7ms/step - loss: 0.0231 - accuracy: 0.9933 - val_loss: 0.8329 - val_accuracy: 0.7987\n",
            "Epoch 53/125\n",
            "19/19 [==============================] - 0s 6ms/step - loss: 0.0337 - accuracy: 0.9883 - val_loss: 0.7285 - val_accuracy: 0.8289\n",
            "Epoch 54/125\n",
            "19/19 [==============================] - 0s 6ms/step - loss: 0.0718 - accuracy: 0.9883 - val_loss: 0.9474 - val_accuracy: 0.8389\n",
            "Epoch 55/125\n",
            "19/19 [==============================] - 0s 6ms/step - loss: 0.0273 - accuracy: 0.9883 - val_loss: 0.7755 - val_accuracy: 0.8322\n",
            "Epoch 56/125\n",
            "19/19 [==============================] - 0s 6ms/step - loss: 0.0552 - accuracy: 0.9824 - val_loss: 0.7715 - val_accuracy: 0.8188\n",
            "Epoch 57/125\n",
            "19/19 [==============================] - 0s 6ms/step - loss: 0.0816 - accuracy: 0.9857 - val_loss: 0.8933 - val_accuracy: 0.8020\n",
            "Epoch 58/125\n",
            "19/19 [==============================] - 0s 6ms/step - loss: 0.1230 - accuracy: 0.9824 - val_loss: 0.8700 - val_accuracy: 0.8221\n",
            "Epoch 59/125\n",
            "19/19 [==============================] - 0s 6ms/step - loss: 0.0386 - accuracy: 0.9899 - val_loss: 1.1021 - val_accuracy: 0.7785\n",
            "Epoch 60/125\n",
            "19/19 [==============================] - 0s 6ms/step - loss: 0.1046 - accuracy: 0.9706 - val_loss: 0.7125 - val_accuracy: 0.8188\n",
            "Epoch 61/125\n",
            "19/19 [==============================] - 0s 6ms/step - loss: 0.0493 - accuracy: 0.9832 - val_loss: 0.9046 - val_accuracy: 0.7953\n",
            "Epoch 62/125\n",
            "19/19 [==============================] - 0s 6ms/step - loss: 0.0239 - accuracy: 0.9916 - val_loss: 0.8614 - val_accuracy: 0.8322\n",
            "Epoch 63/125\n",
            "19/19 [==============================] - 0s 6ms/step - loss: 0.0219 - accuracy: 0.9941 - val_loss: 1.1948 - val_accuracy: 0.8188\n",
            "Epoch 64/125\n",
            "19/19 [==============================] - 0s 6ms/step - loss: 0.0884 - accuracy: 0.9866 - val_loss: 1.1356 - val_accuracy: 0.7886\n",
            "Epoch 65/125\n",
            "19/19 [==============================] - 0s 6ms/step - loss: 0.0417 - accuracy: 0.9883 - val_loss: 0.6930 - val_accuracy: 0.8289\n",
            "Epoch 66/125\n",
            "19/19 [==============================] - 0s 6ms/step - loss: 0.0269 - accuracy: 0.9924 - val_loss: 0.9313 - val_accuracy: 0.8154\n",
            "Epoch 67/125\n",
            "19/19 [==============================] - 0s 6ms/step - loss: 0.0204 - accuracy: 0.9941 - val_loss: 0.8991 - val_accuracy: 0.8456\n",
            "Epoch 68/125\n",
            "19/19 [==============================] - 0s 6ms/step - loss: 0.0327 - accuracy: 0.9908 - val_loss: 0.9836 - val_accuracy: 0.8389\n",
            "Epoch 69/125\n",
            "19/19 [==============================] - 0s 6ms/step - loss: 0.0329 - accuracy: 0.9891 - val_loss: 0.9605 - val_accuracy: 0.8121\n",
            "Epoch 70/125\n",
            "19/19 [==============================] - 0s 6ms/step - loss: 0.0407 - accuracy: 0.9874 - val_loss: 0.9736 - val_accuracy: 0.8154\n",
            "Epoch 71/125\n",
            "19/19 [==============================] - 0s 6ms/step - loss: 0.0533 - accuracy: 0.9866 - val_loss: 1.0590 - val_accuracy: 0.8087\n",
            "Epoch 72/125\n",
            "19/19 [==============================] - 0s 6ms/step - loss: 0.0309 - accuracy: 0.9899 - val_loss: 1.0869 - val_accuracy: 0.8054\n",
            "Epoch 73/125\n",
            "19/19 [==============================] - 0s 6ms/step - loss: 0.0385 - accuracy: 0.9874 - val_loss: 1.2800 - val_accuracy: 0.7919\n",
            "Epoch 74/125\n",
            "19/19 [==============================] - 0s 6ms/step - loss: 0.0482 - accuracy: 0.9874 - val_loss: 1.2532 - val_accuracy: 0.8020\n",
            "Epoch 75/125\n",
            "19/19 [==============================] - 0s 6ms/step - loss: 0.0268 - accuracy: 0.9916 - val_loss: 0.8648 - val_accuracy: 0.8423\n",
            "Epoch 76/125\n",
            "19/19 [==============================] - 0s 9ms/step - loss: 0.0397 - accuracy: 0.9891 - val_loss: 1.3903 - val_accuracy: 0.7752\n",
            "Epoch 77/125\n",
            "19/19 [==============================] - 0s 6ms/step - loss: 0.0276 - accuracy: 0.9941 - val_loss: 1.0659 - val_accuracy: 0.8221\n",
            "Epoch 78/125\n",
            "19/19 [==============================] - 0s 6ms/step - loss: 0.0602 - accuracy: 0.9916 - val_loss: 1.5930 - val_accuracy: 0.7886\n",
            "Epoch 79/125\n",
            "19/19 [==============================] - 0s 6ms/step - loss: 0.0390 - accuracy: 0.9891 - val_loss: 1.3369 - val_accuracy: 0.8289\n",
            "Epoch 80/125\n",
            "19/19 [==============================] - 0s 6ms/step - loss: 0.0280 - accuracy: 0.9916 - val_loss: 1.2665 - val_accuracy: 0.7987\n",
            "Epoch 81/125\n",
            "19/19 [==============================] - 0s 6ms/step - loss: 0.0411 - accuracy: 0.9899 - val_loss: 1.4491 - val_accuracy: 0.7953\n",
            "Epoch 82/125\n",
            "19/19 [==============================] - 0s 6ms/step - loss: 0.0410 - accuracy: 0.9883 - val_loss: 0.9032 - val_accuracy: 0.8221\n",
            "Epoch 83/125\n",
            "19/19 [==============================] - 0s 6ms/step - loss: 0.0120 - accuracy: 0.9950 - val_loss: 1.0338 - val_accuracy: 0.8087\n",
            "Epoch 84/125\n",
            "19/19 [==============================] - 0s 6ms/step - loss: 0.0569 - accuracy: 0.9908 - val_loss: 1.3787 - val_accuracy: 0.7987\n",
            "Epoch 85/125\n",
            "19/19 [==============================] - 0s 8ms/step - loss: 0.0486 - accuracy: 0.9924 - val_loss: 1.4233 - val_accuracy: 0.8154\n",
            "Epoch 86/125\n",
            "19/19 [==============================] - 0s 6ms/step - loss: 0.0373 - accuracy: 0.9924 - val_loss: 1.1931 - val_accuracy: 0.8289\n",
            "Epoch 87/125\n",
            "19/19 [==============================] - 0s 6ms/step - loss: 0.0439 - accuracy: 0.9908 - val_loss: 1.2263 - val_accuracy: 0.8087\n",
            "Epoch 88/125\n",
            "19/19 [==============================] - 0s 6ms/step - loss: 0.0369 - accuracy: 0.9883 - val_loss: 0.8126 - val_accuracy: 0.8322\n",
            "Epoch 89/125\n",
            "19/19 [==============================] - 0s 6ms/step - loss: 0.0181 - accuracy: 0.9933 - val_loss: 1.3233 - val_accuracy: 0.7919\n",
            "Epoch 90/125\n",
            "19/19 [==============================] - 0s 6ms/step - loss: 0.0588 - accuracy: 0.9899 - val_loss: 1.4079 - val_accuracy: 0.8121\n",
            "Epoch 91/125\n",
            "19/19 [==============================] - 0s 6ms/step - loss: 0.0477 - accuracy: 0.9849 - val_loss: 1.7306 - val_accuracy: 0.7785\n",
            "Epoch 92/125\n",
            "19/19 [==============================] - 0s 6ms/step - loss: 0.0440 - accuracy: 0.9908 - val_loss: 1.2898 - val_accuracy: 0.8154\n",
            "Epoch 93/125\n",
            "19/19 [==============================] - 0s 6ms/step - loss: 0.0600 - accuracy: 0.9874 - val_loss: 1.3945 - val_accuracy: 0.7919\n",
            "Epoch 94/125\n",
            "19/19 [==============================] - 0s 6ms/step - loss: 0.0356 - accuracy: 0.9883 - val_loss: 1.5538 - val_accuracy: 0.7852\n",
            "Epoch 95/125\n",
            "19/19 [==============================] - 0s 6ms/step - loss: 0.0399 - accuracy: 0.9908 - val_loss: 1.1155 - val_accuracy: 0.8490\n",
            "Epoch 96/125\n",
            "19/19 [==============================] - 0s 6ms/step - loss: 0.0240 - accuracy: 0.9933 - val_loss: 1.2774 - val_accuracy: 0.8322\n",
            "Epoch 97/125\n",
            "19/19 [==============================] - 0s 6ms/step - loss: 0.0245 - accuracy: 0.9924 - val_loss: 1.0884 - val_accuracy: 0.8356\n",
            "Epoch 98/125\n",
            "19/19 [==============================] - 0s 7ms/step - loss: 0.0565 - accuracy: 0.9883 - val_loss: 0.8398 - val_accuracy: 0.8322\n",
            "Epoch 99/125\n",
            "19/19 [==============================] - 0s 6ms/step - loss: 0.0265 - accuracy: 0.9899 - val_loss: 1.1349 - val_accuracy: 0.8020\n",
            "Epoch 100/125\n",
            "19/19 [==============================] - 0s 6ms/step - loss: 0.0339 - accuracy: 0.9883 - val_loss: 0.9488 - val_accuracy: 0.8154\n",
            "Epoch 101/125\n",
            "19/19 [==============================] - 0s 6ms/step - loss: 0.0490 - accuracy: 0.9849 - val_loss: 0.8753 - val_accuracy: 0.8289\n",
            "Epoch 102/125\n",
            "19/19 [==============================] - 0s 6ms/step - loss: 0.0322 - accuracy: 0.9874 - val_loss: 0.9878 - val_accuracy: 0.8188\n",
            "Epoch 103/125\n",
            "19/19 [==============================] - 0s 6ms/step - loss: 0.0497 - accuracy: 0.9866 - val_loss: 1.0095 - val_accuracy: 0.8255\n",
            "Epoch 104/125\n",
            "19/19 [==============================] - 0s 6ms/step - loss: 0.0320 - accuracy: 0.9908 - val_loss: 1.2501 - val_accuracy: 0.7852\n",
            "Epoch 105/125\n",
            "19/19 [==============================] - 0s 6ms/step - loss: 0.0365 - accuracy: 0.9883 - val_loss: 2.2713 - val_accuracy: 0.7718\n",
            "Epoch 106/125\n",
            "19/19 [==============================] - 0s 6ms/step - loss: 0.0331 - accuracy: 0.9857 - val_loss: 1.5106 - val_accuracy: 0.7987\n",
            "Epoch 107/125\n",
            "19/19 [==============================] - 0s 6ms/step - loss: 0.0419 - accuracy: 0.9916 - val_loss: 1.9284 - val_accuracy: 0.8087\n",
            "Epoch 108/125\n",
            "19/19 [==============================] - 0s 6ms/step - loss: 0.0439 - accuracy: 0.9857 - val_loss: 1.7132 - val_accuracy: 0.8154\n",
            "Epoch 109/125\n",
            "19/19 [==============================] - 0s 6ms/step - loss: 0.0444 - accuracy: 0.9916 - val_loss: 1.8378 - val_accuracy: 0.8054\n",
            "Epoch 110/125\n",
            "19/19 [==============================] - 0s 6ms/step - loss: 0.0324 - accuracy: 0.9899 - val_loss: 3.2702 - val_accuracy: 0.7584\n",
            "Epoch 111/125\n",
            "19/19 [==============================] - 0s 6ms/step - loss: 0.0659 - accuracy: 0.9883 - val_loss: 3.1861 - val_accuracy: 0.7450\n",
            "Epoch 112/125\n",
            "19/19 [==============================] - 0s 6ms/step - loss: 0.1063 - accuracy: 0.9790 - val_loss: 1.8059 - val_accuracy: 0.7953\n",
            "Epoch 113/125\n",
            "19/19 [==============================] - 0s 5ms/step - loss: 0.1005 - accuracy: 0.9807 - val_loss: 1.6805 - val_accuracy: 0.7819\n",
            "Epoch 114/125\n",
            "19/19 [==============================] - 0s 6ms/step - loss: 0.0558 - accuracy: 0.9807 - val_loss: 1.6005 - val_accuracy: 0.8087\n",
            "Epoch 115/125\n",
            "19/19 [==============================] - 0s 6ms/step - loss: 0.1283 - accuracy: 0.9883 - val_loss: 3.1802 - val_accuracy: 0.7617\n",
            "Epoch 116/125\n",
            "19/19 [==============================] - 0s 6ms/step - loss: 0.0337 - accuracy: 0.9891 - val_loss: 1.3182 - val_accuracy: 0.8221\n",
            "Epoch 117/125\n",
            "19/19 [==============================] - 0s 5ms/step - loss: 0.0562 - accuracy: 0.9916 - val_loss: 2.6653 - val_accuracy: 0.7517\n",
            "Epoch 118/125\n",
            "19/19 [==============================] - 0s 6ms/step - loss: 0.0814 - accuracy: 0.9924 - val_loss: 1.8732 - val_accuracy: 0.7987\n",
            "Epoch 119/125\n",
            "19/19 [==============================] - 0s 6ms/step - loss: 0.0494 - accuracy: 0.9883 - val_loss: 1.8380 - val_accuracy: 0.8154\n",
            "Epoch 120/125\n",
            "19/19 [==============================] - 0s 6ms/step - loss: 0.1330 - accuracy: 0.9824 - val_loss: 1.0812 - val_accuracy: 0.8389\n",
            "Epoch 121/125\n",
            "19/19 [==============================] - 0s 6ms/step - loss: 0.0724 - accuracy: 0.9891 - val_loss: 1.1628 - val_accuracy: 0.8054\n",
            "Epoch 122/125\n",
            "19/19 [==============================] - 0s 6ms/step - loss: 0.0404 - accuracy: 0.9874 - val_loss: 1.7309 - val_accuracy: 0.8121\n",
            "Epoch 123/125\n",
            "19/19 [==============================] - 0s 6ms/step - loss: 0.0487 - accuracy: 0.9916 - val_loss: 1.8156 - val_accuracy: 0.8154\n",
            "Epoch 124/125\n",
            "19/19 [==============================] - 0s 6ms/step - loss: 0.0474 - accuracy: 0.9899 - val_loss: 1.7927 - val_accuracy: 0.8322\n",
            "Epoch 125/125\n",
            "19/19 [==============================] - 0s 6ms/step - loss: 0.0631 - accuracy: 0.9866 - val_loss: 1.9098 - val_accuracy: 0.7919\n"
          ]
        }
      ],
      "source": [
        "model = tuner.hypermodel.build(best_hps)\n",
        "historyTrue = model.fit(x_trainvec, y_train,\n",
        "                      epochs=num_epochs,batch_size=BATCH_SIZE,\n",
        "                      validation_data=(x_valvec, y_test),\n",
        "                      callbacks= calls)"
      ]
    },
    {
      "cell_type": "code",
      "execution_count": null,
      "metadata": {
        "colab": {
          "base_uri": "https://localhost:8080/",
          "height": 355
        },
        "id": "5FevGd0O5-mr",
        "outputId": "abefcd32-ebc5-43d4-91be-350e0818c686"
      },
      "outputs": [
        {
          "data": {
            "image/png": "[encoded data removed]",
            "text/plain": [
              "<Figure size 720x360 with 1 Axes>"
            ]
          },
          "metadata": {},
          "output_type": "display_data"
        }
      ],
      "source": [
        "# 125 epochs, 16 neurons, 1 layer, 0.4 dropout\n",
        "from matplotlib import pyplot as plt\n",
        "plt.plot(historyTrue.history['accuracy'])\n",
        "plt.plot(historyTrue.history['val_accuracy'])\n",
        "plt.title('model accuracy')\n",
        "plt.ylabel('accuracy')\n",
        "plt.xlabel('epoch')\n",
        "plt.legend(['train', 'val'], loc='lower right')\n",
        "plt.savefig(filepath+\"FFNNaccuracyFandFVec300d.png\", format = 'png', dpi = 300, bbox_inches='tight')\n",
        "plt.show()\n"
      ]
    },
    {
      "cell_type": "code",
      "execution_count": null,
      "metadata": {
        "colab": {
          "base_uri": "https://localhost:8080/",
          "height": 355
        },
        "id": "rbXDcd9MUXmi",
        "outputId": "55cfdcc1-17be-45c7-f6ca-fd3251438985"
      },
      "outputs": [
        {
          "data": {
            "image/png": "[encoded data removed]",
            "text/plain": [
              "<Figure size 720x360 with 1 Axes>"
            ]
          },
          "metadata": {},
          "output_type": "display_data"
        }
      ],
      "source": [
        "# 125 epochs, 16 neurons, 1 layer, 0.4 dropout\n",
        "from matplotlib import pyplot as plt\n",
        "plt.plot(historyTrue.history['loss'])\n",
        "plt.plot(historyTrue.history['val_loss'])\n",
        "plt.title('model loss')\n",
        "plt.ylabel('loss')\n",
        "plt.xlabel('epoch')\n",
        "plt.legend(['train', 'val'], loc='lower right')\n",
        "plt.savefig(filepath+\"FFNNlossFandFVec300d.png\", format = 'png', dpi = 150, bbox_inches='tight')\n",
        "plt.show()"
      ]
    },
    {
      "cell_type": "markdown",
      "metadata": {
        "id": "KjFPw9Zv1hhe"
      },
      "source": [
        "## ROC AUC Curve"
      ]
    },
    {
      "cell_type": "code",
      "execution_count": null,
      "metadata": {
        "id": "thqkpXCi2PUl"
      },
      "outputs": [],
      "source": [
        "import itertools\n",
        "from scipy import interp\n",
        "from itertools import cycle\n",
        "from sklearn.metrics import roc_curve, auc"
      ]
    },
    {
      "cell_type": "code",
      "execution_count": null,
      "metadata": {
        "id": "BjYOuxkT1iql"
      },
      "outputs": [],
      "source": [
        "y_score = model.predict(x_valvec)"
      ]
    },
    {
      "cell_type": "code",
      "execution_count": null,
      "metadata": {
        "colab": {
          "base_uri": "https://localhost:8080/",
          "height": 730
        },
        "id": "AwT3Syfe2bkb",
        "outputId": "12abc6cb-2c5f-49a7-983b-f9ee57d833ea"
      },
      "outputs": [
        {
          "name": "stderr",
          "output_type": "stream",
          "text": [
            "/usr/local/lib/python3.7/dist-packages/ipykernel_launcher.py:23: DeprecationWarning: scipy.interp is deprecated and will be removed in SciPy 2.0.0, use numpy.interp instead\n"
          ]
        },
        {
          "data": {
            "image/png": "[encoded data removed]",
            "text/plain": [
              "<Figure size 720x360 with 1 Axes>"
            ]
          },
          "metadata": {},
          "output_type": "display_data"
        },
        {
          "data": {
            "image/png": "[encoded data removed]",
            "text/plain": [
              "<Figure size 720x360 with 1 Axes>"
            ]
          },
          "metadata": {},
          "output_type": "display_data"
        }
      ],
      "source": [
        "lw = 2\n",
        "num_of_class = 5\n",
        "# Compute ROC curve and ROC area for each class\n",
        "fpr = dict()\n",
        "tpr = dict()\n",
        "roc_auc = dict()\n",
        "for i in range(num_of_class):\n",
        "    fpr[i], tpr[i], _ = roc_curve(y_test[:, i], y_score[:, i])\n",
        "    roc_auc[i] = auc(fpr[i], tpr[i])\n",
        "\n",
        "# Compute micro-average ROC curve and ROC area\n",
        "fpr[\"micro\"], tpr[\"micro\"], _ = roc_curve(y_test.ravel(), y_score.ravel())\n",
        "roc_auc[\"micro\"] = auc(fpr[\"micro\"], tpr[\"micro\"])\n",
        "\n",
        "# Compute macro-average ROC curve and ROC area\n",
        "\n",
        "# First aggregate all false positive rates\n",
        "all_fpr = np.unique(np.concatenate([fpr[i] for i in range(num_of_class)]))\n",
        "\n",
        "# Then interpolate all ROC curves at this points\n",
        "mean_tpr = np.zeros_like(all_fpr)\n",
        "for i in range(num_of_class):\n",
        "    mean_tpr += interp(all_fpr, fpr[i], tpr[i])\n",
        "\n",
        "# Finally average it and compute AUC\n",
        "mean_tpr /= num_of_class\n",
        "\n",
        "fpr[\"macro\"] = all_fpr\n",
        "tpr[\"macro\"] = mean_tpr\n",
        "roc_auc[\"macro\"] = auc(fpr[\"macro\"], tpr[\"macro\"])\n",
        "\n",
        "# Plot all ROC curves\n",
        "plt.figure(1)\n",
        "plt.plot(fpr[\"micro\"], tpr[\"micro\"],\n",
        "         label='micro-average ROC curve (area = {0:0.2f})'\n",
        "               ''.format(roc_auc[\"micro\"]),\n",
        "         color='deeppink', linestyle=':', linewidth=4)\n",
        "\n",
        "plt.plot(fpr[\"macro\"], tpr[\"macro\"],\n",
        "         label='macro-average ROC curve (area = {0:0.2f})'\n",
        "               ''.format(roc_auc[\"macro\"]),\n",
        "         color='navy', linestyle=':', linewidth=4)\n",
        "\n",
        "colors = cycle(['aqua', 'darkorange', 'cornflowerblue'])\n",
        "for i, color in zip(range(num_of_class), colors):\n",
        "    plt.plot(fpr[i], tpr[i], color=color, lw=lw,\n",
        "             label='ROC curve of class {0} (area = {1:0.2f})'\n",
        "             ''.format(i, roc_auc[i]))\n",
        "\n",
        "plt.plot([0, 1], [0, 1], 'k--', lw=lw)\n",
        "plt.xlim([0.0, 1.0])\n",
        "plt.ylim([0.0, 1.05])\n",
        "plt.xlabel('False Positive Rate')\n",
        "plt.ylabel('True Positive Rate')\n",
        "plt.title('Receiver operating characteristic (ROC) with 200 dimension and small vocab from 200d compression')\n",
        "plt.legend(loc=\"lower right\")\n",
        "plt.show()\n",
        "\n",
        "# Zoom in view of the upper left corner.\n",
        "plt.figure(2)\n",
        "plt.xlim(0, 0.2)\n",
        "plt.ylim(0.8, 1)\n",
        "plt.plot(fpr[\"micro\"], tpr[\"micro\"],\n",
        "         label='micro-average ROC curve (area = {0:0.2f})'\n",
        "               ''.format(roc_auc[\"micro\"]),\n",
        "         color='deeppink', linestyle=':', linewidth=4)\n",
        "\n",
        "plt.plot(fpr[\"macro\"], tpr[\"macro\"],\n",
        "         label='macro-average ROC curve (area = {0:0.2f})'\n",
        "               ''.format(roc_auc[\"macro\"]),\n",
        "         color='navy', linestyle=':', linewidth=4)\n",
        "\n",
        "colors = cycle(['aqua', 'darkorange', 'cornflowerblue'])\n",
        "for i, color in zip(range(num_of_class), colors):\n",
        "    plt.plot(fpr[i], tpr[i], color=color, lw=lw,\n",
        "             label='ROC curve of class {0} (area = {1:0.2f})'\n",
        "             ''.format(i, roc_auc[i]))\n",
        "\n",
        "plt.plot([0, 1], [0, 1], 'k--', lw=lw)\n",
        "plt.xlabel('False Positive Rate')\n",
        "plt.ylabel('True Positive Rate')\n",
        "plt.title('Receiver operating characteristic (ROC) with 200 dimension and small vocab from 200d compression')\n",
        "plt.legend(loc=\"lower right\")\n",
        "plt.savefig(filepath+'CrosslingualModel_FandFVec300d.png',transparent=False, bbox_inches='tight',dpi=300)\n",
        "plt.show()"
      ]
    },
    {
      "cell_type": "markdown",
      "metadata": {
        "id": "GhpaP6B1DjcC"
      },
      "source": [
        "## CCA of dimension 300 from glove and fasttext embeddings model\n",
        "\n",
        "\n"
      ]
    },
    {
      "cell_type": "code",
      "execution_count": null,
      "metadata": {
        "id": "3jOKVbO8Kixj"
      },
      "outputs": [],
      "source": [
        "vectorizer = TextVectorization(max_tokens=50000, output_sequence_length=300)\n",
        "# text_ds = tf.data.Dataset.from_tensor_slices(train_samples).batch(128)\n",
        "vectorizer.adapt(df['cleantext'].to_numpy())"
      ]
    },
    {
      "cell_type": "code",
      "execution_count": null,
      "metadata": {
        "id": "CnhQpE8SKxD7"
      },
      "outputs": [],
      "source": [
        "output = vectorizer([[\"the cat sat on the mat\"]])\n",
        "output.numpy()[0, :6]\n",
        "\n",
        "voc = vectorizer.get_vocabulary()\n",
        "word_index = dict(zip(voc, range(len(voc))))"
      ]
    },
    {
      "cell_type": "code",
      "execution_count": null,
      "metadata": {
        "id": "Qg9UKUV0DgCo"
      },
      "outputs": [],
      "source": [
        "# Embeddings with 111 dimension from small vocab and 640 compression\n",
        "path_to_glove_file111d = '/content/drive/MyDrive/CrosslingualModels/Paper2Embeddings/vecmap_glove_fast300/'\n",
        "embeddings_index = {}\n",
        "with open(path_to_glove_file111d) as f:\n",
        "    for line in f:\n",
        "        word, coefs = line.split(maxsplit=1)\n",
        "        coefs = np.fromstring(coefs, \"f\", sep=\" \")\n",
        "        embeddings_index[word] = coefs\n",
        "print(\"Found %s word vectors.\" % len(embeddings_index))"
      ]
    },
    {
      "cell_type": "code",
      "execution_count": null,
      "metadata": {
        "colab": {
          "base_uri": "https://localhost:8080/"
        },
        "id": "5rlqCcwHDgCp",
        "outputId": "d4176307-2048-4e4a-8b4a-faeb200f1b5d"
      },
      "outputs": [
        {
          "name": "stdout",
          "output_type": "stream",
          "text": [
            "Converted 0 words (22083 misses)\n"
          ]
        }
      ],
      "source": [
        "num_tokens = len(voc) + 2\n",
        "embedding_dim = 300\n",
        "hits = 0\n",
        "misses = 0\n",
        "input_size = 300\n",
        "# Prepare embedding matrix\n",
        "embedding_matrix = np.zeros((num_tokens, embedding_dim))\n",
        "for word, i in word_index.items():\n",
        "    embedding_vector = embeddings_index.get(word)\n",
        "    if embedding_vector is not None:\n",
        "        # Words not found in embedding index will be all-zeros.\n",
        "        # This includes the representation for \"padding\" and \"OOV\"\n",
        "        embedding_matrix[i] = embedding_vector\n",
        "        hits += 1\n",
        "    else:\n",
        "        misses += 1\n",
        "print(\"Converted %d words (%d misses)\" % (hits, misses))"
      ]
    },
    {
      "cell_type": "code",
      "execution_count": null,
      "metadata": {
        "id": "yBAGrCxODgCp"
      },
      "outputs": [],
      "source": [
        "# embedding_matrix[5:6]"
      ]
    },
    {
      "cell_type": "code",
      "execution_count": null,
      "metadata": {
        "id": "lNK4GngBDgCp"
      },
      "outputs": [],
      "source": [
        "embedding_layer_word11d = Embedding(num_tokens,embedding_dim,\n",
        "                                 embeddings_initializer=keras.initializers.Constant(embedding_matrix),\n",
        "                                 trainable=False)\n"
      ]
    },
    {
      "cell_type": "markdown",
      "metadata": {
        "id": "nR71HM8sDgCq"
      },
      "source": [
        "# Feed forward NN with 300 dimension"
      ]
    },
    {
      "cell_type": "code",
      "execution_count": null,
      "metadata": {
        "id": "vlhijhIHDgCq"
      },
      "outputs": [],
      "source": [
        "# !pip install keras-tuner\n",
        "BATCH_SIZE = 64\n",
        "num_epochs = 125"
      ]
    },
    {
      "cell_type": "code",
      "execution_count": null,
      "metadata": {
        "id": "DFSHLEqcDgCq"
      },
      "outputs": [],
      "source": [
        "def build_model_111D(hp):\n",
        "  model = Sequential()\n",
        "  int_sequences_input = keras.Input(shape=(300,), dtype=\"int64\") # word embedding shape\n",
        "  embedding_sequence_file111d = embedding_layer_word11d(int_sequences_input)\n",
        "  x = tf.keras.layers.SpatialDropout1D(\n",
        "      hp.Float('sdropout', 0.1, 0.5, step=0.1, default=0.1))(embedding_sequence_file111d)\n",
        "  x = Flatten()(x)\n",
        "  hp_units1 = hp.Int('units1', 8, 16, step=2, default=4)\n",
        "  # x = Dense(16, activation='relu')(x)\n",
        "  x = Dense(units=hp_units1, activation='relu')(x)\n",
        "  # x = Dropout(0.4)(x)\n",
        "  x = Dropout(hp.Float('dropout',0.1,0.5,step=0.1,default=0.1))(x)\n",
        "  # compile model\n",
        "  outputs = Dense(5, activation='softmax')(x)\n",
        "  hp_learning_rate = hp.Choice('learning_rate', values=[1e-2, 1e-3, 1e-4])\n",
        "  opt = Adam(learning_rate=hp_learning_rate)\n",
        "  model = Model(int_sequences_input, outputs)\n",
        "  model.compile(optimizer=opt, loss='categorical_crossentropy', metrics=['accuracy'])\n",
        "  return model\n"
      ]
    },
    {
      "cell_type": "code",
      "execution_count": null,
      "metadata": {
        "id": "6-5zVNjFDgCq"
      },
      "outputs": [],
      "source": [
        "tuner_model_111D = BayesianOptimization(build_model_111D,objective='val_accuracy',max_trials=4)"
      ]
    },
    {
      "cell_type": "code",
      "execution_count": null,
      "metadata": {
        "id": "yoQm4fpaDgCq"
      },
      "outputs": [],
      "source": [
        "import numpy as np\n",
        "from tensorflow.keras.utils import to_categorical\n",
        "### Categorical data to be converted to numeric data\n",
        "train_classes = df.Category.tolist()\n",
        "\n",
        "### Universal list of colors\n",
        "total_cat =  df['Category'].unique()\n",
        "\n",
        "### map each color to an integer\n",
        "mapping = {}\n",
        "for x in range(len(total_cat)):\n",
        "  mapping[total_cat[x]] = x\n",
        "\n",
        "# integer representation\n",
        "for x in range(len(train_classes)):\n",
        "  train_classes[x] = mapping[train_classes[x]]\n",
        "\n",
        "one_hot_encode = to_categorical(train_classes)\n",
        "# print(one_hot_encode[0:10])"
      ]
    },
    {
      "cell_type": "code",
      "execution_count": null,
      "metadata": {
        "id": "IBPxtjMXDgCq"
      },
      "outputs": [],
      "source": [
        "np.random.seed(42)\n",
        "shuffle_indices = np.random.permutation(np.arange(len(one_hot_encode)))\n",
        "x_shuffled = df['Text'][shuffle_indices]\n",
        "y_shuffled = one_hot_encode[shuffle_indices]\n",
        "\n",
        "# Split train and test\n",
        "training_rate = 0.8\n",
        "train_len = int(len(one_hot_encode) * training_rate)\n",
        "\n",
        "# train data\n",
        "x_train = x_shuffled[:train_len]\n",
        "y_train = y_shuffled[:train_len]\n",
        "\n",
        "# test data\n",
        "x_test = x_shuffled[train_len:]\n",
        "y_test = y_shuffled[train_len:]"
      ]
    },
    {
      "cell_type": "code",
      "execution_count": null,
      "metadata": {
        "id": "65ZOLMjvDgCq"
      },
      "outputs": [],
      "source": [
        "print(\"x_train shape:\", x_train.shape)\n",
        "print(\"y_train shape:\", y_train.shape)\n",
        "print(\"x_test shape:\", x_test.shape)\n",
        "print(\"y_test shape:\", y_test.shape)"
      ]
    },
    {
      "cell_type": "code",
      "execution_count": null,
      "metadata": {
        "id": "2lXi5_uODgCq"
      },
      "outputs": [],
      "source": [
        "x_trainvec2 = vectorizer(np.array([[s] for s in x_train])).numpy()\n",
        "x_valvec2 = vectorizer(np.array([[s] for s in x_test])).numpy()"
      ]
    },
    {
      "cell_type": "code",
      "execution_count": null,
      "metadata": {
        "id": "WrcjFc7GDgCq"
      },
      "outputs": [],
      "source": [
        "tuner_model_111D.search(x_trainvec2, y_train,\n",
        "                        batch_size=BATCH_SIZE,epochs=num_epochs,\n",
        "                        validation_data=(x_valvec2, y_test))"
      ]
    },
    {
      "cell_type": "code",
      "execution_count": null,
      "metadata": {
        "id": "ALz5ssmIDgCr"
      },
      "outputs": [],
      "source": [
        "tuner_model_111D.results_summary()"
      ]
    },
    {
      "cell_type": "code",
      "execution_count": null,
      "metadata": {
        "id": "NyUtQJQC6uYT"
      },
      "outputs": [],
      "source": [
        "# Get the optimal hyperparameters --Test\n",
        "best_model_111D = tuner_model_111D.get_best_hyperparameters(num_trials = 1)[0]\n",
        "print(best_model_111D.values)"
      ]
    },
    {
      "cell_type": "code",
      "execution_count": null,
      "metadata": {
        "id": "afHj2e28SG9R"
      },
      "outputs": [],
      "source": [
        "# Get the optimal hyperparameters --Test\n",
        "best_model_111D = tuner_model_111D.get_best_hyperparameters(num_trials = 1)[0]\n",
        "print(best_model_111D.values)"
      ]
    },
    {
      "cell_type": "markdown",
      "metadata": {
        "id": "E7TaJ3UJZDQE"
      },
      "source": [
        "# {'sdropout': 0.1, 'units1': 16, 'dropout': 0.5, 'learning_rate': 0.0001}"
      ]
    },
    {
      "cell_type": "code",
      "execution_count": null,
      "metadata": {
        "id": "8jrWjabD3njg"
      },
      "outputs": [],
      "source": [
        "# model svaing\n",
        "filepath = '/content/drive/MyDrive/CrosslingualModels/Paper2Results/vecmap/'\n",
        "# saving fitting accuracy and others\n",
        "csv_logger = CSVLogger(filepath+'Crosslingual_GandFVec300d.csv', append=True, separator=';')\n",
        "check_point = ModelCheckpoint(filepath+'Crosslingual_GandFVec300d.h5', save_best_only=True, save_weights_only=True)\n",
        "calls = [csv_logger,check_point]"
      ]
    },
    {
      "cell_type": "code",
      "execution_count": null,
      "metadata": {
        "id": "y8J1f8hk-8NT"
      },
      "outputs": [],
      "source": [
        "#\n",
        "# define cnn model\n",
        "def create_model():\n",
        "  model = Sequential()\n",
        "  int_sequences_input = keras.Input(shape=(300,), dtype=\"int64\") # word embedding shape\n",
        "  embedding_sequence_file200d = embedding_layer_word11d(int_sequences_input)\n",
        "  x = SpatialDropout1D(0.1)(embedding_sequence_file200d)\n",
        "  x = Flatten()(x)\n",
        "  # hp_units1 = hp.Int('units1', 8, 16, step=2, default=4)\n",
        "  x = Dense(16, activation='relu')(x)\n",
        "  # x = Dense(units=hp_units1, activation='relu')(x)\n",
        "  x = Dropout(0.5)(x)\n",
        "  # x = Dropout(hp.Float('dropout',0.1,0.5,step=0.1,default=0.1))(x)\n",
        "  # compile model\n",
        "  outputs = Dense(5, activation='softmax')(x)\n",
        "  hp_learning_rate = 0.0001\n",
        "  opt = Adam(learning_rate=hp_learning_rate)\n",
        "  model = Model(int_sequences_input, outputs)\n",
        "  model.compile(optimizer=opt, loss='categorical_crossentropy', metrics=['accuracy'])\n",
        "  return model\n",
        "\n",
        "# Create a basic model instance\n",
        "model = create_model()\n",
        "\n",
        "# Display the model's architecture\n",
        "model.summary()"
      ]
    },
    {
      "cell_type": "code",
      "execution_count": null,
      "metadata": {
        "id": "hyKyb6H4DgCr"
      },
      "outputs": [],
      "source": [
        "# model_111D = tuner_model_111D.hypermodel.build(best_model_111D)\n",
        "history_model_111D = model.fit(x_trainvec2, y_train,\n",
        "                      epochs=num_epochs,batch_size=BATCH_SIZE,\n",
        "                      validation_data=(x_valvec2, y_test), callbacks=calls)"
      ]
    },
    {
      "cell_type": "code",
      "execution_count": null,
      "metadata": {
        "id": "KTHsVI2SDgCr"
      },
      "outputs": [],
      "source": [
        "# 125 epochs, 16 neurons, 1 layer, 0.4 dropout\n",
        "from matplotlib import pyplot as plt\n",
        "plt.plot(history_model_111D.history['accuracy'])\n",
        "plt.plot(history_model_111D.history['val_accuracy'])\n",
        "plt.title('model accuracy')\n",
        "plt.ylabel('accuracy')\n",
        "plt.xlabel('epoch')\n",
        "plt.legend(['train', 'val'], loc='lower right')\n",
        "plt.savefig(filepath+\"FFNNaccuracy_GandFVec300d.png\", format = 'png', dpi = 150, bbox_inches='tight')\n",
        "plt.show()"
      ]
    },
    {
      "cell_type": "code",
      "execution_count": null,
      "metadata": {
        "id": "6RHuNQ3yDgCr"
      },
      "outputs": [],
      "source": [
        "# 125 epochs, 16 neurons, 1 layer, 0.4 dropout\n",
        "from matplotlib import pyplot as plt\n",
        "plt.plot(history_model_111D.history['loss'])\n",
        "plt.plot(history_model_111D.history['val_loss'])\n",
        "plt.title('model loss')\n",
        "plt.ylabel('loss')\n",
        "plt.xlabel('epoch')\n",
        "plt.legend(['train', 'val'], loc='lower right')\n",
        "plt.savefig(filepath+\"FFNNloss_GandFVec300d.png\", format = 'png', dpi = 150, bbox_inches='tight')\n",
        "plt.show()"
      ]
    },
    {
      "cell_type": "code",
      "execution_count": null,
      "metadata": {
        "id": "hFxOrh2R4m_6"
      },
      "outputs": [],
      "source": [
        "import itertools\n",
        "from scipy import interp\n",
        "from itertools import cycle\n",
        "from sklearn.metrics import roc_curve, auc"
      ]
    },
    {
      "cell_type": "code",
      "execution_count": null,
      "metadata": {
        "id": "6NEvRiYx4m_6"
      },
      "outputs": [],
      "source": [
        "y_score2 = model.predict(x_valvec2)"
      ]
    },
    {
      "cell_type": "code",
      "execution_count": null,
      "metadata": {
        "id": "x_MP1MOu4m_6"
      },
      "outputs": [],
      "source": [
        "lw = 2\n",
        "num_of_class = 5\n",
        "# Compute ROC curve and ROC area for each class\n",
        "fpr = dict()\n",
        "tpr = dict()\n",
        "roc_auc = dict()\n",
        "for i in range(num_of_class):\n",
        "    fpr[i], tpr[i], _ = roc_curve(y_test[:, i], y_score2[:, i])\n",
        "    roc_auc[i] = auc(fpr[i], tpr[i])\n",
        "\n",
        "# Compute micro-average ROC curve and ROC area\n",
        "fpr[\"micro\"], tpr[\"micro\"], _ = roc_curve(y_test.ravel(), y_score2.ravel())\n",
        "roc_auc[\"micro\"] = auc(fpr[\"micro\"], tpr[\"micro\"])\n",
        "\n",
        "# Compute macro-average ROC curve and ROC area\n",
        "\n",
        "# First aggregate all false positive rates\n",
        "all_fpr = np.unique(np.concatenate([fpr[i] for i in range(num_of_class)]))\n",
        "\n",
        "# Then interpolate all ROC curves at this points\n",
        "mean_tpr = np.zeros_like(all_fpr)\n",
        "for i in range(num_of_class):\n",
        "    mean_tpr += interp(all_fpr, fpr[i], tpr[i])\n",
        "\n",
        "# Finally average it and compute AUC\n",
        "mean_tpr /= num_of_class\n",
        "\n",
        "fpr[\"macro\"] = all_fpr\n",
        "tpr[\"macro\"] = mean_tpr\n",
        "roc_auc[\"macro\"] = auc(fpr[\"macro\"], tpr[\"macro\"])\n",
        "\n",
        "# Plot all ROC curves\n",
        "plt.figure(1)\n",
        "plt.plot(fpr[\"micro\"], tpr[\"micro\"],\n",
        "         label='micro-average ROC curve (area = {0:0.2f})'\n",
        "               ''.format(roc_auc[\"micro\"]),\n",
        "         color='deeppink', linestyle=':', linewidth=4)\n",
        "\n",
        "plt.plot(fpr[\"macro\"], tpr[\"macro\"],\n",
        "         label='macro-average ROC curve (area = {0:0.2f})'\n",
        "               ''.format(roc_auc[\"macro\"]),\n",
        "         color='navy', linestyle=':', linewidth=4)\n",
        "\n",
        "colors = cycle(['aqua', 'darkorange', 'cornflowerblue'])\n",
        "for i, color in zip(range(num_of_class), colors):\n",
        "    plt.plot(fpr[i], tpr[i], color=color, lw=lw,\n",
        "             label='ROC curve of class {0} (area = {1:0.2f})'\n",
        "             ''.format(i, roc_auc[i]))\n",
        "\n",
        "plt.plot([0, 1], [0, 1], 'k--', lw=lw)\n",
        "plt.xlim([0.0, 1.0])\n",
        "plt.ylim([0.0, 1.05])\n",
        "plt.xlabel('False Positive Rate')\n",
        "plt.ylabel('True Positive Rate')\n",
        "plt.title('Receiver operating characteristic (ROC) with 111 dimension from small vocab and 640 compression')\n",
        "plt.legend(loc=\"lower right\")\n",
        "plt.show()\n",
        "\n",
        "# Zoom in view of the upper left corner.\n",
        "plt.figure(2)\n",
        "plt.xlim(0, 0.2)\n",
        "plt.ylim(0.8, 1)\n",
        "plt.plot(fpr[\"micro\"], tpr[\"micro\"],\n",
        "         label='micro-average ROC curve (area = {0:0.2f})'\n",
        "               ''.format(roc_auc[\"micro\"]),\n",
        "         color='deeppink', linestyle=':', linewidth=4)\n",
        "\n",
        "plt.plot(fpr[\"macro\"], tpr[\"macro\"],\n",
        "         label='macro-average ROC curve (area = {0:0.2f})'\n",
        "               ''.format(roc_auc[\"macro\"]),\n",
        "         color='navy', linestyle=':', linewidth=4)\n",
        "\n",
        "colors = cycle(['aqua', 'darkorange', 'cornflowerblue'])\n",
        "for i, color in zip(range(num_of_class), colors):\n",
        "    plt.plot(fpr[i], tpr[i], color=color, lw=lw,\n",
        "             label='ROC curve of class {0} (area = {1:0.2f})'\n",
        "             ''.format(i, roc_auc[i]))\n",
        "\n",
        "plt.plot([0, 1], [0, 1], 'k--', lw=lw)\n",
        "plt.xlabel('False Positive Rate')\n",
        "plt.ylabel('True Positive Rate')\n",
        "plt.title('Receiver operating characteristic (ROC) with 300 dimension from cca with glove source')\n",
        "plt.legend(loc=\"lower right\")\n",
        "plt.savefig(filepath+'Crosslingual_GandFVec300d.png',transparent=False, bbox_inches='tight',dpi=300)\n",
        "plt.show()"
      ]
    },
    {
      "cell_type": "markdown",
      "metadata": {
        "id": "dtR9nXKjvNfT"
      },
      "source": [
        "# VecMap embedding of dimension 200 from glove and fasttext\n",
        "\n",
        "\n",
        "\n"
      ]
    },
    {
      "cell_type": "markdown",
      "metadata": {
        "id": "K6Aq-RPe4m_7"
      },
      "source": [
        "## Embeddings with 200 dimension"
      ]
    },
    {
      "cell_type": "code",
      "execution_count": null,
      "metadata": {
        "id": "f42rV5zpafUy"
      },
      "outputs": [],
      "source": [
        "vectorizer = TextVectorization(max_tokens=50000, output_sequence_length=200)\n",
        "# text_ds = tf.data.Dataset.from_tensor_slices(train_samples).batch(128)\n",
        "vectorizer.adapt(df['cleantext'].to_numpy())"
      ]
    },
    {
      "cell_type": "code",
      "execution_count": null,
      "metadata": {
        "colab": {
          "base_uri": "https://localhost:8080/"
        },
        "id": "EpC-D8WlafUz",
        "outputId": "eb533761-504e-48ba-9850-e4808e9867f4"
      },
      "outputs": [
        {
          "data": {
            "text/plain": [
              "array([    1,  5092,  9264,     1,     1, 12156])"
            ]
          },
          "execution_count": 23,
          "metadata": {},
          "output_type": "execute_result"
        }
      ],
      "source": [
        "output = vectorizer([[\"the cat sat on the mat\"]])\n",
        "output.numpy()[0, :6]"
      ]
    },
    {
      "cell_type": "code",
      "execution_count": null,
      "metadata": {
        "id": "dWNhKilCafUz"
      },
      "outputs": [],
      "source": [
        "voc = vectorizer.get_vocabulary()\n",
        "word_index = dict(zip(voc, range(len(voc))))"
      ]
    },
    {
      "cell_type": "code",
      "execution_count": null,
      "metadata": {
        "colab": {
          "base_uri": "https://localhost:8080/"
        },
        "id": "CwFdGyXXaDuq",
        "outputId": "8355c33c-2af1-46f9-9260-638d4f30c2ef"
      },
      "outputs": [
        {
          "name": "stdout",
          "output_type": "stream",
          "text": [
            "Found 400001 word vectors.\n"
          ]
        }
      ],
      "source": [
        "# Embeddings with 200 dimension and small vocab from 200d compression\n",
        "path_to_glove_file194d = '/content/drive/MyDrive/CrosslingualModelPaper2/Paper2Embeddings/VecMap_glove_fast_200d_UCEC/src_G_F_uns_sl_n_UCEC.txt'\n",
        "\n",
        "embeddings_index = {}\n",
        "with open(path_to_glove_file194d) as f:\n",
        "    for line in f:\n",
        "        word, coefs = line.split(maxsplit=1)\n",
        "        coefs = np.fromstring(coefs, \"f\", sep=\" \")\n",
        "        embeddings_index[word] = coefs\n",
        "print(\"Found %s word vectors.\" % len(embeddings_index))"
      ]
    },
    {
      "cell_type": "code",
      "execution_count": null,
      "metadata": {
        "colab": {
          "base_uri": "https://localhost:8080/"
        },
        "id": "NE8nEgOhaDuq",
        "outputId": "3bd93b07-9fb3-4426-cdfd-301badd84f40"
      },
      "outputs": [
        {
          "name": "stdout",
          "output_type": "stream",
          "text": [
            "Converted 21018 words (1065 misses)\n"
          ]
        }
      ],
      "source": [
        "num_tokens = len(voc) + 2\n",
        "embedding_dim = 200\n",
        "hits = 0\n",
        "misses = 0\n",
        "input_size = 200\n",
        "# Prepare embedding matrix\n",
        "embedding_matrix = np.zeros((num_tokens, embedding_dim))\n",
        "for word, i in word_index.items():\n",
        "    embedding_vector = embeddings_index.get(word)\n",
        "    if embedding_vector is not None:\n",
        "        # Words not found in embedding index will be all-zeros.\n",
        "        # This includes the representation for \"padding\" and \"OOV\"\n",
        "        embedding_matrix[i] = embedding_vector\n",
        "        hits += 1\n",
        "    else:\n",
        "        misses += 1\n",
        "print(\"Converted %d words (%d misses)\" % (hits, misses))"
      ]
    },
    {
      "cell_type": "markdown",
      "metadata": {
        "id": "qtKMvQjVXElS"
      },
      "source": [
        "# Training with non-tunable embeddings of 200 d\n",
        "\n",
        "\n"
      ]
    },
    {
      "cell_type": "code",
      "execution_count": null,
      "metadata": {
        "id": "nlUXMlS-aDur"
      },
      "outputs": [],
      "source": [
        "embedding_layer_word = Embedding(num_tokens,embedding_dim,\n",
        "                                 embeddings_initializer=keras.initializers.Constant(embedding_matrix),\n",
        "                                 trainable=False)\n"
      ]
    },
    {
      "cell_type": "code",
      "execution_count": null,
      "metadata": {
        "id": "1OxH1XGUaDur"
      },
      "outputs": [],
      "source": [
        "# !pip install keras-tuner\n",
        "BATCH_SIZE = 64\n",
        "num_epochs = 125"
      ]
    },
    {
      "cell_type": "code",
      "execution_count": null,
      "metadata": {
        "id": "C_9bwkkbaDur"
      },
      "outputs": [],
      "source": [
        "# define cnn model\n",
        "def build_model(hp):\n",
        "  model = Sequential()\n",
        "  int_sequences_input = keras.Input(shape=(200,), dtype=\"int64\") # word embedding shape\n",
        "  embedding_sequences = embedding_layer_word(int_sequences_input)\n",
        "  # x = SpatialDropout1D(0.2)(embedding_sequences)\n",
        "  x = tf.keras.layers.SpatialDropout1D(\n",
        "      hp.Float('SDropout', 0, 0.4, step=0.1, default=0.1))(embedding_sequences)\n",
        "  x = Flatten()(x)\n",
        "  hp_units1 = hp.Int('units1', 8, 16, step=2, default=8)\n",
        "  # x = Dense(16, activation='relu')(x)\n",
        "  x = Dense(units=hp_units1, activation='relu')(x)\n",
        "  # x = Dropout(0.5)(x)\n",
        "  x = tf.keras.layers.Dropout(\n",
        "      hp.Float('dropout', 0, 0.4, step=0.1, default=0.1))(x)\n",
        "  # compile model\n",
        "  outputs = Dense(5, activation='softmax')(x)\n",
        "  # optimizer=tf.keras.optimizers.Adam(hp.Float('learning_rate', 1e-4, 1e-2, , sampling='log'))\n",
        "  hp_learning_rate = hp.Choice('learning_rate', values=[1e-2, 1e-3, 1e-4])\n",
        "  optimizer = Adam(learning_rate=hp_learning_rate)\n",
        "  model = Model(int_sequences_input, outputs)\n",
        "  model.compile(optimizer=optimizer, loss='categorical_crossentropy', metrics=['accuracy'])\n",
        "  return model"
      ]
    },
    {
      "cell_type": "code",
      "execution_count": null,
      "metadata": {
        "id": "aKujXhmPaDus"
      },
      "outputs": [],
      "source": [
        "\n",
        "tuner = BayesianOptimization(build_model,objective='val_accuracy',max_trials=5)"
      ]
    },
    {
      "cell_type": "code",
      "execution_count": null,
      "metadata": {
        "id": "iP2xt-pXaDus"
      },
      "outputs": [],
      "source": [
        "import numpy as np\n",
        "from tensorflow.keras.utils import to_categorical\n",
        "### Categorical data to be converted to numeric data\n",
        "train_classes = df.Category.tolist()\n",
        "\n",
        "### Universal list of colors\n",
        "total_cat =  df['Category'].unique()\n",
        "\n",
        "### map each color to an integer\n",
        "mapping = {}\n",
        "for x in range(len(total_cat)):\n",
        "  mapping[total_cat[x]] = x\n",
        "\n",
        "# integer representation\n",
        "for x in range(len(train_classes)):\n",
        "  train_classes[x] = mapping[train_classes[x]]\n",
        "\n",
        "one_hot_encode = to_categorical(train_classes)\n",
        "# print(one_hot_encode[0:10])"
      ]
    },
    {
      "cell_type": "code",
      "execution_count": null,
      "metadata": {
        "id": "j97y-EfkaDus"
      },
      "outputs": [],
      "source": [
        "np.random.seed(42)\n",
        "shuffle_indices = np.random.permutation(np.arange(len(one_hot_encode)))\n",
        "x_shuffled = df['Text'][shuffle_indices]\n",
        "y_shuffled = one_hot_encode[shuffle_indices]\n",
        "\n",
        "# Split train and test\n",
        "training_rate = 0.8\n",
        "train_len = int(len(one_hot_encode) * training_rate)\n",
        "\n",
        "# train data\n",
        "x_train = x_shuffled[:train_len]\n",
        "y_train = y_shuffled[:train_len]\n",
        "\n",
        "# test data\n",
        "x_test = x_shuffled[train_len:]\n",
        "y_test = y_shuffled[train_len:]"
      ]
    },
    {
      "cell_type": "code",
      "execution_count": null,
      "metadata": {
        "colab": {
          "base_uri": "https://localhost:8080/"
        },
        "id": "NmHNbjTaaDus",
        "outputId": "9e363721-d581-4b68-d7e3-d0183b062406"
      },
      "outputs": [
        {
          "name": "stdout",
          "output_type": "stream",
          "text": [
            "x_train shape: (1192,)\n",
            "y_train shape: (1192, 5)\n",
            "x_test shape: (298,)\n",
            "y_test shape: (298, 5)\n"
          ]
        }
      ],
      "source": [
        "\n",
        "print(\"x_train shape:\", x_train.shape)\n",
        "print(\"y_train shape:\", y_train.shape)\n",
        "print(\"x_test shape:\", x_test.shape)\n",
        "print(\"y_test shape:\", y_test.shape)"
      ]
    },
    {
      "cell_type": "code",
      "execution_count": null,
      "metadata": {
        "id": "DpzAMPSpaDus"
      },
      "outputs": [],
      "source": [
        "x_trainvec = vectorizer(np.array([[s] for s in x_train])).numpy()\n",
        "x_valvec = vectorizer(np.array([[s] for s in x_test])).numpy()"
      ]
    },
    {
      "cell_type": "code",
      "execution_count": null,
      "metadata": {
        "colab": {
          "base_uri": "https://localhost:8080/"
        },
        "id": "MX8fwjHJaDus",
        "outputId": "5e2f85c7-d0ff-4b30-e77a-4e3d2d51a5c6"
      },
      "outputs": [
        {
          "name": "stdout",
          "output_type": "stream",
          "text": [
            "Trial 5 Complete [00h 00m 14s]\n",
            "val_accuracy: 0.963087260723114\n",
            "\n",
            "Best val_accuracy So Far: 0.963087260723114\n",
            "Total elapsed time: 00h 01m 30s\n"
          ]
        }
      ],
      "source": [
        "tuner.search(x_trainvec, y_train,batch_size=BATCH_SIZE,\n",
        "             epochs=num_epochs,\n",
        "             validation_data=(x_valvec, y_test))"
      ]
    },
    {
      "cell_type": "code",
      "execution_count": null,
      "metadata": {
        "colab": {
          "base_uri": "https://localhost:8080/"
        },
        "id": "PGzejdixaDus",
        "outputId": "e9986afb-00a8-4aad-c122-dccb9c950fd2"
      },
      "outputs": [
        {
          "name": "stdout",
          "output_type": "stream",
          "text": [
            "Results summary\n",
            "Results in ./untitled_project\n",
            "Showing 10 best trials\n",
            "<keras_tuner.engine.objective.Objective object at 0x7f30c3350dd0>\n",
            "Trial summary\n",
            "Hyperparameters:\n",
            "SDropout: 0.0\n",
            "units1: 14\n",
            "dropout: 0.30000000000000004\n",
            "learning_rate: 0.0001\n",
            "Score: 0.9597315192222595\n",
            "Trial summary\n",
            "Hyperparameters:\n",
            "SDropout: 0.0\n",
            "units1: 10\n",
            "dropout: 0.0\n",
            "learning_rate: 0.0001\n",
            "Score: 0.9530201554298401\n",
            "Trial summary\n",
            "Hyperparameters:\n",
            "SDropout: 0.30000000000000004\n",
            "units1: 16\n",
            "dropout: 0.2\n",
            "learning_rate: 0.0001\n",
            "Score: 0.9496644139289856\n",
            "Trial summary\n",
            "Hyperparameters:\n",
            "SDropout: 0.0\n",
            "units1: 8\n",
            "dropout: 0.4\n",
            "learning_rate: 0.01\n",
            "Score: 0.9496644139289856\n",
            "Trial summary\n",
            "Hyperparameters:\n",
            "SDropout: 0.0\n",
            "units1: 16\n",
            "dropout: 0.4\n",
            "learning_rate: 0.0001\n",
            "Score: 0.9496644139289856\n"
          ]
        }
      ],
      "source": [
        "tuner.results_summary()"
      ]
    },
    {
      "cell_type": "code",
      "execution_count": null,
      "metadata": {
        "colab": {
          "base_uri": "https://localhost:8080/"
        },
        "id": "BR58OIdQ6HW3",
        "outputId": "ec242bf2-06a8-4ab6-9e25-76dbde9ae44e"
      },
      "outputs": [
        {
          "name": "stdout",
          "output_type": "stream",
          "text": [
            "{'SDropout': 0.4, 'units1': 14, 'dropout': 0.0, 'learning_rate': 0.01}\n"
          ]
        }
      ],
      "source": [
        "# Get the optimal hyperparameters\n",
        "best_hps = tuner.get_best_hyperparameters(num_trials = 1)[0]\n",
        "print(best_hps.values)"
      ]
    },
    {
      "cell_type": "code",
      "execution_count": null,
      "metadata": {
        "colab": {
          "base_uri": "https://localhost:8080/"
        },
        "id": "5mvlbNdUFPph",
        "outputId": "b6f0ca79-ef9f-4fc5-c021-25b92354485b"
      },
      "outputs": [
        {
          "name": "stdout",
          "output_type": "stream",
          "text": [
            "{'SDropout': 0.30000000000000004, 'units1': 10, 'dropout': 0.1, 'learning_rate': 0.0001}\n"
          ]
        }
      ],
      "source": [
        "# Get the optimal hyperparameters\n",
        "best_hps = tuner.get_best_hyperparameters(num_trials = 1)[0]\n",
        "print(best_hps.values)"
      ]
    },
    {
      "cell_type": "markdown",
      "metadata": {
        "id": "2il02aYxz4Hn"
      },
      "source": [
        "# {'SDropout': 0.30000000000000004, 'units1': 10, 'dropout': 0.1, 'learning_rate': 0.0001}\n",
        "\n",
        "---\n",
        "\n"
      ]
    },
    {
      "cell_type": "markdown",
      "metadata": {
        "id": "H66obLuexI6g"
      },
      "source": [
        "# {'SDropout': 0.0, 'units1': 16, 'dropout': 0.4, 'learning_rate': 0.01} --unsupervised learning"
      ]
    },
    {
      "cell_type": "markdown",
      "metadata": {
        "id": "x2HwH49kwp8_"
      },
      "source": [
        "# prams UCEUdim emd\n",
        "{'SDropout': 0.2, 'units1': 10, 'dropout': 0.30000000000000004, 'learning_rate': 0.001}"
      ]
    },
    {
      "cell_type": "markdown",
      "metadata": {
        "id": "Qt4he8KaFpaw"
      },
      "source": [
        "# params UCEU embeddings\n",
        "*{'SDropout': 0.0, 'units1': 14, 'dropout': 0.1, 'learning_rate': 0.01}*\n",
        "\n",
        "# 54 accuracy model params\n",
        "# {'SDropout': 0.2, 'units1': 8, 'dropout': 0.1, 'learning_rate': 0.01}\n",
        "\n",
        "\n",
        "\n"
      ]
    },
    {
      "cell_type": "code",
      "execution_count": null,
      "metadata": {
        "id": "29oEHilwaDut"
      },
      "outputs": [],
      "source": [
        "# model svaing\n",
        "filepath = '/content/drive/MyDrive/CrosslingualModelPaper2/Results/glove_fast200dSemi/'\n",
        "# saving fitting accuracy and others\n",
        "csv_logger = CSVLogger(filepath+'CrosslingualModel_GandFVec200d1Hyp1.csv', append=True, separator=';')\n",
        "check_point = ModelCheckpoint(filepath+'CrosslingualModel_GandFVec200d1Hyp1.h5', save_best_only=True, save_weights_only=True)\n",
        "calls = [csv_logger,check_point]"
      ]
    },
    {
      "cell_type": "code",
      "execution_count": null,
      "metadata": {
        "colab": {
          "base_uri": "https://localhost:8080/"
        },
        "id": "tnQJ7FGXVBVz",
        "outputId": "a5ca12f0-eb4f-4886-a8a0-321c2a24d9e6"
      },
      "outputs": [
        {
          "name": "stdout",
          "output_type": "stream",
          "text": [
            "Model: \"model_1\"\n",
            "_________________________________________________________________\n",
            " Layer (type)                Output Shape              Param #   \n",
            "=================================================================\n",
            " input_2 (InputLayer)        [(None, 200)]             0         \n",
            "                                                                 \n",
            " embedding (Embedding)       (None, 200, 200)          4417000   \n",
            "                                                                 \n",
            " spatial_dropout1d_1 (Spatia  (None, 200, 200)         0         \n",
            " lDropout1D)                                                     \n",
            "                                                                 \n",
            " flatten_1 (Flatten)         (None, 40000)             0         \n",
            "                                                                 \n",
            " dense_2 (Dense)             (None, 16)                640016    \n",
            "                                                                 \n",
            " dropout_1 (Dropout)         (None, 16)                0         \n",
            "                                                                 \n",
            " dense_3 (Dense)             (None, 5)                 85        \n",
            "                                                                 \n",
            "=================================================================\n",
            "Total params: 5,057,101\n",
            "Trainable params: 640,101\n",
            "Non-trainable params: 4,417,000\n",
            "_________________________________________________________________\n"
          ]
        }
      ],
      "source": [
        "# define cnn model\n",
        "def create_model():\n",
        "  model = Sequential()\n",
        "  int_sequences_input = keras.Input(shape=(200,), dtype=\"int64\") # word embedding shape\n",
        "  embedding_sequence_file200d = embedding_layer_word(int_sequences_input)\n",
        "  x = SpatialDropout1D(0.1)(embedding_sequence_file200d)\n",
        "  x = Flatten()(x)\n",
        "  # hp_units1 = hp.Int('units1', 8, 16, step=2, default=4)\n",
        "  x = Dense(16, activation='relu')(x)\n",
        "  # x = Dense(units=hp_units1, activation='relu')(x)\n",
        "  x = Dropout(0.4)(x)\n",
        "  # x = Dropout(hp.Float('dropout',0.1,0.5,step=0.1,default=0.1))(x)\n",
        "  # compile model\n",
        "  outputs = Dense(5, activation='softmax')(x)\n",
        "  hp_learning_rate = 0.01\n",
        "  opt = Adam(learning_rate=hp_learning_rate)\n",
        "  model = Model(int_sequences_input, outputs)\n",
        "  model.compile(optimizer=opt, loss='categorical_crossentropy', metrics=['accuracy'])\n",
        "  return model\n",
        "\n",
        "# Create a basic model instance\n",
        "model = create_model()\n",
        "\n",
        "# Display the model's architecture\n",
        "model.summary()"
      ]
    },
    {
      "cell_type": "code",
      "execution_count": null,
      "metadata": {
        "colab": {
          "base_uri": "https://localhost:8080/"
        },
        "id": "fPCqc7vuaDut",
        "outputId": "2b3d5f24-17e1-42da-d0d2-92258c973445"
      },
      "outputs": [
        {
          "name": "stdout",
          "output_type": "stream",
          "text": [
            "Epoch 1/125\n",
            "19/19 [==============================] - 1s 26ms/step - loss: 0.8301 - accuracy: 0.6871 - val_loss: 0.3111 - val_accuracy: 0.9027\n",
            "Epoch 2/125\n",
            "19/19 [==============================] - 0s 12ms/step - loss: 0.1312 - accuracy: 0.9648 - val_loss: 0.2297 - val_accuracy: 0.9329\n",
            "Epoch 3/125\n",
            "19/19 [==============================] - 0s 19ms/step - loss: 0.0325 - accuracy: 0.9941 - val_loss: 0.2073 - val_accuracy: 0.9362\n",
            "Epoch 4/125\n",
            "19/19 [==============================] - 0s 13ms/step - loss: 0.0199 - accuracy: 0.9975 - val_loss: 0.2155 - val_accuracy: 0.9430\n",
            "Epoch 5/125\n",
            "19/19 [==============================] - 0s 13ms/step - loss: 0.0068 - accuracy: 1.0000 - val_loss: 0.1975 - val_accuracy: 0.9362\n",
            "Epoch 6/125\n",
            "19/19 [==============================] - 0s 8ms/step - loss: 0.0063 - accuracy: 1.0000 - val_loss: 0.2012 - val_accuracy: 0.9362\n",
            "Epoch 7/125\n",
            "19/19 [==============================] - 0s 7ms/step - loss: 0.0078 - accuracy: 0.9983 - val_loss: 0.2107 - val_accuracy: 0.9463\n",
            "Epoch 8/125\n",
            "19/19 [==============================] - 0s 7ms/step - loss: 0.0037 - accuracy: 1.0000 - val_loss: 0.2170 - val_accuracy: 0.9396\n",
            "Epoch 9/125\n",
            "19/19 [==============================] - 0s 7ms/step - loss: 0.0028 - accuracy: 1.0000 - val_loss: 0.2043 - val_accuracy: 0.9396\n",
            "Epoch 10/125\n",
            "19/19 [==============================] - 0s 9ms/step - loss: 0.0037 - accuracy: 1.0000 - val_loss: 0.2083 - val_accuracy: 0.9295\n",
            "Epoch 11/125\n",
            "19/19 [==============================] - 0s 7ms/step - loss: 0.0021 - accuracy: 1.0000 - val_loss: 0.2045 - val_accuracy: 0.9430\n",
            "Epoch 12/125\n",
            "19/19 [==============================] - 0s 7ms/step - loss: 0.0019 - accuracy: 1.0000 - val_loss: 0.2211 - val_accuracy: 0.9463\n",
            "Epoch 13/125\n",
            "19/19 [==============================] - 0s 5ms/step - loss: 0.0015 - accuracy: 1.0000 - val_loss: 0.2106 - val_accuracy: 0.9396\n",
            "Epoch 14/125\n",
            "19/19 [==============================] - 0s 5ms/step - loss: 0.0013 - accuracy: 1.0000 - val_loss: 0.2070 - val_accuracy: 0.9396\n",
            "Epoch 15/125\n",
            "19/19 [==============================] - 0s 5ms/step - loss: 0.0013 - accuracy: 1.0000 - val_loss: 0.2084 - val_accuracy: 0.9362\n",
            "Epoch 16/125\n",
            "19/19 [==============================] - 0s 5ms/step - loss: 6.5973e-04 - accuracy: 1.0000 - val_loss: 0.2098 - val_accuracy: 0.9362\n",
            "Epoch 17/125\n",
            "19/19 [==============================] - 0s 5ms/step - loss: 9.9529e-04 - accuracy: 1.0000 - val_loss: 0.2115 - val_accuracy: 0.9362\n",
            "Epoch 18/125\n",
            "19/19 [==============================] - 0s 5ms/step - loss: 9.1473e-04 - accuracy: 1.0000 - val_loss: 0.2138 - val_accuracy: 0.9430\n",
            "Epoch 19/125\n",
            "19/19 [==============================] - 0s 5ms/step - loss: 0.0010 - accuracy: 1.0000 - val_loss: 0.2188 - val_accuracy: 0.9463\n",
            "Epoch 20/125\n",
            "19/19 [==============================] - 0s 5ms/step - loss: 9.3177e-04 - accuracy: 1.0000 - val_loss: 0.2096 - val_accuracy: 0.9396\n",
            "Epoch 21/125\n",
            "19/19 [==============================] - 0s 5ms/step - loss: 9.1804e-04 - accuracy: 1.0000 - val_loss: 0.2157 - val_accuracy: 0.9396\n",
            "Epoch 22/125\n",
            "19/19 [==============================] - 0s 5ms/step - loss: 6.1683e-04 - accuracy: 1.0000 - val_loss: 0.2136 - val_accuracy: 0.9396\n",
            "Epoch 23/125\n",
            "19/19 [==============================] - 0s 5ms/step - loss: 6.0967e-04 - accuracy: 1.0000 - val_loss: 0.2121 - val_accuracy: 0.9463\n",
            "Epoch 24/125\n",
            "19/19 [==============================] - 0s 5ms/step - loss: 0.0011 - accuracy: 1.0000 - val_loss: 0.2225 - val_accuracy: 0.9362\n",
            "Epoch 25/125\n",
            "19/19 [==============================] - 0s 5ms/step - loss: 0.0058 - accuracy: 0.9983 - val_loss: 0.2726 - val_accuracy: 0.9329\n",
            "Epoch 26/125\n",
            "19/19 [==============================] - 0s 5ms/step - loss: 0.0038 - accuracy: 0.9992 - val_loss: 0.2137 - val_accuracy: 0.9463\n",
            "Epoch 27/125\n",
            "19/19 [==============================] - 0s 5ms/step - loss: 0.0063 - accuracy: 0.9983 - val_loss: 0.2449 - val_accuracy: 0.9362\n",
            "Epoch 28/125\n",
            "19/19 [==============================] - 0s 5ms/step - loss: 0.0013 - accuracy: 1.0000 - val_loss: 0.2181 - val_accuracy: 0.9430\n",
            "Epoch 29/125\n",
            "19/19 [==============================] - 0s 5ms/step - loss: 9.6982e-04 - accuracy: 1.0000 - val_loss: 0.2290 - val_accuracy: 0.9430\n",
            "Epoch 30/125\n",
            "19/19 [==============================] - 0s 5ms/step - loss: 0.0045 - accuracy: 0.9983 - val_loss: 0.2363 - val_accuracy: 0.9463\n",
            "Epoch 31/125\n",
            "19/19 [==============================] - 0s 5ms/step - loss: 0.0015 - accuracy: 1.0000 - val_loss: 0.2319 - val_accuracy: 0.9497\n",
            "Epoch 32/125\n",
            "19/19 [==============================] - 0s 5ms/step - loss: 5.7228e-04 - accuracy: 1.0000 - val_loss: 0.2325 - val_accuracy: 0.9497\n",
            "Epoch 33/125\n",
            "19/19 [==============================] - 0s 5ms/step - loss: 4.4580e-04 - accuracy: 1.0000 - val_loss: 0.2367 - val_accuracy: 0.9463\n",
            "Epoch 34/125\n",
            "19/19 [==============================] - 0s 5ms/step - loss: 2.5532e-04 - accuracy: 1.0000 - val_loss: 0.2369 - val_accuracy: 0.9463\n",
            "Epoch 35/125\n",
            "19/19 [==============================] - 0s 5ms/step - loss: 3.7060e-04 - accuracy: 1.0000 - val_loss: 0.2390 - val_accuracy: 0.9463\n",
            "Epoch 36/125\n",
            "19/19 [==============================] - 0s 5ms/step - loss: 5.8049e-04 - accuracy: 1.0000 - val_loss: 0.2571 - val_accuracy: 0.9362\n",
            "Epoch 37/125\n",
            "19/19 [==============================] - 0s 5ms/step - loss: 3.8682e-04 - accuracy: 1.0000 - val_loss: 0.2423 - val_accuracy: 0.9497\n",
            "Epoch 38/125\n",
            "19/19 [==============================] - 0s 5ms/step - loss: 3.1090e-04 - accuracy: 1.0000 - val_loss: 0.2452 - val_accuracy: 0.9430\n",
            "Epoch 39/125\n",
            "19/19 [==============================] - 0s 5ms/step - loss: 1.7458e-04 - accuracy: 1.0000 - val_loss: 0.2436 - val_accuracy: 0.9463\n",
            "Epoch 40/125\n",
            "19/19 [==============================] - 0s 5ms/step - loss: 2.1717e-04 - accuracy: 1.0000 - val_loss: 0.2425 - val_accuracy: 0.9463\n",
            "Epoch 41/125\n",
            "19/19 [==============================] - 0s 5ms/step - loss: 6.0624e-04 - accuracy: 1.0000 - val_loss: 0.2681 - val_accuracy: 0.9430\n",
            "Epoch 42/125\n",
            "19/19 [==============================] - 0s 5ms/step - loss: 3.6812e-04 - accuracy: 1.0000 - val_loss: 0.2410 - val_accuracy: 0.9463\n",
            "Epoch 43/125\n",
            "19/19 [==============================] - 0s 5ms/step - loss: 1.8714e-04 - accuracy: 1.0000 - val_loss: 0.2344 - val_accuracy: 0.9497\n",
            "Epoch 44/125\n",
            "19/19 [==============================] - 0s 5ms/step - loss: 1.9969e-04 - accuracy: 1.0000 - val_loss: 0.2348 - val_accuracy: 0.9497\n",
            "Epoch 45/125\n",
            "19/19 [==============================] - 0s 5ms/step - loss: 2.5866e-04 - accuracy: 1.0000 - val_loss: 0.2373 - val_accuracy: 0.9530\n",
            "Epoch 46/125\n",
            "19/19 [==============================] - 0s 5ms/step - loss: 2.8409e-04 - accuracy: 1.0000 - val_loss: 0.2436 - val_accuracy: 0.9530\n",
            "Epoch 47/125\n",
            "19/19 [==============================] - 0s 5ms/step - loss: 1.8433e-04 - accuracy: 1.0000 - val_loss: 0.2399 - val_accuracy: 0.9497\n",
            "Epoch 48/125\n",
            "19/19 [==============================] - 0s 5ms/step - loss: 1.3852e-04 - accuracy: 1.0000 - val_loss: 0.2379 - val_accuracy: 0.9497\n",
            "Epoch 49/125\n",
            "19/19 [==============================] - 0s 5ms/step - loss: 1.2112e-04 - accuracy: 1.0000 - val_loss: 0.2381 - val_accuracy: 0.9497\n",
            "Epoch 50/125\n",
            "19/19 [==============================] - 0s 5ms/step - loss: 1.2851e-04 - accuracy: 1.0000 - val_loss: 0.2383 - val_accuracy: 0.9497\n",
            "Epoch 51/125\n",
            "19/19 [==============================] - 0s 5ms/step - loss: 1.7026e-04 - accuracy: 1.0000 - val_loss: 0.2483 - val_accuracy: 0.9430\n",
            "Epoch 52/125\n",
            "19/19 [==============================] - 0s 5ms/step - loss: 1.0637e-04 - accuracy: 1.0000 - val_loss: 0.2493 - val_accuracy: 0.9396\n",
            "Epoch 53/125\n",
            "19/19 [==============================] - 0s 5ms/step - loss: 1.4390e-04 - accuracy: 1.0000 - val_loss: 0.2449 - val_accuracy: 0.9463\n",
            "Epoch 54/125\n",
            "19/19 [==============================] - 0s 5ms/step - loss: 1.6821e-04 - accuracy: 1.0000 - val_loss: 0.2432 - val_accuracy: 0.9430\n",
            "Epoch 55/125\n",
            "19/19 [==============================] - 0s 5ms/step - loss: 6.4903e-04 - accuracy: 1.0000 - val_loss: 0.2370 - val_accuracy: 0.9463\n",
            "Epoch 56/125\n",
            "19/19 [==============================] - 0s 5ms/step - loss: 1.3802e-04 - accuracy: 1.0000 - val_loss: 0.2613 - val_accuracy: 0.9463\n",
            "Epoch 57/125\n",
            "19/19 [==============================] - 0s 5ms/step - loss: 1.6778e-04 - accuracy: 1.0000 - val_loss: 0.2515 - val_accuracy: 0.9463\n",
            "Epoch 58/125\n",
            "19/19 [==============================] - 0s 5ms/step - loss: 8.9378e-05 - accuracy: 1.0000 - val_loss: 0.2532 - val_accuracy: 0.9430\n",
            "Epoch 59/125\n",
            "19/19 [==============================] - 0s 5ms/step - loss: 8.0954e-05 - accuracy: 1.0000 - val_loss: 0.2534 - val_accuracy: 0.9430\n",
            "Epoch 60/125\n",
            "19/19 [==============================] - 0s 5ms/step - loss: 9.2825e-05 - accuracy: 1.0000 - val_loss: 0.2533 - val_accuracy: 0.9430\n",
            "Epoch 61/125\n",
            "19/19 [==============================] - 0s 5ms/step - loss: 1.5532e-04 - accuracy: 1.0000 - val_loss: 0.2537 - val_accuracy: 0.9430\n",
            "Epoch 62/125\n",
            "19/19 [==============================] - 0s 5ms/step - loss: 2.6525e-04 - accuracy: 1.0000 - val_loss: 0.2501 - val_accuracy: 0.9396\n",
            "Epoch 63/125\n",
            "19/19 [==============================] - 0s 5ms/step - loss: 1.1274e-04 - accuracy: 1.0000 - val_loss: 0.2513 - val_accuracy: 0.9463\n",
            "Epoch 64/125\n",
            "19/19 [==============================] - 0s 5ms/step - loss: 2.9708e-04 - accuracy: 1.0000 - val_loss: 0.2898 - val_accuracy: 0.9430\n",
            "Epoch 65/125\n",
            "19/19 [==============================] - 0s 5ms/step - loss: 8.2843e-05 - accuracy: 1.0000 - val_loss: 0.2585 - val_accuracy: 0.9430\n",
            "Epoch 66/125\n",
            "19/19 [==============================] - 0s 6ms/step - loss: 6.6499e-05 - accuracy: 1.0000 - val_loss: 0.2540 - val_accuracy: 0.9463\n",
            "Epoch 67/125\n",
            "19/19 [==============================] - 0s 5ms/step - loss: 7.7580e-05 - accuracy: 1.0000 - val_loss: 0.2521 - val_accuracy: 0.9497\n",
            "Epoch 68/125\n",
            "19/19 [==============================] - 0s 5ms/step - loss: 5.8854e-05 - accuracy: 1.0000 - val_loss: 0.2520 - val_accuracy: 0.9497\n",
            "Epoch 69/125\n",
            "19/19 [==============================] - 0s 5ms/step - loss: 7.7880e-05 - accuracy: 1.0000 - val_loss: 0.2509 - val_accuracy: 0.9497\n",
            "Epoch 70/125\n",
            "19/19 [==============================] - 0s 5ms/step - loss: 5.6745e-05 - accuracy: 1.0000 - val_loss: 0.2514 - val_accuracy: 0.9497\n",
            "Epoch 71/125\n",
            "19/19 [==============================] - 0s 5ms/step - loss: 7.8169e-05 - accuracy: 1.0000 - val_loss: 0.2511 - val_accuracy: 0.9497\n",
            "Epoch 72/125\n",
            "19/19 [==============================] - 0s 5ms/step - loss: 1.1983e-04 - accuracy: 1.0000 - val_loss: 0.2568 - val_accuracy: 0.9396\n",
            "Epoch 73/125\n",
            "19/19 [==============================] - 0s 5ms/step - loss: 1.0563e-04 - accuracy: 1.0000 - val_loss: 0.2849 - val_accuracy: 0.9329\n",
            "Epoch 74/125\n",
            "19/19 [==============================] - 0s 5ms/step - loss: 1.5051e-04 - accuracy: 1.0000 - val_loss: 0.2549 - val_accuracy: 0.9497\n",
            "Epoch 75/125\n",
            "19/19 [==============================] - 0s 5ms/step - loss: 3.9826e-05 - accuracy: 1.0000 - val_loss: 0.2568 - val_accuracy: 0.9530\n",
            "Epoch 76/125\n",
            "19/19 [==============================] - 0s 5ms/step - loss: 5.5163e-05 - accuracy: 1.0000 - val_loss: 0.2582 - val_accuracy: 0.9497\n",
            "Epoch 77/125\n",
            "19/19 [==============================] - 0s 5ms/step - loss: 7.1358e-05 - accuracy: 1.0000 - val_loss: 0.2588 - val_accuracy: 0.9497\n",
            "Epoch 78/125\n",
            "19/19 [==============================] - 0s 5ms/step - loss: 1.4502e-04 - accuracy: 1.0000 - val_loss: 0.2765 - val_accuracy: 0.9463\n",
            "Epoch 79/125\n",
            "19/19 [==============================] - 0s 5ms/step - loss: 1.0959e-04 - accuracy: 1.0000 - val_loss: 0.2879 - val_accuracy: 0.9396\n",
            "Epoch 80/125\n",
            "19/19 [==============================] - 0s 5ms/step - loss: 1.0549e-04 - accuracy: 1.0000 - val_loss: 0.2761 - val_accuracy: 0.9463\n",
            "Epoch 81/125\n",
            "19/19 [==============================] - 0s 5ms/step - loss: 6.1089e-05 - accuracy: 1.0000 - val_loss: 0.2755 - val_accuracy: 0.9463\n",
            "Epoch 82/125\n",
            "19/19 [==============================] - 0s 5ms/step - loss: 3.6061e-05 - accuracy: 1.0000 - val_loss: 0.2720 - val_accuracy: 0.9497\n",
            "Epoch 83/125\n",
            "19/19 [==============================] - 0s 5ms/step - loss: 9.0772e-05 - accuracy: 1.0000 - val_loss: 0.2724 - val_accuracy: 0.9530\n",
            "Epoch 84/125\n",
            "19/19 [==============================] - 0s 5ms/step - loss: 6.9832e-05 - accuracy: 1.0000 - val_loss: 0.2706 - val_accuracy: 0.9497\n",
            "Epoch 85/125\n",
            "19/19 [==============================] - 0s 5ms/step - loss: 6.6095e-05 - accuracy: 1.0000 - val_loss: 0.2778 - val_accuracy: 0.9497\n",
            "Epoch 86/125\n",
            "19/19 [==============================] - 0s 5ms/step - loss: 2.3212e-04 - accuracy: 1.0000 - val_loss: 0.3416 - val_accuracy: 0.9228\n",
            "Epoch 87/125\n",
            "19/19 [==============================] - 0s 5ms/step - loss: 3.9270e-04 - accuracy: 1.0000 - val_loss: 0.2686 - val_accuracy: 0.9530\n",
            "Epoch 88/125\n",
            "19/19 [==============================] - 0s 5ms/step - loss: 2.5445e-04 - accuracy: 1.0000 - val_loss: 0.2807 - val_accuracy: 0.9362\n",
            "Epoch 89/125\n",
            "19/19 [==============================] - 0s 6ms/step - loss: 3.4554e-04 - accuracy: 1.0000 - val_loss: 0.2724 - val_accuracy: 0.9497\n",
            "Epoch 90/125\n",
            "19/19 [==============================] - 0s 6ms/step - loss: 2.8838e-04 - accuracy: 1.0000 - val_loss: 0.2834 - val_accuracy: 0.9463\n",
            "Epoch 91/125\n",
            "19/19 [==============================] - 0s 6ms/step - loss: 5.6910e-05 - accuracy: 1.0000 - val_loss: 0.2887 - val_accuracy: 0.9396\n",
            "Epoch 92/125\n",
            "19/19 [==============================] - 0s 5ms/step - loss: 1.7489e-04 - accuracy: 1.0000 - val_loss: 0.2986 - val_accuracy: 0.9396\n",
            "Epoch 93/125\n",
            "19/19 [==============================] - 0s 5ms/step - loss: 4.8267e-04 - accuracy: 1.0000 - val_loss: 0.3638 - val_accuracy: 0.9295\n",
            "Epoch 94/125\n",
            "19/19 [==============================] - 0s 5ms/step - loss: 2.1930e-04 - accuracy: 1.0000 - val_loss: 0.3312 - val_accuracy: 0.9430\n",
            "Epoch 95/125\n",
            "19/19 [==============================] - 0s 4ms/step - loss: 0.0019 - accuracy: 0.9983 - val_loss: 0.3139 - val_accuracy: 0.9396\n",
            "Epoch 96/125\n",
            "19/19 [==============================] - 0s 5ms/step - loss: 0.0011 - accuracy: 1.0000 - val_loss: 0.2665 - val_accuracy: 0.9430\n",
            "Epoch 97/125\n",
            "19/19 [==============================] - 0s 5ms/step - loss: 0.0057 - accuracy: 0.9983 - val_loss: 0.2835 - val_accuracy: 0.9430\n",
            "Epoch 98/125\n",
            "19/19 [==============================] - 0s 5ms/step - loss: 0.0236 - accuracy: 0.9924 - val_loss: 0.3360 - val_accuracy: 0.9329\n",
            "Epoch 99/125\n",
            "19/19 [==============================] - 0s 5ms/step - loss: 0.0226 - accuracy: 0.9916 - val_loss: 0.4469 - val_accuracy: 0.9195\n",
            "Epoch 100/125\n",
            "19/19 [==============================] - 0s 5ms/step - loss: 0.2097 - accuracy: 0.9589 - val_loss: 0.6421 - val_accuracy: 0.8658\n",
            "Epoch 101/125\n",
            "19/19 [==============================] - 0s 5ms/step - loss: 0.0652 - accuracy: 0.9782 - val_loss: 0.7697 - val_accuracy: 0.8859\n",
            "Epoch 102/125\n",
            "19/19 [==============================] - 0s 5ms/step - loss: 0.2016 - accuracy: 0.9622 - val_loss: 0.7115 - val_accuracy: 0.9161\n",
            "Epoch 103/125\n",
            "19/19 [==============================] - 0s 5ms/step - loss: 0.0776 - accuracy: 0.9857 - val_loss: 0.7033 - val_accuracy: 0.8993\n",
            "Epoch 104/125\n",
            "19/19 [==============================] - 0s 6ms/step - loss: 0.0413 - accuracy: 0.9916 - val_loss: 0.5601 - val_accuracy: 0.9228\n",
            "Epoch 105/125\n",
            "19/19 [==============================] - 0s 6ms/step - loss: 0.0433 - accuracy: 0.9891 - val_loss: 0.7792 - val_accuracy: 0.9094\n",
            "Epoch 106/125\n",
            "19/19 [==============================] - 0s 6ms/step - loss: 0.0331 - accuracy: 0.9916 - val_loss: 0.5415 - val_accuracy: 0.9128\n",
            "Epoch 107/125\n",
            "19/19 [==============================] - 0s 5ms/step - loss: 0.0197 - accuracy: 0.9941 - val_loss: 0.6135 - val_accuracy: 0.9060\n",
            "Epoch 108/125\n",
            "19/19 [==============================] - 0s 5ms/step - loss: 0.0483 - accuracy: 0.9908 - val_loss: 0.9227 - val_accuracy: 0.8826\n",
            "Epoch 109/125\n",
            "19/19 [==============================] - 0s 5ms/step - loss: 0.0446 - accuracy: 0.9899 - val_loss: 0.6927 - val_accuracy: 0.9161\n",
            "Epoch 110/125\n",
            "19/19 [==============================] - 0s 5ms/step - loss: 0.0267 - accuracy: 0.9933 - val_loss: 0.5251 - val_accuracy: 0.9295\n",
            "Epoch 111/125\n",
            "19/19 [==============================] - 0s 5ms/step - loss: 0.0166 - accuracy: 0.9950 - val_loss: 0.5180 - val_accuracy: 0.9396\n",
            "Epoch 112/125\n",
            "19/19 [==============================] - 0s 5ms/step - loss: 0.0071 - accuracy: 0.9975 - val_loss: 0.5433 - val_accuracy: 0.9262\n",
            "Epoch 113/125\n",
            "19/19 [==============================] - 0s 5ms/step - loss: 0.0048 - accuracy: 0.9975 - val_loss: 0.5424 - val_accuracy: 0.9295\n",
            "Epoch 114/125\n",
            "19/19 [==============================] - 0s 6ms/step - loss: 0.0015 - accuracy: 0.9992 - val_loss: 0.5377 - val_accuracy: 0.9295\n",
            "Epoch 115/125\n",
            "19/19 [==============================] - 0s 5ms/step - loss: 0.0035 - accuracy: 0.9983 - val_loss: 0.6130 - val_accuracy: 0.9161\n",
            "Epoch 116/125\n",
            "19/19 [==============================] - 0s 5ms/step - loss: 0.0048 - accuracy: 0.9983 - val_loss: 0.4832 - val_accuracy: 0.9463\n",
            "Epoch 117/125\n",
            "19/19 [==============================] - 0s 5ms/step - loss: 0.0078 - accuracy: 0.9975 - val_loss: 0.5876 - val_accuracy: 0.9228\n",
            "Epoch 118/125\n",
            "19/19 [==============================] - 0s 5ms/step - loss: 0.0066 - accuracy: 0.9992 - val_loss: 0.5353 - val_accuracy: 0.9329\n",
            "Epoch 119/125\n",
            "19/19 [==============================] - 0s 5ms/step - loss: 0.0047 - accuracy: 0.9992 - val_loss: 0.5803 - val_accuracy: 0.9195\n",
            "Epoch 120/125\n",
            "19/19 [==============================] - 0s 5ms/step - loss: 0.0079 - accuracy: 0.9983 - val_loss: 0.5199 - val_accuracy: 0.9329\n",
            "Epoch 121/125\n",
            "19/19 [==============================] - 0s 5ms/step - loss: 0.0042 - accuracy: 0.9992 - val_loss: 0.5033 - val_accuracy: 0.9329\n",
            "Epoch 122/125\n",
            "19/19 [==============================] - 0s 5ms/step - loss: 0.0041 - accuracy: 0.9975 - val_loss: 0.5043 - val_accuracy: 0.9430\n",
            "Epoch 123/125\n",
            "19/19 [==============================] - 0s 5ms/step - loss: 0.0013 - accuracy: 0.9992 - val_loss: 0.5779 - val_accuracy: 0.9228\n",
            "Epoch 124/125\n",
            "19/19 [==============================] - 0s 5ms/step - loss: 0.0014 - accuracy: 0.9992 - val_loss: 0.5861 - val_accuracy: 0.9262\n",
            "Epoch 125/125\n",
            "19/19 [==============================] - 0s 5ms/step - loss: 0.0060 - accuracy: 0.9992 - val_loss: 0.6161 - val_accuracy: 0.9228\n"
          ]
        }
      ],
      "source": [
        "model = tuner.hypermodel.build(best_hps)\n",
        "history = model.fit(x_trainvec, y_train,\n",
        "                      epochs=num_epochs,batch_size=BATCH_SIZE,\n",
        "                      validation_data=(x_valvec, y_test),\n",
        "                      callbacks= calls)\n"
      ]
    },
    {
      "cell_type": "code",
      "execution_count": null,
      "metadata": {
        "colab": {
          "base_uri": "https://localhost:8080/",
          "height": 355
        },
        "id": "sYqm44dubzdD",
        "outputId": "26778328-46eb-4f71-e865-b2b9b05b2336"
      },
      "outputs": [
        {
          "data": {
            "image/png": "[encoded data removed]",
            "text/plain": [
              "<Figure size 720x360 with 1 Axes>"
            ]
          },
          "metadata": {},
          "output_type": "display_data"
        }
      ],
      "source": [
        "# 125 epochs, 16 neurons, 1 layer, 0.4 dropout\n",
        "from matplotlib import pyplot as plt\n",
        "plt.plot(history.history['accuracy'])\n",
        "plt.plot(history.history['val_accuracy'])\n",
        "plt.title('model accuracy')\n",
        "plt.ylabel('accuracy')\n",
        "plt.xlabel('epoch')\n",
        "plt.legend(['train', 'val'], loc='lower right')\n",
        "plt.savefig(filepath+\"FFNNaccuracy_GandFVec200d1Hyp1.png\", format = 'png', dpi = 300, bbox_inches='tight')\n",
        "plt.show()"
      ]
    },
    {
      "cell_type": "code",
      "execution_count": null,
      "metadata": {
        "colab": {
          "base_uri": "https://localhost:8080/",
          "height": 355
        },
        "id": "Wn-7TKpUb-dq",
        "outputId": "b401d701-7610-45e5-ab3b-21f142e417c1"
      },
      "outputs": [
        {
          "data": {
            "image/png": "[encoded data removed]",
            "text/plain": [
              "<Figure size 720x360 with 1 Axes>"
            ]
          },
          "metadata": {},
          "output_type": "display_data"
        }
      ],
      "source": [
        "# 125 epochs, 16 neurons, 1 layer, 0.4 dropout\n",
        "from matplotlib import pyplot as plt\n",
        "plt.plot(history.history['loss'])\n",
        "plt.plot(history.history['val_loss'])\n",
        "plt.title('model loss')\n",
        "plt.ylabel('loss')\n",
        "plt.xlabel('epoch')\n",
        "plt.legend(['train', 'val'], loc='lower right')\n",
        "plt.savefig(filepath+\"FFNNloss_GandFVec200d1Hyp1.png\", format = 'png', dpi = 150, bbox_inches='tight')\n",
        "plt.show()"
      ]
    },
    {
      "cell_type": "markdown",
      "metadata": {
        "id": "HONzPJTpaDut"
      },
      "source": [
        "## ROC AUC Curve"
      ]
    },
    {
      "cell_type": "code",
      "execution_count": null,
      "metadata": {
        "id": "A6HBO9WBaDuu"
      },
      "outputs": [],
      "source": [
        "import itertools\n",
        "from scipy import interp\n",
        "from itertools import cycle\n",
        "from sklearn.metrics import roc_curve, auc"
      ]
    },
    {
      "cell_type": "code",
      "execution_count": null,
      "metadata": {
        "id": "8Psoc3s4aDuu"
      },
      "outputs": [],
      "source": [
        "y_score = model.predict(x_valvec)"
      ]
    },
    {
      "cell_type": "code",
      "execution_count": null,
      "metadata": {
        "colab": {
          "base_uri": "https://localhost:8080/",
          "height": 730
        },
        "id": "ciiCqmqRaDuu",
        "outputId": "5eb94de9-140a-4607-b513-febd380e283a"
      },
      "outputs": [
        {
          "name": "stderr",
          "output_type": "stream",
          "text": [
            "/usr/local/lib/python3.7/dist-packages/ipykernel_launcher.py:23: DeprecationWarning: scipy.interp is deprecated and will be removed in SciPy 2.0.0, use numpy.interp instead\n"
          ]
        },
        {
          "data": {
            "image/png": "[encoded data removed]",
            "text/plain": [
              "<Figure size 720x360 with 1 Axes>"
            ]
          },
          "metadata": {},
          "output_type": "display_data"
        },
        {
          "data": {
            "image/png": "[encoded data removed]",
            "text/plain": [
              "<Figure size 720x360 with 1 Axes>"
            ]
          },
          "metadata": {},
          "output_type": "display_data"
        }
      ],
      "source": [
        "lw = 2\n",
        "num_of_class = 5\n",
        "# Compute ROC curve and ROC area for each class\n",
        "fpr = dict()\n",
        "tpr = dict()\n",
        "roc_auc = dict()\n",
        "for i in range(num_of_class):\n",
        "    fpr[i], tpr[i], _ = roc_curve(y_test[:, i], y_score[:, i])\n",
        "    roc_auc[i] = auc(fpr[i], tpr[i])\n",
        "\n",
        "# Compute micro-average ROC curve and ROC area\n",
        "fpr[\"micro\"], tpr[\"micro\"], _ = roc_curve(y_test.ravel(), y_score.ravel())\n",
        "roc_auc[\"micro\"] = auc(fpr[\"micro\"], tpr[\"micro\"])\n",
        "\n",
        "# Compute macro-average ROC curve and ROC area\n",
        "\n",
        "# First aggregate all false positive rates\n",
        "all_fpr = np.unique(np.concatenate([fpr[i] for i in range(num_of_class)]))\n",
        "\n",
        "# Then interpolate all ROC curves at this points\n",
        "mean_tpr = np.zeros_like(all_fpr)\n",
        "for i in range(num_of_class):\n",
        "    mean_tpr += interp(all_fpr, fpr[i], tpr[i])\n",
        "\n",
        "# Finally average it and compute AUC\n",
        "mean_tpr /= num_of_class\n",
        "\n",
        "fpr[\"macro\"] = all_fpr\n",
        "tpr[\"macro\"] = mean_tpr\n",
        "roc_auc[\"macro\"] = auc(fpr[\"macro\"], tpr[\"macro\"])\n",
        "\n",
        "# Plot all ROC curves\n",
        "plt.figure(1)\n",
        "plt.plot(fpr[\"micro\"], tpr[\"micro\"],\n",
        "         label='micro-average ROC curve (area = {0:0.2f})'\n",
        "               ''.format(roc_auc[\"micro\"]),\n",
        "         color='deeppink', linestyle=':', linewidth=4)\n",
        "\n",
        "plt.plot(fpr[\"macro\"], tpr[\"macro\"],\n",
        "         label='macro-average ROC curve (area = {0:0.2f})'\n",
        "               ''.format(roc_auc[\"macro\"]),\n",
        "         color='navy', linestyle=':', linewidth=4)\n",
        "\n",
        "colors = cycle(['aqua', 'darkorange', 'cornflowerblue'])\n",
        "for i, color in zip(range(num_of_class), colors):\n",
        "    plt.plot(fpr[i], tpr[i], color=color, lw=lw,\n",
        "             label='ROC curve of class {0} (area = {1:0.2f})'\n",
        "             ''.format(i, roc_auc[i]))\n",
        "\n",
        "plt.plot([0, 1], [0, 1], 'k--', lw=lw)\n",
        "plt.xlim([0.0, 1.0])\n",
        "plt.ylim([0.0, 1.05])\n",
        "plt.xlabel('False Positive Rate')\n",
        "plt.ylabel('True Positive Rate')\n",
        "plt.title('Receiver operating characteristic (ROC) with 194 dimension from small vocab and 640 compression')\n",
        "plt.legend(loc=\"lower right\")\n",
        "plt.show()\n",
        "\n",
        "# Zoom in view of the upper left corner.\n",
        "plt.figure(2)\n",
        "plt.xlim(0, 0.2)\n",
        "plt.ylim(0.8, 1)\n",
        "plt.plot(fpr[\"micro\"], tpr[\"micro\"],\n",
        "         label='micro-average ROC curve (area = {0:0.2f})'\n",
        "               ''.format(roc_auc[\"micro\"]),\n",
        "         color='deeppink', linestyle=':', linewidth=4)\n",
        "\n",
        "plt.plot(fpr[\"macro\"], tpr[\"macro\"],\n",
        "         label='macro-average ROC curve (area = {0:0.2f})'\n",
        "               ''.format(roc_auc[\"macro\"]),\n",
        "         color='navy', linestyle=':', linewidth=4)\n",
        "\n",
        "colors = cycle(['aqua', 'darkorange', 'cornflowerblue'])\n",
        "for i, color in zip(range(num_of_class), colors):\n",
        "    plt.plot(fpr[i], tpr[i], color=color, lw=lw,\n",
        "             label='ROC curve of class {0} (area = {1:0.2f})'\n",
        "             ''.format(i, roc_auc[i]))\n",
        "\n",
        "plt.plot([0, 1], [0, 1], 'k--', lw=lw)\n",
        "plt.xlabel('False Positive Rate')\n",
        "plt.ylabel('True Positive Rate')\n",
        "plt.title('Receiver operating characteristic (ROC) with 200')\n",
        "plt.legend(loc=\"lower right\")\n",
        "plt.savefig(filepath+'CrosslingualModel_GandFVec200d1Hyp1.png',transparent=False, bbox_inches='tight',dpi=300)\n",
        "plt.show()"
      ]
    },
    {
      "cell_type": "markdown",
      "metadata": {
        "id": "GAuw8miDpz04"
      },
      "source": [
        "## All the graphs Trainable True"
      ]
    },
    {
      "cell_type": "code",
      "execution_count": null,
      "metadata": {
        "id": "vzWNKs7MnJCX"
      },
      "outputs": [],
      "source": [
        "plot_path = '/content/drive/MyDrive/CrosslingualModels/Paper2Results/vecmap/'\n",
        "fast_fast300CCA = pd.read_csv(plot_path + 'CrosslingualModel_FstandFast300SETTest1.csv',sep=';', index_col=0)\n",
        "glove_fast300CCA = pd.read_csv(plot_path + 'Crosslingual_glove_fast300SETCCATest.csv',sep=';', index_col=0)\n",
        "glove_fast200CCA = pd.read_csv(plot_path + 'CrosslingualModel_glove_fastE200CCATest.csv',sep=';', index_col=0)\n",
        "fast_fast300Vecmap = pd.read_csv(plot_path + 'CrosslingualModel_fast_fastVM300d.csv',sep=';', index_col=0)\n",
        "glove_fast200Vecmap = pd.read_csv(plot_path + 'CrosslingualModel_glove_fast200VM.csv',sep=';', index_col=0)\n",
        "glove_fast300VecMap = pd.read_csv(plot_path + 'CrosslingualModel_glove_fastE300d.csv',sep=';', index_col=0)"
      ]
    },
    {
      "cell_type": "code",
      "execution_count": null,
      "metadata": {
        "id": "1oMzifOqDUJU"
      },
      "outputs": [],
      "source": [
        "plt.plot(fast_fast300CCA.index, fast_fast300CCA['val_accuracy'],  color='blue', label= 'FasText and FastText, d = 300, model = CCA',linewidth=1)\n",
        "plt.plot( glove_fast300CCA.index,  glove_fast300CCA['val_accuracy'], color='red', label= 'Glove and FastText, d = 300, model = CCA',linewidth=1)\n",
        "plt.plot(glove_fast200CCA.index, glove_fast200CCA['val_accuracy'],  color='aqua', label= 'Glove and FastText, d = 200, model = CCA',linewidth=1)\n",
        "plt.plot(fast_fast300Vecmap.index, fast_fast300Vecmap['val_accuracy'],  color='darkorange', label= 'FasText and FastText, d = 300, model = VM',linewidth=1)\n",
        "plt.plot(glove_fast300VecMapIloc.index, glove_fast300VecMapIloc['val_accuracy'],  color='black', label= 'Glove and FastText, d = 300, model = VM',linewidth=1)\n",
        "plt.plot(glove_fast200Vecmap.index, glove_fast200Vecmap['val_accuracy'],  color='purple', label= 'Glove and FastText, d = 200, model = VM',linewidth=1)\n",
        "plt.legend()\n",
        "plt.xlabel('Epoch')\n",
        "plt.ylabel('Val_accuracy')\n",
        "plt.title('Validation accuracy for VecMap and CCA embeddings for Setswana South African language')\n",
        "plt.savefig(plot_path+'all_embeddingsTest.png', dpi=300)"
      ]
    },
    {
      "cell_type": "markdown",
      "metadata": {
        "id": "hpfpqLlRsaIo"
      },
      "source": [
        "# Crosslingual Transfer on News Headlines: Zero Shot."
      ]
    },
    {
      "cell_type": "code",
      "execution_count": null,
      "metadata": {
        "id": "IHuAN3HMYoVw"
      },
      "outputs": [],
      "source": [
        "# from keras.models import load_model\n",
        "# loaded_model = load_model('/content/CrosslingualMode90p.h5')\n",
        "import pandas as pd"
      ]
    },
    {
      "cell_type": "code",
      "execution_count": null,
      "metadata": {
        "id": "Lz_nIOAHACF9"
      },
      "outputs": [],
      "source": [
        "testdf = pd.read_excel('/content/drive/MyDrive/CrosslingualModelPaper2/daily-news-full-latest.xlsx')"
      ]
    },
    {
      "cell_type": "code",
      "execution_count": null,
      "metadata": {
        "colab": {
          "base_uri": "https://localhost:8080/",
          "height": 407
        },
        "id": "-ad59YrmACIr",
        "outputId": "1018f77a-a15d-47df-bcac-91dc75a7e143"
      },
      "outputs": [
        {
          "data": {
            "text/html": [
              "\n",
              "  <div id=\"df-3f1c532e-431e-4359-9cf0-856d9fd43343\">\n",
              "    <div class=\"colab-df-container\">\n",
              "      <div>\n",
              "<style scoped>\n",
              "    .dataframe tbody tr th:only-of-type {\n",
              "        vertical-align: middle;\n",
              "    }\n",
              "\n",
              "    .dataframe tbody tr th {\n",
              "        vertical-align: top;\n",
              "    }\n",
              "\n",
              "    .dataframe thead th {\n",
              "        text-align: right;\n",
              "    }\n",
              "</style>\n",
              "<table border=\"1\" class=\"dataframe\">\n",
              "  <thead>\n",
              "    <tr style=\"text-align: right;\">\n",
              "      <th></th>\n",
              "      <th>Unnamed: 0</th>\n",
              "      <th>title</th>\n",
              "      <th>content</th>\n",
              "      <th>url</th>\n",
              "      <th>content_word_count</th>\n",
              "      <th>content_character_count</th>\n",
              "      <th>label</th>\n",
              "      <th>sub-label</th>\n",
              "    </tr>\n",
              "  </thead>\n",
              "  <tbody>\n",
              "    <tr>\n",
              "      <th>0</th>\n",
              "      <td>5827</td>\n",
              "      <td>Mogokgo o lela ka tlhaelo ya matlo a borutelo</td>\n",
              "      <td>Mogokgo wa sekolo se sebotlana sa Takatokwane ...</td>\n",
              "      <td>http://www.dailynews.gov.bw/news-details.php?n...</td>\n",
              "      <td>498</td>\n",
              "      <td>2558.0</td>\n",
              "      <td>education</td>\n",
              "      <td>NaN</td>\n",
              "    </tr>\n",
              "    <tr>\n",
              "      <th>1</th>\n",
              "      <td>3657</td>\n",
              "      <td>Masunga o akotse boipuso</td>\n",
              "      <td>Go lebega banni ba Masunga ba ne ba nyoretswe...</td>\n",
              "      <td>http://www.dailynews.gov.bw/news-details.php?n...</td>\n",
              "      <td>486</td>\n",
              "      <td>2506.0</td>\n",
              "      <td>politics</td>\n",
              "      <td>NaN</td>\n",
              "    </tr>\n",
              "    <tr>\n",
              "      <th>2</th>\n",
              "      <td>2243</td>\n",
              "      <td>Tsamaya ka pula Tautona Khama - Palapye</td>\n",
              "      <td>E rile e tsena tshetlha ya dikgwa ya ga Mmangw...</td>\n",
              "      <td>http://www.dailynews.gov.bw/news-details.php?n...</td>\n",
              "      <td>536</td>\n",
              "      <td>2722.0</td>\n",
              "      <td>society</td>\n",
              "      <td>politics</td>\n",
              "    </tr>\n",
              "    <tr>\n",
              "      <th>3</th>\n",
              "      <td>6889</td>\n",
              "      <td>Maitseo namane ya moroba</td>\n",
              "      <td>Ditlhopha tsa moopelo wa dinnoto le tsa metlae...</td>\n",
              "      <td>http://www.dailynews.gov.bw/news-details.php?n...</td>\n",
              "      <td>296</td>\n",
              "      <td>1638.0</td>\n",
              "      <td>arts,culture,entertainment and media</td>\n",
              "      <td>NaN</td>\n",
              "    </tr>\n",
              "    <tr>\n",
              "      <th>4</th>\n",
              "      <td>3133</td>\n",
              "      <td>Morogo wa lephutshe o na le dikotla</td>\n",
              "      <td>Bontsi jwa batho ba rata merogo ya rothwe, mor...</td>\n",
              "      <td>http://www.dailynews.gov.bw/news-details.php?n...</td>\n",
              "      <td>295</td>\n",
              "      <td>1487.0</td>\n",
              "      <td>health</td>\n",
              "      <td>education</td>\n",
              "    </tr>\n",
              "  </tbody>\n",
              "</table>\n",
              "</div>\n",
              "      <button class=\"colab-df-convert\" onclick=\"convertToInteractive('df-3f1c532e-431e-4359-9cf0-856d9fd43343')\"\n",
              "              title=\"Convert this dataframe to an interactive table.\"\n",
              "              style=\"display:none;\">\n",
              "        \n",
              "  <svg xmlns=\"http://www.w3.org/2000/svg\" height=\"24px\"viewBox=\"0 0 24 24\"\n",
              "       width=\"24px\">\n",
              "    <path d=\"M0 0h24v24H0V0z\" fill=\"none\"/>\n",
              "    <path d=\"M18.56 5.44l.94 2.06.94-2.06 2.06-.94-2.06-.94-.94-2.06-.94 2.06-2.06.94zm-11 1L8.5 8.5l.94-2.06 2.06-.94-2.06-.94L8.5 2.5l-.94 2.06-2.06.94zm10 10l.94 2.06.94-2.06 2.06-.94-2.06-.94-.94-2.06-.94 2.06-2.06.94z\"/><path d=\"M17.41 7.96l-1.37-1.37c-.4-.4-.92-.59-1.43-.59-.52 0-1.04.2-1.43.59L10.3 9.45l-7.72 7.72c-.78.78-.78 2.05 0 2.83L4 21.41c.39.39.9.59 1.41.59.51 0 1.02-.2 1.41-.59l7.78-7.78 2.81-2.81c.8-.78.8-2.07 0-2.86zM5.41 20L4 18.59l7.72-7.72 1.47 1.35L5.41 20z\"/>\n",
              "  </svg>\n",
              "      </button>\n",
              "      \n",
              "  <style>\n",
              "    .colab-df-container {\n",
              "      display:flex;\n",
              "      flex-wrap:wrap;\n",
              "      gap: 12px;\n",
              "    }\n",
              "\n",
              "    .colab-df-convert {\n",
              "      background-color: #E8F0FE;\n",
              "      border: none;\n",
              "      border-radius: 50%;\n",
              "      cursor: pointer;\n",
              "      display: none;\n",
              "      fill: #1967D2;\n",
              "      height: 32px;\n",
              "      padding: 0 0 0 0;\n",
              "      width: 32px;\n",
              "    }\n",
              "\n",
              "    .colab-df-convert:hover {\n",
              "      background-color: #E2EBFA;\n",
              "      box-shadow: 0px 1px 2px rgba(60, 64, 67, 0.3), 0px 1px 3px 1px rgba(60, 64, 67, 0.15);\n",
              "      fill: #174EA6;\n",
              "    }\n",
              "\n",
              "    [theme=dark] .colab-df-convert {\n",
              "      background-color: #3B4455;\n",
              "      fill: #D2E3FC;\n",
              "    }\n",
              "\n",
              "    [theme=dark] .colab-df-convert:hover {\n",
              "      background-color: #434B5C;\n",
              "      box-shadow: 0px 1px 3px 1px rgba(0, 0, 0, 0.15);\n",
              "      filter: drop-shadow(0px 1px 2px rgba(0, 0, 0, 0.3));\n",
              "      fill: #FFFFFF;\n",
              "    }\n",
              "  </style>\n",
              "\n",
              "      <script>\n",
              "        const buttonEl =\n",
              "          document.querySelector('#df-3f1c532e-431e-4359-9cf0-856d9fd43343 button.colab-df-convert');\n",
              "        buttonEl.style.display =\n",
              "          google.colab.kernel.accessAllowed ? 'block' : 'none';\n",
              "\n",
              "        async function convertToInteractive(key) {\n",
              "          const element = document.querySelector('#df-3f1c532e-431e-4359-9cf0-856d9fd43343');\n",
              "          const dataTable =\n",
              "            await google.colab.kernel.invokeFunction('convertToInteractive',\n",
              "                                                     [key], {});\n",
              "          if (!dataTable) return;\n",
              "\n",
              "          const docLinkHtml = 'Like what you see? Visit the ' +\n",
              "            '<a target=\"_blank\" href=https://colab.research.google.com/notebooks/data_table.ipynb>data table notebook</a>'\n",
              "            + ' to learn more about interactive tables.';\n",
              "          element.innerHTML = '';\n",
              "          dataTable['output_type'] = 'display_data';\n",
              "          await google.colab.output.renderOutput(dataTable, element);\n",
              "          const docLink = document.createElement('div');\n",
              "          docLink.innerHTML = docLinkHtml;\n",
              "          element.appendChild(docLink);\n",
              "        }\n",
              "      </script>\n",
              "    </div>\n",
              "  </div>\n",
              "  "
            ],
            "text/plain": [
              "   Unnamed: 0                                          title  \\\n",
              "0        5827  Mogokgo o lela ka tlhaelo ya matlo a borutelo   \n",
              "1        3657                       Masunga o akotse boipuso   \n",
              "2        2243        Tsamaya ka pula Tautona Khama - Palapye   \n",
              "3        6889                       Maitseo namane ya moroba   \n",
              "4        3133            Morogo wa lephutshe o na le dikotla   \n",
              "\n",
              "                                             content  \\\n",
              "0  Mogokgo wa sekolo se sebotlana sa Takatokwane ...   \n",
              "1   Go lebega banni ba Masunga ba ne ba nyoretswe...   \n",
              "2  E rile e tsena tshetlha ya dikgwa ya ga Mmangw...   \n",
              "3  Ditlhopha tsa moopelo wa dinnoto le tsa metlae...   \n",
              "4  Bontsi jwa batho ba rata merogo ya rothwe, mor...   \n",
              "\n",
              "                                                 url  content_word_count  \\\n",
              "0  http://www.dailynews.gov.bw/news-details.php?n...                 498   \n",
              "1  http://www.dailynews.gov.bw/news-details.php?n...                 486   \n",
              "2  http://www.dailynews.gov.bw/news-details.php?n...                 536   \n",
              "3  http://www.dailynews.gov.bw/news-details.php?n...                 296   \n",
              "4  http://www.dailynews.gov.bw/news-details.php?n...                 295   \n",
              "\n",
              "   content_character_count                                 label  sub-label  \n",
              "0                   2558.0                             education        NaN  \n",
              "1                   2506.0                              politics        NaN  \n",
              "2                   2722.0                               society   politics  \n",
              "3                   1638.0  arts,culture,entertainment and media        NaN  \n",
              "4                   1487.0                                health  education  "
            ]
          },
          "execution_count": 32,
          "metadata": {},
          "output_type": "execute_result"
        }
      ],
      "source": [
        "testdf.head()"
      ]
    },
    {
      "cell_type": "code",
      "execution_count": null,
      "metadata": {
        "id": "wzzhyCJFDmOT"
      },
      "outputs": [],
      "source": [
        "\n",
        "testdf_wcols = testdf.drop(['Unnamed: 0', 'title', 'url', 'content_word_count', 'content_character_count', 'sub-label' ], axis=1)"
      ]
    },
    {
      "cell_type": "code",
      "execution_count": null,
      "metadata": {
        "id": "ReAmgqF6DmRM"
      },
      "outputs": [],
      "source": [
        "# drop Nan\n",
        "testdf_wcolsNanRemoved = testdf_wcols.dropna()"
      ]
    },
    {
      "cell_type": "code",
      "execution_count": null,
      "metadata": {
        "id": "-sY-CKNZEC92"
      },
      "outputs": [],
      "source": [
        "testdf_wcolNoedu = testdf_wcolsNanRemoved[testdf_wcolsNanRemoved['label'] != 'education']\n"
      ]
    },
    {
      "cell_type": "code",
      "execution_count": null,
      "metadata": {
        "id": "GA7p0ToWEC95"
      },
      "outputs": [],
      "source": [
        "\n",
        "testdf_wcolNohelt = testdf_wcolNoedu[testdf_wcolNoedu['label'] != 'health']"
      ]
    },
    {
      "cell_type": "code",
      "execution_count": null,
      "metadata": {
        "id": "NkPwwbzUEC97"
      },
      "outputs": [],
      "source": [
        "testdf_wcolNoenv= testdf_wcolNohelt[testdf_wcolNohelt['label'] != 'environment']"
      ]
    },
    {
      "cell_type": "code",
      "execution_count": null,
      "metadata": {
        "id": "iFfddwJPEC97"
      },
      "outputs": [],
      "source": [
        "testdf_wcolNolab = testdf_wcolNoenv[testdf_wcolNoenv['label'] != 'labour']"
      ]
    },
    {
      "cell_type": "code",
      "execution_count": null,
      "metadata": {
        "id": "Vx0Y3bukEC98"
      },
      "outputs": [],
      "source": [
        "\n",
        "testdf_wcolNocljus = testdf_wcolNolab[testdf_wcolNolab['label'] != 'crime,law and justuce']"
      ]
    },
    {
      "cell_type": "code",
      "execution_count": null,
      "metadata": {
        "id": "DbMsn4eNEC99"
      },
      "outputs": [],
      "source": [
        "\n",
        "testdf_wcolNorb = testdf_wcolNocljus[testdf_wcolNocljus['label'] != 'religion and belief']"
      ]
    },
    {
      "cell_type": "code",
      "execution_count": null,
      "metadata": {
        "id": "omv0HLAsEC9-"
      },
      "outputs": [],
      "source": [
        "\n",
        "testdf_wcolNohi = testdf_wcolNorb[testdf_wcolNorb['label'] != 'human interest']"
      ]
    },
    {
      "cell_type": "code",
      "execution_count": null,
      "metadata": {
        "id": "gxrb4EM_EC9_"
      },
      "outputs": [],
      "source": [
        "testdf_wcolNodaei = testdf_wcolNohi[testdf_wcolNohi['label'] != 'disaster,accident and emergency incident']"
      ]
    },
    {
      "cell_type": "code",
      "execution_count": null,
      "metadata": {
        "id": "ZeSe6vuZEC9_"
      },
      "outputs": [],
      "source": [
        "testdf_wcolNow = testdf_wcolNodaei[testdf_wcolNodaei['label'] != 'weather']"
      ]
    },
    {
      "cell_type": "code",
      "execution_count": null,
      "metadata": {
        "id": "5yvsXm17EC-A"
      },
      "outputs": [],
      "source": [
        "testdf_wcolNoll = testdf_wcolNow[testdf_wcolNow['label'] != 'lifestyle and leisure']"
      ]
    },
    {
      "cell_type": "code",
      "execution_count": null,
      "metadata": {
        "id": "Tm1CF_ETEC-B"
      },
      "outputs": [],
      "source": [
        "testdf_wcolNopus = testdf_wcolNoll[testdf_wcolNoll['label'] != 'puso']"
      ]
    },
    {
      "cell_type": "code",
      "execution_count": null,
      "metadata": {
        "id": "0pHLLQwzEC-C"
      },
      "outputs": [],
      "source": [
        "testdf_wcolNoHe = testdf_wcolNopus[testdf_wcolNopus['label'] != 'health']"
      ]
    },
    {
      "cell_type": "code",
      "execution_count": null,
      "metadata": {
        "id": "gQiYXfbZcOeb"
      },
      "outputs": [],
      "source": [
        "testdf_wcolNosoc = testdf_wcolNoHe[testdf_wcolNoHe['label'] != 'society']"
      ]
    },
    {
      "cell_type": "code",
      "execution_count": null,
      "metadata": {
        "id": "WNTuNb-Fc40D"
      },
      "outputs": [],
      "source": [
        "testdf_wcolNoHespace = testdf_wcolNosoc[testdf_wcolNosoc['label'] != 'health ']"
      ]
    },
    {
      "cell_type": "code",
      "execution_count": null,
      "metadata": {
        "id": "o7LKsQgpEC-C"
      },
      "outputs": [],
      "source": [
        "\n",
        "\n",
        "# testdf_wcolNoSNTinc = testdf_wcolNoHe[testdf_wcolNoHe['label'] != 'science and technology']"
      ]
    },
    {
      "cell_type": "code",
      "execution_count": null,
      "metadata": {
        "id": "AWy_-OOeEC-D"
      },
      "outputs": [],
      "source": [
        "\n",
        "\n",
        "# testdf_wcolNosctec = testdf_wcolNoSNTinc[testdf_wcolNoSNTinc['label'] != 'sceince and technology']"
      ]
    },
    {
      "cell_type": "code",
      "execution_count": null,
      "metadata": {
        "colab": {
          "base_uri": "https://localhost:8080/"
        },
        "id": "kHnhGQm_EC-D",
        "outputId": "351963c9-2ac2-4ba4-f002-4dceafcf7dd4"
      },
      "outputs": [
        {
          "name": "stderr",
          "output_type": "stream",
          "text": [
            "/usr/local/lib/python3.8/dist-packages/pandas/core/indexing.py:1732: SettingWithCopyWarning: \n",
            "A value is trying to be set on a copy of a slice from a DataFrame\n",
            "\n",
            "See the caveats in the documentation: https://pandas.pydata.org/pandas-docs/stable/user_guide/indexing.html#returning-a-view-versus-a-copy\n",
            "  self._setitem_single_block(indexer, value, name)\n",
            "/usr/local/lib/python3.8/dist-packages/pandas/core/indexing.py:723: SettingWithCopyWarning: \n",
            "A value is trying to be set on a copy of a slice from a DataFrame\n",
            "\n",
            "See the caveats in the documentation: https://pandas.pydata.org/pandas-docs/stable/user_guide/indexing.html#returning-a-view-versus-a-copy\n",
            "  iloc._setitem_with_indexer(indexer, value, self.name)\n"
          ]
        }
      ],
      "source": [
        "testdf_wcolNoHespace.loc[(testdf_wcolNoHespace.label == 'sceince and technology'),'label']='science and technology'"
      ]
    },
    {
      "cell_type": "code",
      "execution_count": null,
      "metadata": {
        "id": "NjzJs723d-ey"
      },
      "outputs": [],
      "source": [
        "# cleanTestDataframe"
      ]
    },
    {
      "cell_type": "code",
      "execution_count": null,
      "metadata": {
        "id": "U5eQrvc8EC-E"
      },
      "outputs": [],
      "source": [
        "# testdf_wcolNopuso = testdf_wcolNosoc[testdf_wcolNosoc['label'] != 'puso']"
      ]
    },
    {
      "cell_type": "code",
      "execution_count": null,
      "metadata": {
        "colab": {
          "base_uri": "https://localhost:8080/",
          "height": 206
        },
        "id": "EVO42Icqhbgg",
        "outputId": "fac07e97-5164-4f09-e503-5161a28ebd75"
      },
      "outputs": [
        {
          "data": {
            "text/html": [
              "\n",
              "  <div id=\"df-b912660c-7d34-40cf-a69b-081dc5f439d3\">\n",
              "    <div class=\"colab-df-container\">\n",
              "      <div>\n",
              "<style scoped>\n",
              "    .dataframe tbody tr th:only-of-type {\n",
              "        vertical-align: middle;\n",
              "    }\n",
              "\n",
              "    .dataframe tbody tr th {\n",
              "        vertical-align: top;\n",
              "    }\n",
              "\n",
              "    .dataframe thead th {\n",
              "        text-align: right;\n",
              "    }\n",
              "</style>\n",
              "<table border=\"1\" class=\"dataframe\">\n",
              "  <thead>\n",
              "    <tr style=\"text-align: right;\">\n",
              "      <th></th>\n",
              "      <th>content</th>\n",
              "      <th>label</th>\n",
              "    </tr>\n",
              "  </thead>\n",
              "  <tbody>\n",
              "    <tr>\n",
              "      <th>1</th>\n",
              "      <td>Go lebega banni ba Masunga ba ne ba nyoretswe...</td>\n",
              "      <td>politics</td>\n",
              "    </tr>\n",
              "    <tr>\n",
              "      <th>3</th>\n",
              "      <td>Ditlhopha tsa moopelo wa dinnoto le tsa metlae...</td>\n",
              "      <td>arts,culture,entertainment and media</td>\n",
              "    </tr>\n",
              "    <tr>\n",
              "      <th>5</th>\n",
              "      <td>Banni ba Ramonaka mo kgaolong ya Kgatleng Botl...</td>\n",
              "      <td>politics</td>\n",
              "    </tr>\n",
              "    <tr>\n",
              "      <th>7</th>\n",
              "      <td>Baithuti ba mmadikole wa boranyane le dipatlis...</td>\n",
              "      <td>science and technology</td>\n",
              "    </tr>\n",
              "    <tr>\n",
              "      <th>10</th>\n",
              "      <td>Tautona Lt Gen. Seretse Khama Ian Khama o sa t...</td>\n",
              "      <td>arts,culture,entertainment and media</td>\n",
              "    </tr>\n",
              "  </tbody>\n",
              "</table>\n",
              "</div>\n",
              "      <button class=\"colab-df-convert\" onclick=\"convertToInteractive('df-b912660c-7d34-40cf-a69b-081dc5f439d3')\"\n",
              "              title=\"Convert this dataframe to an interactive table.\"\n",
              "              style=\"display:none;\">\n",
              "        \n",
              "  <svg xmlns=\"http://www.w3.org/2000/svg\" height=\"24px\"viewBox=\"0 0 24 24\"\n",
              "       width=\"24px\">\n",
              "    <path d=\"M0 0h24v24H0V0z\" fill=\"none\"/>\n",
              "    <path d=\"M18.56 5.44l.94 2.06.94-2.06 2.06-.94-2.06-.94-.94-2.06-.94 2.06-2.06.94zm-11 1L8.5 8.5l.94-2.06 2.06-.94-2.06-.94L8.5 2.5l-.94 2.06-2.06.94zm10 10l.94 2.06.94-2.06 2.06-.94-2.06-.94-.94-2.06-.94 2.06-2.06.94z\"/><path d=\"M17.41 7.96l-1.37-1.37c-.4-.4-.92-.59-1.43-.59-.52 0-1.04.2-1.43.59L10.3 9.45l-7.72 7.72c-.78.78-.78 2.05 0 2.83L4 21.41c.39.39.9.59 1.41.59.51 0 1.02-.2 1.41-.59l7.78-7.78 2.81-2.81c.8-.78.8-2.07 0-2.86zM5.41 20L4 18.59l7.72-7.72 1.47 1.35L5.41 20z\"/>\n",
              "  </svg>\n",
              "      </button>\n",
              "      \n",
              "  <style>\n",
              "    .colab-df-container {\n",
              "      display:flex;\n",
              "      flex-wrap:wrap;\n",
              "      gap: 12px;\n",
              "    }\n",
              "\n",
              "    .colab-df-convert {\n",
              "      background-color: #E8F0FE;\n",
              "      border: none;\n",
              "      border-radius: 50%;\n",
              "      cursor: pointer;\n",
              "      display: none;\n",
              "      fill: #1967D2;\n",
              "      height: 32px;\n",
              "      padding: 0 0 0 0;\n",
              "      width: 32px;\n",
              "    }\n",
              "\n",
              "    .colab-df-convert:hover {\n",
              "      background-color: #E2EBFA;\n",
              "      box-shadow: 0px 1px 2px rgba(60, 64, 67, 0.3), 0px 1px 3px 1px rgba(60, 64, 67, 0.15);\n",
              "      fill: #174EA6;\n",
              "    }\n",
              "\n",
              "    [theme=dark] .colab-df-convert {\n",
              "      background-color: #3B4455;\n",
              "      fill: #D2E3FC;\n",
              "    }\n",
              "\n",
              "    [theme=dark] .colab-df-convert:hover {\n",
              "      background-color: #434B5C;\n",
              "      box-shadow: 0px 1px 3px 1px rgba(0, 0, 0, 0.15);\n",
              "      filter: drop-shadow(0px 1px 2px rgba(0, 0, 0, 0.3));\n",
              "      fill: #FFFFFF;\n",
              "    }\n",
              "  </style>\n",
              "\n",
              "      <script>\n",
              "        const buttonEl =\n",
              "          document.querySelector('#df-b912660c-7d34-40cf-a69b-081dc5f439d3 button.colab-df-convert');\n",
              "        buttonEl.style.display =\n",
              "          google.colab.kernel.accessAllowed ? 'block' : 'none';\n",
              "\n",
              "        async function convertToInteractive(key) {\n",
              "          const element = document.querySelector('#df-b912660c-7d34-40cf-a69b-081dc5f439d3');\n",
              "          const dataTable =\n",
              "            await google.colab.kernel.invokeFunction('convertToInteractive',\n",
              "                                                     [key], {});\n",
              "          if (!dataTable) return;\n",
              "\n",
              "          const docLinkHtml = 'Like what you see? Visit the ' +\n",
              "            '<a target=\"_blank\" href=https://colab.research.google.com/notebooks/data_table.ipynb>data table notebook</a>'\n",
              "            + ' to learn more about interactive tables.';\n",
              "          element.innerHTML = '';\n",
              "          dataTable['output_type'] = 'display_data';\n",
              "          await google.colab.output.renderOutput(dataTable, element);\n",
              "          const docLink = document.createElement('div');\n",
              "          docLink.innerHTML = docLinkHtml;\n",
              "          element.appendChild(docLink);\n",
              "        }\n",
              "      </script>\n",
              "    </div>\n",
              "  </div>\n",
              "  "
            ],
            "text/plain": [
              "                                              content  \\\n",
              "1    Go lebega banni ba Masunga ba ne ba nyoretswe...   \n",
              "3   Ditlhopha tsa moopelo wa dinnoto le tsa metlae...   \n",
              "5   Banni ba Ramonaka mo kgaolong ya Kgatleng Botl...   \n",
              "7   Baithuti ba mmadikole wa boranyane le dipatlis...   \n",
              "10  Tautona Lt Gen. Seretse Khama Ian Khama o sa t...   \n",
              "\n",
              "                                   label  \n",
              "1                               politics  \n",
              "3   arts,culture,entertainment and media  \n",
              "5                               politics  \n",
              "7                 science and technology  \n",
              "10  arts,culture,entertainment and media  "
            ]
          },
          "execution_count": 54,
          "metadata": {},
          "output_type": "execute_result"
        }
      ],
      "source": [
        "testdf_wcolNosoc.head()"
      ]
    },
    {
      "cell_type": "code",
      "execution_count": null,
      "metadata": {
        "id": "BN76jtJ22gSB"
      },
      "outputs": [],
      "source": [
        "# sort dataframe\n",
        "sorter = ['economy,business and finance','science and technology','politics', 'sport','arts,culture,entertainment and media']"
      ]
    },
    {
      "cell_type": "code",
      "execution_count": null,
      "metadata": {
        "id": "jGSD25KJ4ufZ"
      },
      "outputs": [],
      "source": [
        "copy_of_testdf_wcolNoHespace = testdf_wcolNoHespace"
      ]
    },
    {
      "cell_type": "code",
      "execution_count": null,
      "metadata": {
        "colab": {
          "base_uri": "https://localhost:8080/"
        },
        "id": "NB3oQqYC4jLV",
        "outputId": "bef572f4-173d-4fc5-c5f9-db214bcb14a8"
      },
      "outputs": [
        {
          "name": "stderr",
          "output_type": "stream",
          "text": [
            "/usr/local/lib/python3.8/dist-packages/pandas/core/generic.py:5516: SettingWithCopyWarning: \n",
            "A value is trying to be set on a copy of a slice from a DataFrame.\n",
            "Try using .loc[row_indexer,col_indexer] = value instead\n",
            "\n",
            "See the caveats in the documentation: https://pandas.pydata.org/pandas-docs/stable/user_guide/indexing.html#returning-a-view-versus-a-copy\n",
            "  self[name] = value\n",
            "/usr/local/lib/python3.8/dist-packages/pandas/core/arrays/categorical.py:2631: FutureWarning: The `inplace` parameter in pandas.Categorical.set_categories is deprecated and will be removed in a future version. Removing unused categories will always return a new Categorical object.\n",
            "  res = method(*args, **kwargs)\n"
          ]
        }
      ],
      "source": [
        "\n",
        "copy_of_testdf_wcolNoHespace.label = copy_of_testdf_wcolNoHespace.label.astype(\"category\")\n",
        "copy_of_testdf_wcolNoHespace.label.cat.set_categories(sorter, inplace=True)\n"
      ]
    },
    {
      "cell_type": "code",
      "execution_count": null,
      "metadata": {
        "id": "nZJ7q_g-5DOa"
      },
      "outputs": [],
      "source": [
        "\n",
        "copy_of_testdf_wcolNoHespace = copy_of_testdf_wcolNoHespace.sort_values('label')"
      ]
    },
    {
      "cell_type": "code",
      "execution_count": null,
      "metadata": {
        "colab": {
          "base_uri": "https://localhost:8080/",
          "height": 206
        },
        "id": "z5H64Gdk56eM",
        "outputId": "2168b88b-8fce-4c4d-dd85-ec1b5cf628c6"
      },
      "outputs": [
        {
          "data": {
            "text/html": [
              "\n",
              "  <div id=\"df-598640db-aae4-461b-b938-de2d920c434b\">\n",
              "    <div class=\"colab-df-container\">\n",
              "      <div>\n",
              "<style scoped>\n",
              "    .dataframe tbody tr th:only-of-type {\n",
              "        vertical-align: middle;\n",
              "    }\n",
              "\n",
              "    .dataframe tbody tr th {\n",
              "        vertical-align: top;\n",
              "    }\n",
              "\n",
              "    .dataframe thead th {\n",
              "        text-align: right;\n",
              "    }\n",
              "</style>\n",
              "<table border=\"1\" class=\"dataframe\">\n",
              "  <thead>\n",
              "    <tr style=\"text-align: right;\">\n",
              "      <th></th>\n",
              "      <th>content</th>\n",
              "      <th>label</th>\n",
              "    </tr>\n",
              "  </thead>\n",
              "  <tbody>\n",
              "    <tr>\n",
              "      <th>1911</th>\n",
              "      <td>Badiri ba seromamowa sa Botswana le banni ba M...</td>\n",
              "      <td>economy,business and finance</td>\n",
              "    </tr>\n",
              "    <tr>\n",
              "      <th>463</th>\n",
              "      <td>Bagwebi ba babotlana kwa Serowe ba itela mo pu...</td>\n",
              "      <td>economy,business and finance</td>\n",
              "    </tr>\n",
              "    <tr>\n",
              "      <th>466</th>\n",
              "      <td>Tona wa Papadi le Madirelo Mme Dorcas Makgato-...</td>\n",
              "      <td>economy,business and finance</td>\n",
              "    </tr>\n",
              "    <tr>\n",
              "      <th>1884</th>\n",
              "      <td>E re ka motlapele a boletse a re ‘metlhala ya ...</td>\n",
              "      <td>economy,business and finance</td>\n",
              "    </tr>\n",
              "    <tr>\n",
              "      <th>919</th>\n",
              "      <td>Go rekisa mo mekgwatheng go tlhamela Batswana ...</td>\n",
              "      <td>economy,business and finance</td>\n",
              "    </tr>\n",
              "  </tbody>\n",
              "</table>\n",
              "</div>\n",
              "      <button class=\"colab-df-convert\" onclick=\"convertToInteractive('df-598640db-aae4-461b-b938-de2d920c434b')\"\n",
              "              title=\"Convert this dataframe to an interactive table.\"\n",
              "              style=\"display:none;\">\n",
              "        \n",
              "  <svg xmlns=\"http://www.w3.org/2000/svg\" height=\"24px\"viewBox=\"0 0 24 24\"\n",
              "       width=\"24px\">\n",
              "    <path d=\"M0 0h24v24H0V0z\" fill=\"none\"/>\n",
              "    <path d=\"M18.56 5.44l.94 2.06.94-2.06 2.06-.94-2.06-.94-.94-2.06-.94 2.06-2.06.94zm-11 1L8.5 8.5l.94-2.06 2.06-.94-2.06-.94L8.5 2.5l-.94 2.06-2.06.94zm10 10l.94 2.06.94-2.06 2.06-.94-2.06-.94-.94-2.06-.94 2.06-2.06.94z\"/><path d=\"M17.41 7.96l-1.37-1.37c-.4-.4-.92-.59-1.43-.59-.52 0-1.04.2-1.43.59L10.3 9.45l-7.72 7.72c-.78.78-.78 2.05 0 2.83L4 21.41c.39.39.9.59 1.41.59.51 0 1.02-.2 1.41-.59l7.78-7.78 2.81-2.81c.8-.78.8-2.07 0-2.86zM5.41 20L4 18.59l7.72-7.72 1.47 1.35L5.41 20z\"/>\n",
              "  </svg>\n",
              "      </button>\n",
              "      \n",
              "  <style>\n",
              "    .colab-df-container {\n",
              "      display:flex;\n",
              "      flex-wrap:wrap;\n",
              "      gap: 12px;\n",
              "    }\n",
              "\n",
              "    .colab-df-convert {\n",
              "      background-color: #E8F0FE;\n",
              "      border: none;\n",
              "      border-radius: 50%;\n",
              "      cursor: pointer;\n",
              "      display: none;\n",
              "      fill: #1967D2;\n",
              "      height: 32px;\n",
              "      padding: 0 0 0 0;\n",
              "      width: 32px;\n",
              "    }\n",
              "\n",
              "    .colab-df-convert:hover {\n",
              "      background-color: #E2EBFA;\n",
              "      box-shadow: 0px 1px 2px rgba(60, 64, 67, 0.3), 0px 1px 3px 1px rgba(60, 64, 67, 0.15);\n",
              "      fill: #174EA6;\n",
              "    }\n",
              "\n",
              "    [theme=dark] .colab-df-convert {\n",
              "      background-color: #3B4455;\n",
              "      fill: #D2E3FC;\n",
              "    }\n",
              "\n",
              "    [theme=dark] .colab-df-convert:hover {\n",
              "      background-color: #434B5C;\n",
              "      box-shadow: 0px 1px 3px 1px rgba(0, 0, 0, 0.15);\n",
              "      filter: drop-shadow(0px 1px 2px rgba(0, 0, 0, 0.3));\n",
              "      fill: #FFFFFF;\n",
              "    }\n",
              "  </style>\n",
              "\n",
              "      <script>\n",
              "        const buttonEl =\n",
              "          document.querySelector('#df-598640db-aae4-461b-b938-de2d920c434b button.colab-df-convert');\n",
              "        buttonEl.style.display =\n",
              "          google.colab.kernel.accessAllowed ? 'block' : 'none';\n",
              "\n",
              "        async function convertToInteractive(key) {\n",
              "          const element = document.querySelector('#df-598640db-aae4-461b-b938-de2d920c434b');\n",
              "          const dataTable =\n",
              "            await google.colab.kernel.invokeFunction('convertToInteractive',\n",
              "                                                     [key], {});\n",
              "          if (!dataTable) return;\n",
              "\n",
              "          const docLinkHtml = 'Like what you see? Visit the ' +\n",
              "            '<a target=\"_blank\" href=https://colab.research.google.com/notebooks/data_table.ipynb>data table notebook</a>'\n",
              "            + ' to learn more about interactive tables.';\n",
              "          element.innerHTML = '';\n",
              "          dataTable['output_type'] = 'display_data';\n",
              "          await google.colab.output.renderOutput(dataTable, element);\n",
              "          const docLink = document.createElement('div');\n",
              "          docLink.innerHTML = docLinkHtml;\n",
              "          element.appendChild(docLink);\n",
              "        }\n",
              "      </script>\n",
              "    </div>\n",
              "  </div>\n",
              "  "
            ],
            "text/plain": [
              "                                                content  \\\n",
              "1911  Badiri ba seromamowa sa Botswana le banni ba M...   \n",
              "463   Bagwebi ba babotlana kwa Serowe ba itela mo pu...   \n",
              "466   Tona wa Papadi le Madirelo Mme Dorcas Makgato-...   \n",
              "1884  E re ka motlapele a boletse a re ‘metlhala ya ...   \n",
              "919   Go rekisa mo mekgwatheng go tlhamela Batswana ...   \n",
              "\n",
              "                             label  \n",
              "1911  economy,business and finance  \n",
              "463   economy,business and finance  \n",
              "466   economy,business and finance  \n",
              "1884  economy,business and finance  \n",
              "919   economy,business and finance  "
            ]
          },
          "execution_count": 59,
          "metadata": {},
          "output_type": "execute_result"
        }
      ],
      "source": [
        "copy_of_testdf_wcolNoHespace.head()"
      ]
    },
    {
      "cell_type": "code",
      "execution_count": null,
      "metadata": {
        "id": "zWvk5EmNcs74"
      },
      "outputs": [],
      "source": [
        "classes_names = copy_of_testdf_wcolNoHespace['label'].unique()"
      ]
    },
    {
      "cell_type": "code",
      "execution_count": null,
      "metadata": {
        "colab": {
          "base_uri": "https://localhost:8080/"
        },
        "id": "uqMmFxE6cyS4",
        "outputId": "4fbdb8d6-4863-4771-ff14-1398c889b316"
      },
      "outputs": [
        {
          "data": {
            "text/plain": [
              "5"
            ]
          },
          "execution_count": 61,
          "metadata": {},
          "output_type": "execute_result"
        }
      ],
      "source": [
        "len(classes_names)"
      ]
    },
    {
      "cell_type": "code",
      "execution_count": null,
      "metadata": {
        "colab": {
          "base_uri": "https://localhost:8080/",
          "height": 355
        },
        "id": "MzgIN-tSvInA",
        "outputId": "3851f8b0-9ea4-4acb-fa89-a5dd0a0d5f27"
      },
      "outputs": [
        {
          "data": {
            "image/png": "[encoded data removed]",
            "text/plain": [
              "<Figure size 720x360 with 1 Axes>"
            ]
          },
          "metadata": {},
          "output_type": "display_data"
        }
      ],
      "source": [
        "# sns plot\n",
        "sns.set(rc={\"figure.figsize\": (10,5)})\n",
        "ax = sns.countplot(y=\"label\",data=testdf_wcolNoHespace)\n",
        "\n",
        "for p in ax.patches:\n",
        "    height = p.get_height()\n",
        "    width = p.get_width()\n",
        "    ax.set_title(\"Setswana transfer category distributions..\")\n",
        "    ax.text(x = width+3,\n",
        "            y = p.get_y() + (height/2),\n",
        "            s = \"{:.0f}\".format(width),\n",
        "            va = \"center\")\n",
        "plt.savefig('Class_dist_Setswana.png', format='eps', bbox_inches='tight')"
      ]
    },
    {
      "cell_type": "code",
      "execution_count": null,
      "metadata": {
        "colab": {
          "base_uri": "https://localhost:8080/",
          "height": 399
        },
        "id": "XtzkKejPDmXR",
        "outputId": "f279f66e-0566-4d8c-abff-aefcda2c92ae"
      },
      "outputs": [
        {
          "data": {
            "image/png": "[encoded data removed]",
            "text/plain": [
              "<Figure size 504x396 with 1 Axes>"
            ]
          },
          "metadata": {},
          "output_type": "display_data"
        }
      ],
      "source": [
        "\n",
        "# print(\"Number of rows per label:\")\n",
        "# print(testdf_wcolNoHespace['label'].value_counts())\n",
        "\n",
        "\n",
        "plt.figure(figsize=(7, 5.5))\n",
        "pd.value_counts(testdf_wcolNoHespace['label']).plot.bar(title=\"Category distribution\")\n",
        "plt.xlabel(\"Categories\")\n",
        "plt.ylabel(\"No. of records per category \")\n",
        "plt.xticks(rotation = 15)\n",
        "plt.xticks([0,1,2,3,4],['PTS', 'ECY,BNS, FNE', 'ART,CTE,ETT,MDA', 'SPT', 'SCE,TCH'])\n",
        "plt.savefig(\"SSSClassdist75_space6h10dg.eps\", format = 'eps', dpi= 300, bbox_inches = 'tight')\n",
        "plt.show()"
      ]
    },
    {
      "cell_type": "code",
      "execution_count": null,
      "metadata": {
        "id": "n2e4yRxxENco"
      },
      "outputs": [],
      "source": [
        "# import numpy as np\n",
        "from tensorflow.keras.utils import to_categorical\n",
        "### Categorical data to be converted to numeric data\n",
        "train_classes1 = copy_of_testdf_wcolNoHespace.label.tolist()\n",
        "\n",
        "### Universal list of colors\n",
        "total_cat1 =  copy_of_testdf_wcolNoHespace['label'].unique()\n",
        "\n",
        "### map each color to an integer\n",
        "mappings = {}\n",
        "for x in range(len(total_cat1)):\n",
        "  mappings[total_cat1[x]] = x\n",
        "\n",
        "# integer representation\n",
        "for x in range(len(train_classes1)):\n",
        "  train_classes1[x] = mappings[train_classes1[x]]\n",
        "\n",
        "testY = to_categorical(train_classes1)\n",
        "# print(one_hot_encode[0:10])"
      ]
    },
    {
      "cell_type": "code",
      "execution_count": null,
      "metadata": {
        "colab": {
          "base_uri": "https://localhost:8080/"
        },
        "id": "DetC0TzyEvzf",
        "outputId": "7b118cd0-7781-4add-c8ec-a0d91feb2279"
      },
      "outputs": [
        {
          "data": {
            "text/plain": [
              "['economy,business and finance', 'science and technology', 'politics', 'sport', 'arts,culture,entertainment and media']\n",
              "Categories (5, object): ['economy,business and finance', 'science and technology', 'politics', 'sport',\n",
              "                         'arts,culture,entertainment and media']"
            ]
          },
          "execution_count": 126,
          "metadata": {},
          "output_type": "execute_result"
        }
      ],
      "source": [
        "total_cat1"
      ]
    },
    {
      "cell_type": "code",
      "execution_count": null,
      "metadata": {
        "colab": {
          "base_uri": "https://localhost:8080/"
        },
        "id": "z-cmRttLhzrS",
        "outputId": "fa6d5a0b-b6ee-4536-d477-8d6e0e2658d4"
      },
      "outputs": [
        {
          "data": {
            "text/plain": [
              "array([[1., 0., 0., 0., 0.],\n",
              "       [1., 0., 0., 0., 0.],\n",
              "       [1., 0., 0., 0., 0.],\n",
              "       [1., 0., 0., 0., 0.],\n",
              "       [1., 0., 0., 0., 0.],\n",
              "       [1., 0., 0., 0., 0.],\n",
              "       [1., 0., 0., 0., 0.],\n",
              "       [1., 0., 0., 0., 0.],\n",
              "       [1., 0., 0., 0., 0.],\n",
              "       [1., 0., 0., 0., 0.]], dtype=float32)"
            ]
          },
          "execution_count": 83,
          "metadata": {},
          "output_type": "execute_result"
        }
      ],
      "source": [
        "\n",
        "\n",
        "testY[0:10]"
      ]
    },
    {
      "cell_type": "markdown",
      "metadata": {
        "id": "kCts9-FAtKoj"
      },
      "source": [
        "# Zero shot transfer with VecMap 300D embeddings from  FastText and FastText monolinguals\n",
        "\n",
        "\n",
        "\n",
        "\n",
        "\n"
      ]
    },
    {
      "cell_type": "code",
      "execution_count": null,
      "metadata": {
        "id": "DCnmCd-g1qzM"
      },
      "outputs": [],
      "source": [
        "# # define cnn model\n",
        "# def create_model():\n",
        "#   model = Sequential()\n",
        "#   int_sequences_input = keras.Input(shape=(300,), dtype=\"int64\") # word embedding shape\n",
        "#   embedding_sequence_file200d = embedding_layer_word_file200d(int_sequences_input)\n",
        "#   x = SpatialDropout1D(0.2)(embedding_sequence_file200d)\n",
        "#   # x = tf.keras.layers.SpatialDropout1D(\n",
        "#   #     hp.Float('sdropout', 0.1, 0.5, step=0.1, default=0.1))(embedding_sequence_file200d)\n",
        "#   x = Flatten()(x)\n",
        "#   # hp_units1 = hp.Int('units1', 8, 16, step=2, default=4)\n",
        "#   x = Dense(12, activation='relu')(x)\n",
        "#   # x = Dense(units=hp_units1, activation='relu')(x)\n",
        "#   x = Dropout(0.2)(x)\n",
        "#   # x = Dropout(hp.Float('dropout',0.1,0.5,step=0.1,default=0.1))(x)\n",
        "#   # compile model\n",
        "#   outputs = Dense(5, activation='softmax')(x)\n",
        "#   hp_learning_rate = 0.0001\n",
        "#   opt = Adam(learning_rate=hp_learning_rate)\n",
        "#   model = Model(int_sequences_input, outputs)\n",
        "#   model.compile(optimizer=opt, loss='categorical_crossentropy', metrics=['accuracy'])\n",
        "#   return model\n",
        "\n",
        "# # Create a basic model instance\n",
        "# model = create_model()\n",
        "\n",
        "# # Display the model's architecture\n",
        "# model.summary()"
      ]
    },
    {
      "cell_type": "code",
      "execution_count": null,
      "metadata": {
        "id": "2Jfd8VtnOsoa"
      },
      "outputs": [],
      "source": [
        "model.load_weights('/content/drive/MyDrive/CrosslingualModels/Paper2Results/vecmap/')"
      ]
    },
    {
      "cell_type": "code",
      "execution_count": null,
      "metadata": {
        "colab": {
          "base_uri": "https://localhost:8080/"
        },
        "id": "EbG3FnLX4uCX",
        "outputId": "aa0b500b-c3c0-4e09-f807-d6da6108eaa7"
      },
      "outputs": [
        {
          "data": {
            "text/plain": [
              "[array([[ 0.00000e+00,  0.00000e+00,  0.00000e+00, ...,  0.00000e+00,\n",
              "          0.00000e+00,  0.00000e+00],\n",
              "        [ 0.00000e+00,  0.00000e+00,  0.00000e+00, ...,  0.00000e+00,\n",
              "          0.00000e+00,  0.00000e+00],\n",
              "        [ 1.68370e-02,  3.28957e-03,  3.17510e-03, ...,  1.54585e-04,\n",
              "         -1.94005e-04,  2.60140e-04],\n",
              "        ...,\n",
              "        [ 4.17018e-03,  1.37255e-03, -1.78185e-03, ..., -3.11701e-04,\n",
              "          1.22136e-05,  1.96875e-04],\n",
              "        [ 0.00000e+00,  0.00000e+00,  0.00000e+00, ...,  0.00000e+00,\n",
              "          0.00000e+00,  0.00000e+00],\n",
              "        [ 0.00000e+00,  0.00000e+00,  0.00000e+00, ...,  0.00000e+00,\n",
              "          0.00000e+00,  0.00000e+00]], dtype=float32)]"
            ]
          },
          "execution_count": 81,
          "metadata": {},
          "output_type": "execute_result"
        }
      ],
      "source": [
        "model.layers[1].get_weights()"
      ]
    },
    {
      "cell_type": "code",
      "execution_count": null,
      "metadata": {
        "id": "LOdQp0D7EdKF"
      },
      "outputs": [],
      "source": [
        "vectorisesepedi = TextVectorization(max_tokens=20000, output_sequence_length=300)\n",
        "# text_ds = tf.data.Dataset.from_tensor_slices(train_samples).batch(128)\n",
        "vectorisesepedi.adapt(copy_of_testdf_wcolNoHespace['content'].to_numpy())"
      ]
    },
    {
      "cell_type": "code",
      "execution_count": null,
      "metadata": {
        "id": "7R5G9J7iEdKF"
      },
      "outputs": [],
      "source": [
        "voca = vectorisesepedi.get_vocabulary()\n",
        "word_index1 = dict(zip(voca, range(len(voca))))"
      ]
    },
    {
      "cell_type": "code",
      "execution_count": null,
      "metadata": {
        "colab": {
          "base_uri": "https://localhost:8080/"
        },
        "id": "Be2du_jGnobx",
        "outputId": "046a2de8-dd16-4646-83f0-efd37e4e1260"
      },
      "outputs": [
        {
          "data": {
            "text/plain": [
              "['', '[UNK]', 'a', 'go', 'ba']"
            ]
          },
          "execution_count": 84,
          "metadata": {},
          "output_type": "execute_result"
        }
      ],
      "source": [
        "vectorisesepedi.get_vocabulary()[0: 5]"
      ]
    },
    {
      "cell_type": "code",
      "execution_count": null,
      "metadata": {
        "colab": {
          "base_uri": "https://localhost:8080/"
        },
        "id": "0ZBM7qsVoV3W",
        "outputId": "9f5a8e3b-9823-4d00-f0aa-4e51dadc971e"
      },
      "outputs": [
        {
          "data": {
            "text/plain": [
              "array([  20,  145,   17, 3432,    0,    0])"
            ]
          },
          "execution_count": 85,
          "metadata": {},
          "output_type": "execute_result"
        }
      ],
      "source": [
        "output = vectorisesepedi([\" ke motho wa kgale\"])\n",
        "output.numpy()[0 ,:6]"
      ]
    },
    {
      "cell_type": "code",
      "execution_count": null,
      "metadata": {
        "id": "2lRqGR_CEdKG"
      },
      "outputs": [],
      "source": [
        "embeddings_index2 = {}\n",
        "p_to_embedings = '/content/drive/MyDrive/CrosslingualModels/Paper2Embeddings/vecmap_fast_fast300d/'\n",
        "with open(p_to_embedings) as f:\n",
        "    for line in f:\n",
        "        word, coefs = line.split(maxsplit=1)\n",
        "        coefs = np.fromstring(coefs, \"f\", sep=\" \")\n",
        "        embeddings_index2[word] = coefs\n",
        "\n",
        "print(\"Found %s word vectors.\" % len(embeddings_index2))"
      ]
    },
    {
      "cell_type": "code",
      "execution_count": null,
      "metadata": {
        "id": "TEofMGn-pCRC"
      },
      "outputs": [],
      "source": [
        "# embeddings_index2"
      ]
    },
    {
      "cell_type": "code",
      "execution_count": null,
      "metadata": {
        "colab": {
          "base_uri": "https://localhost:8080/"
        },
        "id": "HC3ju8-WEdKH",
        "outputId": "0153f1ce-8b4e-4b3b-c1df-25a5e9040061"
      },
      "outputs": [
        {
          "name": "stdout",
          "output_type": "stream",
          "text": [
            "Converted 0 words (16379 misses)\n"
          ]
        }
      ],
      "source": [
        "num_tokens = len(voca) + 2\n",
        "embedding_dim2 = 300\n",
        "hits = 0\n",
        "misses = 0\n",
        "input_size = 300\n",
        "# Prepare embedding matrix\n",
        "embedding_matrix2 = np.zeros((num_tokens, embedding_dim2))\n",
        "for word, i in word_index1.items():\n",
        "    embedding_vector = embeddings_index2.get(word)\n",
        "    if embedding_vector is not None:\n",
        "        # Words not found in embedding index will be all-zeros.\n",
        "        # This includes the representation for \"padding\" and \"OOV\"\n",
        "        embedding_matrix2[i] = embedding_vector\n",
        "        hits += 1\n",
        "    else:\n",
        "        misses += 1\n",
        "print(\"Converted %d words (%d misses)\" % (hits, misses))"
      ]
    },
    {
      "cell_type": "code",
      "execution_count": null,
      "metadata": {
        "colab": {
          "base_uri": "https://localhost:8080/"
        },
        "id": "MrmRlyji-IdK",
        "outputId": "b0e2cf30-23c5-4785-a6db-3013809047ea"
      },
      "outputs": [
        {
          "data": {
            "text/plain": [
              "(16381, 300)"
            ]
          },
          "execution_count": 80,
          "metadata": {},
          "output_type": "execute_result"
        }
      ],
      "source": [
        "embedding_matrix2.shape"
      ]
    },
    {
      "cell_type": "code",
      "execution_count": null,
      "metadata": {
        "colab": {
          "base_uri": "https://localhost:8080/"
        },
        "id": "DdqBlRW6pj-f",
        "outputId": "0202a7c9-2506-4e01-bf1e-46e3eede74d4"
      },
      "outputs": [
        {
          "data": {
            "text/plain": [
              "array([[0., 0., 0., ..., 0., 0., 0.],\n",
              "       [0., 0., 0., ..., 0., 0., 0.],\n",
              "       [0., 0., 0., ..., 0., 0., 0.],\n",
              "       ...,\n",
              "       [0., 0., 0., ..., 0., 0., 0.],\n",
              "       [0., 0., 0., ..., 0., 0., 0.],\n",
              "       [0., 0., 0., ..., 0., 0., 0.]])"
            ]
          },
          "execution_count": 81,
          "metadata": {},
          "output_type": "execute_result"
        }
      ],
      "source": [
        "\n",
        "embedding_matrix2"
      ]
    },
    {
      "cell_type": "code",
      "execution_count": null,
      "metadata": {
        "id": "jz4F9k57EwXi"
      },
      "outputs": [],
      "source": [
        "testX = vectorisesepedi(np.array([[s] for s in copy_of_testdf_wcolNoHespace.content.tolist()])).numpy()"
      ]
    },
    {
      "cell_type": "code",
      "execution_count": null,
      "metadata": {
        "id": "QbLnqulI9_LD"
      },
      "outputs": [],
      "source": [
        "# copy_CrosslingualModel_200D.layers[1] 22085"
      ]
    },
    {
      "cell_type": "code",
      "execution_count": null,
      "metadata": {
        "id": "y0qj6CfQ_0F1"
      },
      "outputs": [],
      "source": [
        "pad_matrix = np.zeros((5704, embedding_dim2))"
      ]
    },
    {
      "cell_type": "code",
      "execution_count": null,
      "metadata": {
        "id": "-U3P8lreAZ9w"
      },
      "outputs": [],
      "source": [
        "\n",
        "copy_embedding_matrix2 = embedding_matrix2"
      ]
    },
    {
      "cell_type": "code",
      "execution_count": null,
      "metadata": {
        "id": "hkHNOXbqAKmU"
      },
      "outputs": [],
      "source": [
        "padded_embedding_matrix2 = np.concatenate((embedding_matrix2, pad_matrix), axis=0)"
      ]
    },
    {
      "cell_type": "code",
      "execution_count": null,
      "metadata": {
        "colab": {
          "base_uri": "https://localhost:8080/"
        },
        "id": "yfF8ZKH8BJFC",
        "outputId": "367ef12a-12cd-4e0c-f775-0d89bda88eea"
      },
      "outputs": [
        {
          "data": {
            "text/plain": [
              "(22085, 300)"
            ]
          },
          "execution_count": 87,
          "metadata": {},
          "output_type": "execute_result"
        }
      ],
      "source": [
        "\n",
        "padded_embedding_matrix2.shape"
      ]
    },
    {
      "cell_type": "code",
      "execution_count": null,
      "metadata": {
        "colab": {
          "base_uri": "https://localhost:8080/"
        },
        "id": "hp1NaBFWBNAe",
        "outputId": "e6496258-1020-4098-f47c-7c3f770ff1d0"
      },
      "outputs": [
        {
          "data": {
            "text/plain": [
              "array([[ 0.        ,  0.        ,  0.        , ...,  0.        ,\n",
              "         0.        ,  0.        ],\n",
              "       [ 0.        ,  0.        ,  0.        , ...,  0.        ,\n",
              "         0.        ,  0.        ],\n",
              "       [ 0.        ,  0.        ,  0.        , ...,  0.        ,\n",
              "         0.        ,  0.        ],\n",
              "       ...,\n",
              "       [-0.013312  ,  0.062594  , -0.10439   , ...,  0.035482  ,\n",
              "        -0.14941999,  0.0062979 ],\n",
              "       [ 0.031485  , -0.014091  , -0.1066    , ..., -0.017418  ,\n",
              "        -0.14128999, -0.10362   ],\n",
              "       [-0.038919  ,  0.072349  , -0.15973   , ..., -0.013566  ,\n",
              "        -0.071441  ,  0.0023622 ]])"
            ]
          },
          "execution_count": 88,
          "metadata": {},
          "output_type": "execute_result"
        }
      ],
      "source": [
        "padded_embedding_matrix2[0: 100]"
      ]
    },
    {
      "cell_type": "code",
      "execution_count": null,
      "metadata": {
        "id": "ZGuNKRMoEcQQ"
      },
      "outputs": [],
      "source": [
        "# Replace the embedding layer with embeddings of Sepedi data\n",
        "model.layers[1].set_weights([padded_embedding_matrix2])"
      ]
    },
    {
      "cell_type": "code",
      "execution_count": null,
      "metadata": {
        "colab": {
          "base_uri": "https://localhost:8080/"
        },
        "id": "4ojK_pFMm_yx",
        "outputId": "5ec5550d-89df-48bf-e457-6f2deaaba10d"
      },
      "outputs": [
        {
          "data": {
            "text/plain": [
              "[array([[0., 0., 0., ..., 0., 0., 0.],\n",
              "        [0., 0., 0., ..., 0., 0., 0.],\n",
              "        [0., 0., 0., ..., 0., 0., 0.],\n",
              "        ...,\n",
              "        [0., 0., 0., ..., 0., 0., 0.],\n",
              "        [0., 0., 0., ..., 0., 0., 0.],\n",
              "        [0., 0., 0., ..., 0., 0., 0.]], dtype=float32)]"
            ]
          },
          "execution_count": 90,
          "metadata": {},
          "output_type": "execute_result"
        }
      ],
      "source": [
        "model.layers[1].get_weights()"
      ]
    },
    {
      "cell_type": "code",
      "execution_count": null,
      "metadata": {
        "colab": {
          "base_uri": "https://localhost:8080/"
        },
        "id": "U4gKNAZWj6OZ",
        "outputId": "dc6f5c31-5bea-46a8-d69c-006c8c50eed8"
      },
      "outputs": [
        {
          "name": "stdout",
          "output_type": "stream",
          "text": [
            "> 30.350\n"
          ]
        }
      ],
      "source": [
        "# evaluate model and get accuracy with Trainable embeddings\n",
        "_, acc = model.evaluate(testX, testY, verbose=0)\n",
        "print('> %.3f' % (acc * 100.0))"
      ]
    },
    {
      "cell_type": "markdown",
      "metadata": {
        "id": "zWRy8af-UcUz"
      },
      "source": [
        "**Results 300d embeddings**\n"
      ]
    },
    {
      "cell_type": "markdown",
      "metadata": {
        "id": "KBtrHLx18Lcw"
      },
      "source": [
        "# get confusion matrix"
      ]
    },
    {
      "cell_type": "code",
      "execution_count": null,
      "metadata": {
        "id": "fr3PC36A5h2b"
      },
      "outputs": [],
      "source": [
        "class estimator:\n",
        "  _estimator_type = ''\n",
        "  classes_=[]\n",
        "  def __init__(self, model, classes):\n",
        "    self.model = model\n",
        "    self._estimator_type = 'classifier'\n",
        "    self.classes_ = classes\n",
        "  def predict(self, X):\n",
        "    y_prob= self.model.predict(X)\n",
        "    y_pred = y_prob.argmax(axis=1)\n",
        "    return y_pred\n",
        "\n",
        "classifier = estimator(model, classes_names)"
      ]
    },
    {
      "cell_type": "code",
      "execution_count": null,
      "metadata": {
        "id": "uZw5UvQt5h2b"
      },
      "outputs": [],
      "source": [
        "merge = testY.argmax(axis=1)"
      ]
    },
    {
      "cell_type": "code",
      "execution_count": null,
      "metadata": {
        "id": "5jAb85vB5h2b"
      },
      "outputs": [],
      "source": [
        "from tensorflow.python.ops.math_ops import argmax\n",
        "figsize = (12,12)\n",
        "plot_confusion_matrix(estimator=classifier, X=testX, y_true=merge, cmap='Blues', normalize='true', ax=plt.subplots(figsize=figsize)[1])\n",
        "plt.savefig(\"con-mat300gf.png\", format = 'png', dpi= 150, bbox_inches = 'tight')"
      ]
    },
    {
      "cell_type": "code",
      "execution_count": null,
      "metadata": {
        "id": "vhTGmUgcNozP"
      },
      "outputs": [],
      "source": []
    },
    {
      "cell_type": "markdown",
      "metadata": {
        "id": "LtLzEPPZ7VzB"
      },
      "source": [
        "# Zero shot Testing with VecMap embedding of dimension 300 from glove and fast"
      ]
    },
    {
      "cell_type": "code",
      "execution_count": null,
      "metadata": {
        "colab": {
          "base_uri": "https://localhost:8080/"
        },
        "id": "omXvJdMd7v1y",
        "outputId": "c174cbdb-1406-486d-e6c3-d1b616dd774d"
      },
      "outputs": [
        {
          "name": "stdout",
          "output_type": "stream",
          "text": [
            "Model: \"model\"\n",
            "_________________________________________________________________\n",
            " Layer (type)                Output Shape              Param #   \n",
            "=================================================================\n",
            " input_1 (InputLayer)        [(None, 300)]             0         \n",
            "                                                                 \n",
            " embedding (Embedding)       (None, 300, 300)          6625500   \n",
            "                                                                 \n",
            " spatial_dropout1d (SpatialD  (None, 300, 300)         0         \n",
            " ropout1D)                                                       \n",
            "                                                                 \n",
            " flatten (Flatten)           (None, 90000)             0         \n",
            "                                                                 \n",
            " dense (Dense)               (None, 16)                1440016   \n",
            "                                                                 \n",
            " dropout (Dropout)           (None, 16)                0         \n",
            "                                                                 \n",
            " dense_1 (Dense)             (None, 5)                 85        \n",
            "                                                                 \n",
            "=================================================================\n",
            "Total params: 8,065,601\n",
            "Trainable params: 1,440,101\n",
            "Non-trainable params: 6,625,500\n",
            "_________________________________________________________________\n"
          ]
        }
      ],
      "source": [
        "# define cnn model\n",
        "def create_model():\n",
        "  model = Sequential()\n",
        "  int_sequences_input = keras.Input(shape=(300,), dtype=\"int64\") # word embedding shape\n",
        "  embedding_sequence_file200d = embedding_layer_word11d(int_sequences_input)\n",
        "  x = SpatialDropout1D(0.1)(embedding_sequence_file200d)\n",
        "  x = Flatten()(x)\n",
        "  # hp_units1 = hp.Int('units1', 8, 16, step=2, default=4)\n",
        "  x = Dense(16, activation='relu')(x)\n",
        "  # x = Dense(units=hp_units1, activation='relu')(x)\n",
        "  x = Dropout(0.5)(x)\n",
        "  # x = Dropout(hp.Float('dropout',0.1,0.5,step=0.1,default=0.1))(x)\n",
        "  # compile model\n",
        "  outputs = Dense(5, activation='softmax')(x)\n",
        "  hp_learning_rate = 0.0001\n",
        "  opt = Adam(learning_rate=hp_learning_rate)\n",
        "  model = Model(int_sequences_input, outputs)\n",
        "  model.compile(optimizer=opt, loss='categorical_crossentropy', metrics=['accuracy'])\n",
        "  return model\n",
        "\n",
        "# Create a basic model instance\n",
        "model = create_model()\n",
        "\n",
        "# Display the model's architecture\n",
        "model.summary()"
      ]
    },
    {
      "cell_type": "code",
      "execution_count": null,
      "metadata": {
        "id": "HZyEYhm17v1z"
      },
      "outputs": [],
      "source": [
        "model.load_weights('/content/drive/MyDrive/CrosslingualModels/Paper2Results/vecmap/')"
      ]
    },
    {
      "cell_type": "code",
      "execution_count": null,
      "metadata": {
        "colab": {
          "base_uri": "https://localhost:8080/"
        },
        "id": "cJmmbR-K7v1z",
        "outputId": "0a19597f-e278-4e1f-94b5-31ee676b63e2"
      },
      "outputs": [
        {
          "data": {
            "text/plain": [
              "[array([[ 0.       ,  0.       ,  0.       , ...,  0.       ,  0.       ,\n",
              "          0.       ],\n",
              "        [ 0.       ,  0.       ,  0.       , ...,  0.       ,  0.       ,\n",
              "          0.       ],\n",
              "        [-0.03239  , -0.051933 , -0.077769 , ...,  0.051812 ,  0.029628 ,\n",
              "         -0.055778 ],\n",
              "        ...,\n",
              "        [-0.078422 , -0.020805 , -0.062959 , ..., -0.0214   , -0.049392 ,\n",
              "         -0.0034149],\n",
              "        [ 0.       ,  0.       ,  0.       , ...,  0.       ,  0.       ,\n",
              "          0.       ],\n",
              "        [ 0.       ,  0.       ,  0.       , ...,  0.       ,  0.       ,\n",
              "          0.       ]], dtype=float32)]"
            ]
          },
          "execution_count": 62,
          "metadata": {},
          "output_type": "execute_result"
        }
      ],
      "source": [
        "model.layers[1].get_weights()"
      ]
    },
    {
      "cell_type": "code",
      "execution_count": null,
      "metadata": {
        "id": "xgrsmBuX7v11"
      },
      "outputs": [],
      "source": [
        "# make copy\n",
        "# copy_CrosslingualModel_200D = loaded_model_CrosslingualModel_200D"
      ]
    },
    {
      "cell_type": "code",
      "execution_count": null,
      "metadata": {
        "id": "MDfSsh0g7v11"
      },
      "outputs": [],
      "source": [
        "vectorisesepedi = TextVectorization(max_tokens=20000, output_sequence_length=300)\n",
        "# text_ds = tf.data.Dataset.from_tensor_slices(train_samples).batch(128)\n",
        "vectorisesepedi.adapt(copy_of_testdf_wcolNoHespace['content'].to_numpy())"
      ]
    },
    {
      "cell_type": "code",
      "execution_count": null,
      "metadata": {
        "id": "dIyk1vrh7v11"
      },
      "outputs": [],
      "source": [
        "voca = vectorisesepedi.get_vocabulary()\n",
        "word_index1 = dict(zip(voca, range(len(voca))))"
      ]
    },
    {
      "cell_type": "code",
      "execution_count": null,
      "metadata": {
        "colab": {
          "base_uri": "https://localhost:8080/"
        },
        "id": "H1WrVmQq7v12",
        "outputId": "f951f515-e0b6-45fb-97b0-9432353db57a"
      },
      "outputs": [
        {
          "data": {
            "text/plain": [
              "['', '[UNK]', 'a', 'go', 'ba']"
            ]
          },
          "execution_count": 65,
          "metadata": {},
          "output_type": "execute_result"
        }
      ],
      "source": [
        "vectorisesepedi.get_vocabulary()[0: 5]"
      ]
    },
    {
      "cell_type": "code",
      "execution_count": null,
      "metadata": {
        "colab": {
          "base_uri": "https://localhost:8080/"
        },
        "id": "8U2Xdrnv7v12",
        "outputId": "5d8282cb-b64c-4d80-ac21-92287c3492db"
      },
      "outputs": [
        {
          "data": {
            "text/plain": [
              "array([  20,  145,   17, 3432,    0,    0])"
            ]
          },
          "execution_count": 66,
          "metadata": {},
          "output_type": "execute_result"
        }
      ],
      "source": [
        "output = vectorisesepedi([\" ke motho wa kgale\"])\n",
        "output.numpy()[0 ,:6]"
      ]
    },
    {
      "cell_type": "code",
      "execution_count": null,
      "metadata": {
        "colab": {
          "base_uri": "https://localhost:8080/"
        },
        "id": "8Z0C4rwA7v12",
        "outputId": "f3ca61c8-3f37-45d8-9f47-02d24e084e8a"
      },
      "outputs": [
        {
          "name": "stdout",
          "output_type": "stream",
          "text": [
            "Found 53532 word vectors.\n"
          ]
        }
      ],
      "source": [
        "embeddings_index2 = {}\n",
        "p_to_embedings = '/content/drive/MyDrive/CrosslingualModels/Paper2Embeddings/vecmap_glove_fast300/'\n",
        "with open(p_to_embedings) as f:\n",
        "    for line in f:\n",
        "        word, coefs = line.split(maxsplit=1)\n",
        "        coefs = np.fromstring(coefs, \"f\", sep=\" \")\n",
        "        embeddings_index2[word] = coefs\n",
        "\n",
        "print(\"Found %s word vectors.\" % len(embeddings_index2))"
      ]
    },
    {
      "cell_type": "code",
      "execution_count": null,
      "metadata": {
        "id": "D6yD4qcQ7v12"
      },
      "outputs": [],
      "source": [
        "# embeddings_index2"
      ]
    },
    {
      "cell_type": "code",
      "execution_count": null,
      "metadata": {
        "colab": {
          "base_uri": "https://localhost:8080/"
        },
        "id": "hx6zBvvr7v12",
        "outputId": "fe187325-4c31-4b6e-aa56-0aeeafb1a602"
      },
      "outputs": [
        {
          "name": "stdout",
          "output_type": "stream",
          "text": [
            "Converted 8629 words (7750 misses)\n"
          ]
        }
      ],
      "source": [
        "num_tokens = len(voca) + 2\n",
        "embedding_dim2 = 300\n",
        "hits = 0\n",
        "misses = 0\n",
        "input_size = 300\n",
        "# Prepare embedding matrix\n",
        "embedding_matrix2 = np.zeros((num_tokens, embedding_dim2))\n",
        "for word, i in word_index1.items():\n",
        "    embedding_vector = embeddings_index2.get(word)\n",
        "    if embedding_vector is not None:\n",
        "        # Words not found in embedding index will be all-zeros.\n",
        "        # This includes the representation for \"padding\" and \"OOV\"\n",
        "        embedding_matrix2[i] = embedding_vector\n",
        "        hits += 1\n",
        "    else:\n",
        "        misses += 1\n",
        "print(\"Converted %d words (%d misses)\" % (hits, misses))"
      ]
    },
    {
      "cell_type": "code",
      "execution_count": null,
      "metadata": {
        "colab": {
          "base_uri": "https://localhost:8080/"
        },
        "id": "PCyhdxVO7v12",
        "outputId": "60a3caf0-f398-4366-8e94-afa71933d376"
      },
      "outputs": [
        {
          "data": {
            "text/plain": [
              "(16381, 300)"
            ]
          },
          "execution_count": 70,
          "metadata": {},
          "output_type": "execute_result"
        }
      ],
      "source": [
        "embedding_matrix2.shape"
      ]
    },
    {
      "cell_type": "code",
      "execution_count": null,
      "metadata": {
        "colab": {
          "base_uri": "https://localhost:8080/"
        },
        "id": "wvcSIHKp7v13",
        "outputId": "2a4999f3-841e-41ae-9c26-afdc873fd12f"
      },
      "outputs": [
        {
          "data": {
            "text/plain": [
              "array([[0., 0., 0., ..., 0., 0., 0.],\n",
              "       [0., 0., 0., ..., 0., 0., 0.],\n",
              "       [0., 0., 0., ..., 0., 0., 0.],\n",
              "       ...,\n",
              "       [0., 0., 0., ..., 0., 0., 0.],\n",
              "       [0., 0., 0., ..., 0., 0., 0.],\n",
              "       [0., 0., 0., ..., 0., 0., 0.]])"
            ]
          },
          "execution_count": 71,
          "metadata": {},
          "output_type": "execute_result"
        }
      ],
      "source": [
        "embedding_matrix2"
      ]
    },
    {
      "cell_type": "code",
      "execution_count": null,
      "metadata": {
        "id": "yb2gERVS7v13"
      },
      "outputs": [],
      "source": [
        "testX = vectorisesepedi(np.array([[s] for s in copy_of_testdf_wcolNoHespace.content.tolist()])).numpy()"
      ]
    },
    {
      "cell_type": "code",
      "execution_count": null,
      "metadata": {
        "id": "LfVao4kj7v13"
      },
      "outputs": [],
      "source": [
        "# copy_CrosslingualModel_200D.layers[1] 22085"
      ]
    },
    {
      "cell_type": "code",
      "execution_count": null,
      "metadata": {
        "id": "PtbFXR8I7v13"
      },
      "outputs": [],
      "source": [
        "pad_matrix = np.zeros((5704, embedding_dim2))"
      ]
    },
    {
      "cell_type": "code",
      "execution_count": null,
      "metadata": {
        "id": "iJmjEbdL7v13"
      },
      "outputs": [],
      "source": [
        "copy_embedding_matrix2 = embedding_matrix2"
      ]
    },
    {
      "cell_type": "code",
      "execution_count": null,
      "metadata": {
        "id": "k3jIIFLp7v13"
      },
      "outputs": [],
      "source": [
        "\n",
        "padded_embedding_matrix2 = np.concatenate((embedding_matrix2, pad_matrix), axis=0)"
      ]
    },
    {
      "cell_type": "code",
      "execution_count": null,
      "metadata": {
        "colab": {
          "base_uri": "https://localhost:8080/"
        },
        "id": "ag43qYS17v13",
        "outputId": "3f7b2b91-0711-4a6f-a043-8cfa6a5aa826"
      },
      "outputs": [
        {
          "data": {
            "text/plain": [
              "(22085, 300)"
            ]
          },
          "execution_count": 77,
          "metadata": {},
          "output_type": "execute_result"
        }
      ],
      "source": [
        "padded_embedding_matrix2.shape"
      ]
    },
    {
      "cell_type": "code",
      "execution_count": null,
      "metadata": {
        "colab": {
          "base_uri": "https://localhost:8080/"
        },
        "id": "kCtKWyFT7v13",
        "outputId": "842d5f97-aa1f-4e59-aa27-eae98df55d70"
      },
      "outputs": [
        {
          "data": {
            "text/plain": [
              "array([[ 0.       ,  0.       ,  0.       , ...,  0.       ,  0.       ,\n",
              "         0.       ],\n",
              "       [ 0.       ,  0.       ,  0.       , ...,  0.       ,  0.       ,\n",
              "         0.       ],\n",
              "       [ 0.       ,  0.       ,  0.       , ...,  0.       ,  0.       ,\n",
              "         0.       ],\n",
              "       ...,\n",
              "       [ 0.0044273, -0.017517 , -0.04483  , ..., -0.013344 , -0.0043902,\n",
              "         0.084146 ],\n",
              "       [ 0.065326 , -0.042823 ,  0.032016 , ..., -0.065872 , -0.10014  ,\n",
              "         0.069197 ],\n",
              "       [ 0.030104 ,  0.010856 ,  0.061121 , ...,  0.083428 , -0.0085313,\n",
              "         0.041784 ]])"
            ]
          },
          "execution_count": 78,
          "metadata": {},
          "output_type": "execute_result"
        }
      ],
      "source": [
        "padded_embedding_matrix2[0: 100]"
      ]
    },
    {
      "cell_type": "code",
      "execution_count": null,
      "metadata": {
        "id": "tkzxF5XY7v13"
      },
      "outputs": [],
      "source": [
        "# Replace the embedding layer with embeddings of Sepedi data\n",
        "model.layers[1].set_weights([padded_embedding_matrix2])"
      ]
    },
    {
      "cell_type": "code",
      "execution_count": null,
      "metadata": {
        "id": "3wEok2wx7v13"
      },
      "outputs": [],
      "source": [
        "model.layers[1].get_weights()"
      ]
    },
    {
      "cell_type": "code",
      "execution_count": null,
      "metadata": {
        "id": "e3LE9fSIPwbj"
      },
      "outputs": [],
      "source": [
        "# evaluate model and get accuracy with Trainable embeddings\n",
        "_, acc = model.evaluate(testX, testY, verbose=0)\n",
        "print('> %.3f' % (acc * 100.0))"
      ]
    },
    {
      "cell_type": "code",
      "execution_count": null,
      "metadata": {
        "id": "4LnKQnVqrECW"
      },
      "outputs": [],
      "source": [
        "from sklearn.metrics import f1_score"
      ]
    },
    {
      "cell_type": "code",
      "execution_count": null,
      "metadata": {
        "id": "uWKx0WgDrg5F"
      },
      "outputs": [],
      "source": [
        "preds = model.predict(testX)"
      ]
    },
    {
      "cell_type": "code",
      "execution_count": null,
      "metadata": {
        "colab": {
          "base_uri": "https://localhost:8080/"
        },
        "id": "F0O1JvEYtmi3",
        "outputId": "8a189012-b25a-44f4-f46d-53fee0955c95"
      },
      "outputs": [
        {
          "data": {
            "text/plain": [
              "array([0.3239888 , 0.06279597, 0.26312524, 0.18353435, 0.16655563],\n",
              "      dtype=float32)"
            ]
          },
          "execution_count": 95,
          "metadata": {},
          "output_type": "execute_result"
        }
      ],
      "source": [
        "preds[1]"
      ]
    },
    {
      "cell_type": "code",
      "execution_count": null,
      "metadata": {
        "id": "ID8rErfusuMv"
      },
      "outputs": [],
      "source": [
        "y_preds = np.argmax(preds, axis=-1)"
      ]
    },
    {
      "cell_type": "code",
      "execution_count": null,
      "metadata": {
        "colab": {
          "base_uri": "https://localhost:8080/"
        },
        "id": "n6dbuHqTtrHs",
        "outputId": "741b76fd-f585-40e2-a88c-77dabd07460f"
      },
      "outputs": [
        {
          "data": {
            "text/plain": [
              "0"
            ]
          },
          "execution_count": 97,
          "metadata": {},
          "output_type": "execute_result"
        }
      ],
      "source": [
        "y_preds[1]"
      ]
    },
    {
      "cell_type": "code",
      "execution_count": null,
      "metadata": {
        "id": "GE4lpVCGt_Se"
      },
      "outputs": [],
      "source": [
        "y_true = np.argmax(testY, axis=-1)"
      ]
    },
    {
      "cell_type": "code",
      "execution_count": null,
      "metadata": {
        "colab": {
          "base_uri": "https://localhost:8080/"
        },
        "id": "paGAX-7Rrtvd",
        "outputId": "a28efde3-2440-42f7-99f3-223168a31139"
      },
      "outputs": [
        {
          "data": {
            "text/plain": [
              "array([1., 0., 0., 0., 0.], dtype=float32)"
            ]
          },
          "execution_count": 87,
          "metadata": {},
          "output_type": "execute_result"
        }
      ],
      "source": [
        "# preds[0]\n",
        "testY[0]"
      ]
    },
    {
      "cell_type": "code",
      "execution_count": null,
      "metadata": {
        "colab": {
          "base_uri": "https://localhost:8080/"
        },
        "id": "5x1XVHsnuGbL",
        "outputId": "bf3c8970-b12d-4d5f-d397-37c74d20e6b9"
      },
      "outputs": [
        {
          "data": {
            "text/plain": [
              "0"
            ]
          },
          "execution_count": 99,
          "metadata": {},
          "output_type": "execute_result"
        }
      ],
      "source": [
        "y_true[0]"
      ]
    },
    {
      "cell_type": "code",
      "execution_count": null,
      "metadata": {
        "colab": {
          "base_uri": "https://localhost:8080/"
        },
        "id": "gfPnyrcFufQJ",
        "outputId": "b9545d3f-21c9-4762-b284-eea0f9a47765"
      },
      "outputs": [
        {
          "data": {
            "text/plain": [
              "array([0.27027027, 0.        , 0.69357798, 0.        , 0.        ])"
            ]
          },
          "execution_count": 106,
          "metadata": {},
          "output_type": "execute_result"
        }
      ],
      "source": [
        "f1_score(y_true, y_preds, average=None)"
      ]
    },
    {
      "cell_type": "code",
      "execution_count": null,
      "metadata": {
        "colab": {
          "base_uri": "https://localhost:8080/"
        },
        "id": "eOGUQmV7rEQr",
        "outputId": "06c966bf-090a-4bbe-dd1e-f9a2b8d64943"
      },
      "outputs": [
        {
          "data": {
            "text/plain": [
              "0.1927696503843293"
            ]
          },
          "execution_count": 100,
          "metadata": {},
          "output_type": "execute_result"
        }
      ],
      "source": [
        "f1_score(y_true, y_preds, average='macro')"
      ]
    },
    {
      "cell_type": "code",
      "execution_count": null,
      "metadata": {
        "colab": {
          "base_uri": "https://localhost:8080/"
        },
        "id": "FxBynwYUrXEG",
        "outputId": "08497f78-fc55-41f9-e00d-6c285ce6ab78"
      },
      "outputs": [
        {
          "data": {
            "text/plain": [
              "0.5486381322957199"
            ]
          },
          "execution_count": 102,
          "metadata": {},
          "output_type": "execute_result"
        }
      ],
      "source": [
        "f1_score(y_true, y_preds, average='micro')"
      ]
    },
    {
      "cell_type": "code",
      "execution_count": null,
      "metadata": {
        "colab": {
          "base_uri": "https://localhost:8080/"
        },
        "id": "xfPztLkerYj5",
        "outputId": "9a38c32f-f69d-452a-bfa9-f14dd9648ef3"
      },
      "outputs": [
        {
          "data": {
            "text/plain": [
              "0.4605532244842565"
            ]
          },
          "execution_count": 103,
          "metadata": {},
          "output_type": "execute_result"
        }
      ],
      "source": [
        "f1_score(y_true, y_preds, average='weighted')"
      ]
    },
    {
      "cell_type": "markdown",
      "metadata": {
        "id": "HwOGcBjwB17F"
      },
      "source": [
        "# Confusion mstrix plot here"
      ]
    },
    {
      "cell_type": "code",
      "execution_count": null,
      "metadata": {
        "id": "kUGTWFsGB1R8"
      },
      "outputs": [],
      "source": [
        "from sklearn.metrics import plot_confusion_matrix\n",
        "# y_pred=model.predict(testX)"
      ]
    },
    {
      "cell_type": "code",
      "execution_count": null,
      "metadata": {
        "id": "MA29S62pCols"
      },
      "outputs": [],
      "source": [
        "testY.shape"
      ]
    },
    {
      "cell_type": "code",
      "execution_count": null,
      "metadata": {
        "id": "drhMFQfmCr9x"
      },
      "outputs": [],
      "source": [
        "y_pred.shape"
      ]
    },
    {
      "cell_type": "code",
      "execution_count": null,
      "metadata": {
        "id": "eNtunMCHDIrt"
      },
      "outputs": [],
      "source": [
        "class estimator:\n",
        "  _estimator_type = ''\n",
        "  classes_=[]\n",
        "  def __init__(self, model, classes):\n",
        "    self.model = model\n",
        "    self._estimator_type = 'classifier'\n",
        "    self.classes_ = classes\n",
        "  def predict(self, X):\n",
        "    y_prob= self.model.predict(X)\n",
        "    y_pred = y_prob.argmax(axis=1)\n",
        "    return y_pred\n",
        "\n",
        "classifier = estimator(model, classes_names)"
      ]
    },
    {
      "cell_type": "code",
      "execution_count": null,
      "metadata": {
        "id": "aaNty7tUHB92"
      },
      "outputs": [],
      "source": [
        "pred = classifier.predict"
      ]
    },
    {
      "cell_type": "code",
      "execution_count": null,
      "metadata": {
        "id": "vpbWRpvdHTGv"
      },
      "outputs": [],
      "source": [
        "merge = testY.argmax(axis=1)"
      ]
    },
    {
      "cell_type": "code",
      "execution_count": null,
      "metadata": {
        "id": "6VtJccHDGSe6"
      },
      "outputs": [],
      "source": [
        "from tensorflow.python.ops.math_ops import argmax\n",
        "figsize = (12,12)\n",
        "plot_confusion_matrix(estimator=classifier, X=testX, y_true=merge, cmap='Blues', normalize='true', ax=plt.subplots(figsize=figsize)[1])\n",
        "plt.savefig(\"con-mat300gf.png\", format = 'png', dpi= 150, bbox_inches = 'tight')"
      ]
    },
    {
      "cell_type": "markdown",
      "metadata": {
        "id": "5IHSG20qvXhH"
      },
      "source": [
        "# Zero short Transfer with VecMap embeddings of dimention 200 from Glove and fastText embeddings"
      ]
    },
    {
      "cell_type": "code",
      "execution_count": null,
      "metadata": {
        "id": "V28xrLYz-wB9"
      },
      "outputs": [],
      "source": [
        "# define cnn model\n",
        "def create_model():\n",
        "  model = Sequential()\n",
        "  int_sequences_input = keras.Input(shape=(200,), dtype=\"int64\") # word embedding shape\n",
        "  embedding_sequence_file111d = embedding_layer_word(int_sequences_input)\n",
        "  x = SpatialDropout1D(0.2)(embedding_sequence_file111d)\n",
        "  x = Flatten()(x)\n",
        "  # hp_units1 = hp.Int('units1', 8, 16, step=2, default=4)\n",
        "  x = Dense(14, activation='relu')(x)\n",
        "  # x = Dense(units=hp_units1, activation='relu')(x)\n",
        "  x = Dropout(0.1)(x)\n",
        "  # x = Dropout(hp.Float('dropout',0.1,0.5,step=0.1,default=0.1))(x)\n",
        "  # compile model\n",
        "  outputs = Dense(5, activation='softmax')(x)\n",
        "  hp_learning_rate = 0.00030201655847076974\n",
        "  opt = Adam(learning_rate=hp_learning_rate)\n",
        "  model = Model(int_sequences_input, outputs)\n",
        "  model.compile(optimizer=opt, loss='categorical_crossentropy', metrics=['accuracy'])\n",
        "  return model\n",
        "\n",
        "# Create a basic model instance\n",
        "model = create_model()\n",
        "\n",
        "# Display the model's architecture\n",
        "model.summary()"
      ]
    },
    {
      "cell_type": "code",
      "execution_count": null,
      "metadata": {
        "id": "ts0-BLHp-wB9"
      },
      "outputs": [],
      "source": [
        "model.load_weights('/content/drive/MyDrive/CrosslingualModels/Paper2Results/vecmap/')"
      ]
    },
    {
      "cell_type": "code",
      "execution_count": null,
      "metadata": {
        "id": "hpfk5xYv-wB-"
      },
      "outputs": [],
      "source": [
        "model.layers[1].get_weights()"
      ]
    },
    {
      "cell_type": "code",
      "execution_count": null,
      "metadata": {
        "id": "Gv33AR2U-wB-"
      },
      "outputs": [],
      "source": [
        "vectorisesepedi = TextVectorization(max_tokens=20000, output_sequence_length=200)\n",
        "# text_ds = tf.data.Dataset.from_tensor_slices(train_samples).batch(128)\n",
        "vectorisesepedi.adapt(copy_of_testdf_wcolNoHespace['content'].to_numpy())"
      ]
    },
    {
      "cell_type": "code",
      "execution_count": null,
      "metadata": {
        "id": "e-XLQ8ZR-wB_"
      },
      "outputs": [],
      "source": [
        "voca = vectorisesepedi.get_vocabulary()\n",
        "word_index1 = dict(zip(voca, range(len(voca))))"
      ]
    },
    {
      "cell_type": "code",
      "execution_count": null,
      "metadata": {
        "colab": {
          "base_uri": "https://localhost:8080/"
        },
        "id": "zRHW6EQa-wB_",
        "outputId": "ccda3b85-9324-4264-ab3c-7bb8a4f2f66a"
      },
      "outputs": [
        {
          "data": {
            "text/plain": [
              "['', '[UNK]', 'a', 'go', 'ba']"
            ]
          },
          "execution_count": 129,
          "metadata": {},
          "output_type": "execute_result"
        }
      ],
      "source": [
        "vectorisesepedi.get_vocabulary()[0: 5]"
      ]
    },
    {
      "cell_type": "code",
      "execution_count": null,
      "metadata": {
        "colab": {
          "base_uri": "https://localhost:8080/"
        },
        "id": "PBQl54jI-wB_",
        "outputId": "0edee534-e1c2-4afd-ea98-e63adf6a3166"
      },
      "outputs": [
        {
          "data": {
            "text/plain": [
              "array([  20,  145,   17, 3432,    0,    0])"
            ]
          },
          "execution_count": 130,
          "metadata": {},
          "output_type": "execute_result"
        }
      ],
      "source": [
        "output = vectorisesepedi([\" ke motho wa kgale\"])\n",
        "output.numpy()[0 ,:6]"
      ]
    },
    {
      "cell_type": "code",
      "execution_count": null,
      "metadata": {
        "colab": {
          "base_uri": "https://localhost:8080/"
        },
        "id": "ubmtgi9B-wCA",
        "outputId": "7b154bcd-eb45-4a6f-8d89-2f8fda2ab403"
      },
      "outputs": [
        {
          "name": "stdout",
          "output_type": "stream",
          "text": [
            "Found 53533 word vectors.\n"
          ]
        }
      ],
      "source": [
        "embeddings_index2 = {}\n",
        "p_to_embedings = '/content/drive/MyDrive/CrosslingualModelPaper2/Paper2Embeddings/VecMap_glove_fast_200d_UCEC/trg_G_F_uns_sl_n_UCEC.txt'\n",
        "with open(p_to_embedings) as f:\n",
        "    for line in f:\n",
        "        word, coefs = line.split(maxsplit=1)\n",
        "        coefs = np.fromstring(coefs, \"f\", sep=\" \")\n",
        "        embeddings_index2[word] = coefs\n",
        "\n",
        "print(\"Found %s word vectors.\" % len(embeddings_index2))"
      ]
    },
    {
      "cell_type": "code",
      "execution_count": null,
      "metadata": {
        "colab": {
          "base_uri": "https://localhost:8080/"
        },
        "id": "o6F-sKE0-wCA",
        "outputId": "f84f5b77-d5eb-4861-ee64-2c1e69a03137"
      },
      "outputs": [
        {
          "name": "stdout",
          "output_type": "stream",
          "text": [
            "Converted 8629 words (7750 misses)\n"
          ]
        }
      ],
      "source": [
        "num_tokens = len(voca) + 2\n",
        "embedding_dim2 = 200\n",
        "hits = 0\n",
        "misses = 0\n",
        "input_size = 200\n",
        "# Prepare embedding matrix\n",
        "embedding_matrix2 = np.zeros((num_tokens, embedding_dim2))\n",
        "for word, i in word_index1.items():\n",
        "    embedding_vector = embeddings_index2.get(word)\n",
        "    if embedding_vector is not None:\n",
        "        # Words not found in embedding index will be all-zeros.\n",
        "        # This includes the representation for \"padding\" and \"OOV\"\n",
        "        embedding_matrix2[i] = embedding_vector\n",
        "        hits += 1\n",
        "    else:\n",
        "        misses += 1\n",
        "print(\"Converted %d words (%d misses)\" % (hits, misses))"
      ]
    },
    {
      "cell_type": "code",
      "execution_count": null,
      "metadata": {
        "colab": {
          "base_uri": "https://localhost:8080/"
        },
        "id": "xt4FFNyV-wCA",
        "outputId": "d17b4fb2-c870-4122-8c8e-c6f01b77623a"
      },
      "outputs": [
        {
          "data": {
            "text/plain": [
              "(16381, 200)"
            ]
          },
          "execution_count": 133,
          "metadata": {},
          "output_type": "execute_result"
        }
      ],
      "source": [
        "embedding_matrix2.shape"
      ]
    },
    {
      "cell_type": "code",
      "execution_count": null,
      "metadata": {
        "colab": {
          "base_uri": "https://localhost:8080/"
        },
        "id": "xi9b3SRB-wCA",
        "outputId": "4684672c-9858-45b1-c01a-93a0f039c3de"
      },
      "outputs": [
        {
          "data": {
            "text/plain": [
              "array([[0., 0., 0., ..., 0., 0., 0.],\n",
              "       [0., 0., 0., ..., 0., 0., 0.],\n",
              "       [0., 0., 0., ..., 0., 0., 0.],\n",
              "       ...,\n",
              "       [0., 0., 0., ..., 0., 0., 0.],\n",
              "       [0., 0., 0., ..., 0., 0., 0.],\n",
              "       [0., 0., 0., ..., 0., 0., 0.]])"
            ]
          },
          "execution_count": 134,
          "metadata": {},
          "output_type": "execute_result"
        }
      ],
      "source": [
        "embedding_matrix2"
      ]
    },
    {
      "cell_type": "code",
      "execution_count": null,
      "metadata": {
        "id": "UuuqH9k9-wCA"
      },
      "outputs": [],
      "source": [
        "testX = vectorisesepedi(np.array([[s] for s in copy_of_testdf_wcolNoHespace.content.tolist()])).numpy()"
      ]
    },
    {
      "cell_type": "code",
      "execution_count": null,
      "metadata": {
        "id": "v03r0X3L-wCA"
      },
      "outputs": [],
      "source": [
        "# copy_CrosslingualModel_200D.layers[1] 22085"
      ]
    },
    {
      "cell_type": "code",
      "execution_count": null,
      "metadata": {
        "id": "LTpAlSxx-wCA"
      },
      "outputs": [],
      "source": [
        "\n",
        "pad_matrix = np.zeros((5704, embedding_dim2))"
      ]
    },
    {
      "cell_type": "code",
      "execution_count": null,
      "metadata": {
        "id": "BjQWkiut-wCA"
      },
      "outputs": [],
      "source": [
        "\n",
        "copy_embedding_matrix2 = embedding_matrix2"
      ]
    },
    {
      "cell_type": "code",
      "execution_count": null,
      "metadata": {
        "id": "JX-M86yi-wCA"
      },
      "outputs": [],
      "source": [
        "padded_embedding_matrix2 = np.concatenate((embedding_matrix2, pad_matrix), axis=0)"
      ]
    },
    {
      "cell_type": "code",
      "execution_count": null,
      "metadata": {
        "colab": {
          "base_uri": "https://localhost:8080/"
        },
        "id": "lN1DRyICCJ9_",
        "outputId": "2ffc5647-fc4c-47d9-f161-58746e3fe657"
      },
      "outputs": [
        {
          "data": {
            "text/plain": [
              "(22085, 200)"
            ]
          },
          "execution_count": 140,
          "metadata": {},
          "output_type": "execute_result"
        }
      ],
      "source": [
        "padded_embedding_matrix2.shape"
      ]
    },
    {
      "cell_type": "code",
      "execution_count": null,
      "metadata": {
        "colab": {
          "base_uri": "https://localhost:8080/"
        },
        "id": "EOj5liHJ-wCB",
        "outputId": "0ffed55d-46c5-4b54-ed7a-6db72e6bae89"
      },
      "outputs": [
        {
          "data": {
            "text/plain": [
              "array([[ 0.00000000e+00,  0.00000000e+00,  0.00000000e+00, ...,\n",
              "         0.00000000e+00,  0.00000000e+00,  0.00000000e+00],\n",
              "       [ 0.00000000e+00,  0.00000000e+00,  0.00000000e+00, ...,\n",
              "         0.00000000e+00,  0.00000000e+00,  0.00000000e+00],\n",
              "       [ 0.00000000e+00,  0.00000000e+00,  0.00000000e+00, ...,\n",
              "         0.00000000e+00,  0.00000000e+00,  0.00000000e+00],\n",
              "       ...,\n",
              "       [-3.19151004e-04, -7.29169988e-04,  2.51924997e-04, ...,\n",
              "        -6.03223016e-05, -2.22312992e-05,  2.84096996e-06],\n",
              "       [-4.88537014e-04, -9.58098972e-04,  1.26913004e-03, ...,\n",
              "        -2.00551003e-05, -4.19185999e-05, -1.37813004e-05],\n",
              "       [-5.20092028e-04, -1.11186004e-03,  9.88858985e-04, ...,\n",
              "        -2.60409997e-05, -1.61811004e-05, -2.46402997e-05]])"
            ]
          },
          "execution_count": 141,
          "metadata": {},
          "output_type": "execute_result"
        }
      ],
      "source": [
        "padded_embedding_matrix2[0: 100]"
      ]
    },
    {
      "cell_type": "code",
      "execution_count": null,
      "metadata": {
        "id": "uPAwi-A3-wCB"
      },
      "outputs": [],
      "source": [
        "# Replace the embedding layer with embeddings of Sepedi data\n",
        "model.layers[1].set_weights([padded_embedding_matrix2])"
      ]
    },
    {
      "cell_type": "code",
      "execution_count": null,
      "metadata": {
        "colab": {
          "base_uri": "https://localhost:8080/"
        },
        "id": "Vxt6SJzg-wCB",
        "outputId": "fd75574b-5336-4065-c864-72829646bb05"
      },
      "outputs": [
        {
          "data": {
            "text/plain": [
              "[array([[0., 0., 0., ..., 0., 0., 0.],\n",
              "        [0., 0., 0., ..., 0., 0., 0.],\n",
              "        [0., 0., 0., ..., 0., 0., 0.],\n",
              "        ...,\n",
              "        [0., 0., 0., ..., 0., 0., 0.],\n",
              "        [0., 0., 0., ..., 0., 0., 0.],\n",
              "        [0., 0., 0., ..., 0., 0., 0.]], dtype=float32)]"
            ]
          },
          "execution_count": 143,
          "metadata": {},
          "output_type": "execute_result"
        }
      ],
      "source": [
        "model.layers[1].get_weights()"
      ]
    },
    {
      "cell_type": "code",
      "execution_count": null,
      "metadata": {
        "colab": {
          "base_uri": "https://localhost:8080/"
        },
        "id": "WaH7X1KJ0rON",
        "outputId": "d9b7b3e6-ceab-4e5e-e7f0-7daf44c6e5dd"
      },
      "outputs": [
        {
          "name": "stdout",
          "output_type": "stream",
          "text": [
            "> 0.778\n"
          ]
        }
      ],
      "source": [
        "# evaluate model and get accuracy with Trainable embeddings\n",
        "_, acc = model.evaluate(testX, testY, verbose=0)\n",
        "print('> %.3f' % (acc * 100.0))"
      ]
    },
    {
      "cell_type": "code",
      "execution_count": null,
      "metadata": {
        "colab": {
          "base_uri": "https://localhost:8080/"
        },
        "id": "YAZJuA6-ym8g",
        "outputId": "3d1d4981-43e4-42c0-a52e-5257cc0873cc"
      },
      "outputs": [
        {
          "name": "stdout",
          "output_type": "stream",
          "text": [
            "> 12.062\n"
          ]
        }
      ],
      "source": [
        "# evaluate model and get accuracy with Trainable embeddings\n",
        "_, acc = model.evaluate(testX, testY, verbose=0)\n",
        "print('> %.3f' % (acc * 100.0))"
      ]
    },
    {
      "cell_type": "code",
      "execution_count": null,
      "metadata": {
        "colab": {
          "base_uri": "https://localhost:8080/"
        },
        "id": "dX97R7JChlTR",
        "outputId": "c6f11c32-1258-4299-de93-c8845bf02fc3"
      },
      "outputs": [
        {
          "name": "stdout",
          "output_type": "stream",
          "text": [
            "> 54.475\n"
          ]
        }
      ],
      "source": [
        "# evaluate model and get accuracy with Trainable embeddings\n",
        "_, acc = model.evaluate(testX, testY, verbose=0)\n",
        "print('> %.3f' % (acc * 100.0))"
      ]
    },
    {
      "cell_type": "code",
      "execution_count": null,
      "metadata": {
        "id": "tAQ0V1CjTgoa"
      },
      "outputs": [],
      "source": [
        "54.475"
      ]
    },
    {
      "cell_type": "code",
      "execution_count": null,
      "metadata": {
        "id": "Tep51xVATtx2"
      },
      "outputs": [],
      "source": [
        "from sklearn.metrics import plot_confusion_matrix\n",
        "# y_pred=model.predict(testX)"
      ]
    },
    {
      "cell_type": "code",
      "execution_count": null,
      "metadata": {
        "colab": {
          "base_uri": "https://localhost:8080/"
        },
        "id": "WfOSv3i8Ttx2",
        "outputId": "725aec07-1601-40b4-9ab5-55fcb41d1504"
      },
      "outputs": [
        {
          "data": {
            "text/plain": [
              "(771, 5)"
            ]
          },
          "execution_count": 133,
          "metadata": {},
          "output_type": "execute_result"
        }
      ],
      "source": [
        "testY.shape"
      ]
    },
    {
      "cell_type": "code",
      "execution_count": null,
      "metadata": {
        "id": "gbgZrlC1Ttx3"
      },
      "outputs": [],
      "source": [
        "class estimator:\n",
        "  _estimator_type = ''\n",
        "  classes_=[]\n",
        "  def __init__(self, model, classes):\n",
        "    self.model = model\n",
        "    self._estimator_type = 'classifier'\n",
        "    self.classes_ = classes\n",
        "  def predict(self, X):\n",
        "    y_prob= self.model.predict(X)\n",
        "    y_pred = y_prob.argmax(axis=1)\n",
        "    return y_pred\n",
        "\n",
        "classifier = estimator(model, classes_names)"
      ]
    },
    {
      "cell_type": "code",
      "execution_count": null,
      "metadata": {
        "id": "Fh5ueSIhTtx3"
      },
      "outputs": [],
      "source": [
        "pred = classifier.predict"
      ]
    },
    {
      "cell_type": "code",
      "execution_count": null,
      "metadata": {
        "id": "weJ5_fDyTtx3"
      },
      "outputs": [],
      "source": [
        "merge = testY.argmax(axis=1)"
      ]
    },
    {
      "cell_type": "code",
      "execution_count": null,
      "metadata": {
        "id": "iPuJOl98PsiA"
      },
      "outputs": [],
      "source": [
        "# gertting old results"
      ]
    },
    {
      "cell_type": "code",
      "execution_count": null,
      "metadata": {
        "id": "wMUXL2kEPsn-"
      },
      "outputs": [],
      "source": [
        "from tensorflow.python.ops.math_ops import argmax\n",
        "figsize = (12,12)\n",
        "plot_confusion_matrix(estimator=classifier, X=testX, y_true=merge, cmap='Blues', normalize='true', ax=plt.subplots(figsize=figsize)[1])\n",
        "plt.xticks([0,1,2,3,4],sorter)\n",
        "plt.savefig(\"con-mat300gf.png\", format = 'png', dpi= 150, bbox_inches = 'tight')"
      ]
    },
    {
      "cell_type": "code",
      "execution_count": null,
      "metadata": {
        "colab": {
          "base_uri": "https://localhost:8080/",
          "height": 748
        },
        "id": "QZ_J0h2cgb-P",
        "outputId": "20bb8d5c-6032-4229-9921-e84a12e84409"
      },
      "outputs": [
        {
          "name": "stderr",
          "output_type": "stream",
          "text": [
            "/usr/local/lib/python3.7/dist-packages/sklearn/utils/deprecation.py:87: FutureWarning: Function plot_confusion_matrix is deprecated; Function `plot_confusion_matrix` is deprecated in 1.0 and will be removed in 1.2. Use one of the class methods: ConfusionMatrixDisplay.from_predictions or ConfusionMatrixDisplay.from_estimator.\n",
            "  warnings.warn(msg, category=FutureWarning)\n"
          ]
        },
        {
          "data": {
            "image/png": "[encoded data removed]",
            "text/plain": [
              "<Figure size 864x864 with 2 Axes>"
            ]
          },
          "metadata": {},
          "output_type": "display_data"
        }
      ],
      "source": [
        "from tensorflow.python.ops.math_ops import argmax\n",
        "figsize = (12,12)\n",
        "plot_confusion_matrix(estimator=classifier, X=testX, y_true=merge, cmap='Blues', normalize='true', ax=plt.subplots(figsize=figsize)[1])\n",
        "plt.savefig(\"con-mat300gf.png\", format = 'png', dpi= 150, bbox_inches = 'tight')"
      ]
    },
    {
      "cell_type": "code",
      "execution_count": null,
      "metadata": {
        "colab": {
          "base_uri": "https://localhost:8080/",
          "height": 748
        },
        "id": "qg7U3BeLTtx3",
        "outputId": "6c8e9e7d-2145-4394-c3a5-91cd8b060a0c"
      },
      "outputs": [
        {
          "name": "stderr",
          "output_type": "stream",
          "text": [
            "/usr/local/lib/python3.7/dist-packages/sklearn/utils/deprecation.py:87: FutureWarning: Function plot_confusion_matrix is deprecated; Function `plot_confusion_matrix` is deprecated in 1.0 and will be removed in 1.2. Use one of the class methods: ConfusionMatrixDisplay.from_predictions or ConfusionMatrixDisplay.from_estimator.\n",
            "  warnings.warn(msg, category=FutureWarning)\n"
          ]
        },
        {
          "data": {
            "image/png": "[encoded data removed]",
            "text/plain": [
              "<Figure size 864x864 with 2 Axes>"
            ]
          },
          "metadata": {},
          "output_type": "display_data"
        }
      ],
      "source": [
        "from tensorflow.python.ops.math_ops import argmax\n",
        "figsize = (12,12)\n",
        "plot_confusion_matrix(estimator=classifier, X=testX, y_true=merge, cmap='Blues', normalize='true', ax=plt.subplots(figsize=figsize)[1])\n",
        "plt.savefig(\"con-mat300gf.png\", format = 'png', dpi= 150, bbox_inches = 'tight')"
      ]
    },
    {
      "cell_type": "markdown",
      "metadata": {
        "id": "lcwsm05cW3eB"
      },
      "source": [
        "#  Results goes here\n",
        "\n",
        "54.475"
      ]
    },
    {
      "cell_type": "code",
      "execution_count": null,
      "metadata": {
        "colab": {
          "base_uri": "https://localhost:8080/",
          "height": 394
        },
        "id": "j025Ok4GBncx",
        "outputId": "8a4a6fc0-b5ca-4c94-95f6-6ca8cc7ca397"
      },
      "outputs": [
        {
          "data": {
            "image/png": "[encoded data removed]",
            "text/plain": [
              "<Figure size 432x432 with 1 Axes>"
            ]
          },
          "metadata": {},
          "output_type": "display_data"
        }
      ],
      "source": [
        "# libraries\n",
        "import numpy as np\n",
        "import matplotlib.pyplot as plt\n",
        "\n",
        "# create a dataset\n",
        "height = [54.50, 29.31, 28.25]\n",
        "bars = ('CCA 200 G&F', 'CCA 300 G&F ', 'CCA 300 F&F')\n",
        "x_pos = np.arange(len(bars))\n",
        "plt.figure(figsize=(6, 6))\n",
        "# Create bars with different colors\n",
        "plt.bar(x_pos, height, width = 0.2, color=['black', 'red', 'green'])\n",
        "\n",
        "# Create names on the x-axis\n",
        "plt.xticks(x_pos, bars)\n",
        "plt.xlabel(\"CCA crosslingual embeddings\")\n",
        "plt.ylabel(\"Average accuracy(%) over five runs \")\n",
        "plt.savefig(\"CCA_acc.png\", format = 'png', dpi= 150, bbox_inches = 'tight')\n",
        "# Show graph\n",
        "plt.show()"
      ]
    },
    {
      "cell_type": "code",
      "execution_count": null,
      "metadata": {
        "id": "TZTk03DFnM8N"
      },
      "outputs": [],
      "source": [
        "# evaluate model\n",
        "_, acc = model.evaluate(testX, testY, verbose=0)\n",
        "print('> %.3f' % (acc * 100.0))"
      ]
    },
    {
      "cell_type": "code",
      "execution_count": null,
      "metadata": {
        "id": "lLOdENZpmzaw"
      },
      "outputs": [],
      "source": [
        "# train with mapped embeddings\n",
        "history = model.fit(x_trainvec, y_train, batch_size=BATCH_SIZE, epochs= num_epochs,\n",
        "                    validation_data=(x_valvec, y_test),verbose=1, callbacks=[ReduceLROnPlateau])"
      ]
    },
    {
      "cell_type": "code",
      "execution_count": null,
      "metadata": {
        "id": "-9Hvg_4uN9sg"
      },
      "outputs": [],
      "source": [
        "# Parama\n",
        "LR = 1e-3\n",
        "BATCH_SIZE = 64\n",
        "num_epochs = 125"
      ]
    },
    {
      "cell_type": "code",
      "execution_count": null,
      "metadata": {
        "id": "7gdenQ4lcsMG"
      },
      "outputs": [],
      "source": [
        "\n",
        "# model = Sequential()\n",
        "# embedding_layer = Embedding( num_tokens,\n",
        "#                 embedding_dim,\n",
        "#            embeddings_initializer=keras.initializers.Constant(embedding_matrix),\n",
        "#              trainable=False,)\n",
        "# model.add(embedding_layer)\n",
        "# model.add(Flatten())\n",
        "# model.add(Dense(512, activation='relu'))\n",
        "# model.add(Dense(5,activation='softmax'))\n",
        "# model.compile(optimizer=Adam(learning_rate=LR), loss='categorical_crossentropy',\n",
        "#               metrics=['accuracy'])\n",
        "# model.summary()"
      ]
    },
    {
      "cell_type": "code",
      "execution_count": null,
      "metadata": {
        "id": "qM7fBVraOCtL"
      },
      "outputs": [],
      "source": [
        "\n",
        "# sequence_input = Input(shape=(input_size,), dtype='int32') - character embedding\n",
        "int_sequences_input = keras.Input(shape=(200,), dtype=\"int64\") # word embedding shape\n",
        "embedding_sequences = embedding_layer_word(int_sequences_input)\n",
        "x = SpatialDropout1D(0.2)(embedding_sequences)\n",
        "# x = Conv1D(64, 5, activation='relu')(x)\n",
        "# x = Bidirectional(LSTM(64, return_sequences=True))(x)\n",
        "x = Flatten()(x)\n",
        "\n",
        "x = Dense(16, activation='relu')(x)\n",
        "x = Dropout(0.4)(x)\n",
        "# x = Dense(8, activation='relu')(x)\n",
        "# x = Dropout(0.3)(x)\n",
        "outputs = Dense(5, activation='softmax')(x)\n",
        "model = Model(int_sequences_input, outputs)\n",
        "model.compile(optimizer=Adam(learning_rate=LR), loss='categorical_crossentropy',\n",
        "              metrics=['accuracy'])\n",
        "model.summary()"
      ]
    },
    {
      "cell_type": "code",
      "execution_count": null,
      "metadata": {
        "id": "p9BQURApUw48"
      },
      "outputs": [],
      "source": [
        "import numpy as np\n",
        "from tensorflow.keras.utils import to_categorical\n",
        "### Categorical data to be converted to numeric data\n",
        "train_classes = df.Category.tolist()\n",
        "\n",
        "### Universal list of colors\n",
        "total_cat =  df['Category'].unique()\n",
        "\n",
        "### map each color to an integer\n",
        "mapping = {}\n",
        "for x in range(len(total_cat)):\n",
        "  mapping[total_cat[x]] = x\n",
        "\n",
        "# integer representation\n",
        "for x in range(len(train_classes)):\n",
        "  train_classes[x] = mapping[train_classes[x]]\n",
        "\n",
        "one_hot_encode = to_categorical(train_classes)\n",
        "# print(one_hot_encode[0:10])"
      ]
    },
    {
      "cell_type": "code",
      "execution_count": null,
      "metadata": {
        "id": "I97naLGTONw2"
      },
      "outputs": [],
      "source": [
        "np.random.seed(42)\n",
        "shuffle_indices = np.random.permutation(np.arange(len(one_hot_encode)))\n",
        "x_shuffled = df['Text'][shuffle_indices]\n",
        "y_shuffled = one_hot_encode[shuffle_indices]\n",
        "\n",
        "# Split train and test\n",
        "training_rate = 0.8\n",
        "train_len = int(len(one_hot_encode) * training_rate)\n",
        "\n",
        "# train data\n",
        "x_train = x_shuffled[:train_len]\n",
        "y_train = y_shuffled[:train_len]\n",
        "\n",
        "# test data\n",
        "x_test = x_shuffled[train_len:]\n",
        "y_test = y_shuffled[train_len:]"
      ]
    },
    {
      "cell_type": "code",
      "execution_count": null,
      "metadata": {
        "id": "8sf64vxngN_Y"
      },
      "outputs": [],
      "source": [
        "# y_train"
      ]
    },
    {
      "cell_type": "code",
      "execution_count": null,
      "metadata": {
        "id": "R6Ak7Zd0PF5s"
      },
      "outputs": [],
      "source": [
        "print(\"x_train shape:\", x_train.shape)\n",
        "print(\"y_train shape:\", y_train.shape)\n",
        "print(\"x_test shape:\", x_test.shape)\n",
        "print(\"y_test shape:\", y_test.shape)"
      ]
    },
    {
      "cell_type": "code",
      "execution_count": null,
      "metadata": {
        "id": "H2oSbx4JPJ6f"
      },
      "outputs": [],
      "source": [
        "x_trainvec = vectorizer(np.array([[s] for s in x_train])).numpy()\n",
        "x_valvec = vectorizer(np.array([[s] for s in x_test])).numpy()\n"
      ]
    },
    {
      "cell_type": "code",
      "execution_count": null,
      "metadata": {
        "id": "sZOb__Pje6QK"
      },
      "outputs": [],
      "source": [
        "x_trainvec.shape"
      ]
    },
    {
      "cell_type": "code",
      "execution_count": null,
      "metadata": {
        "id": "WTcWRno9Ww_w"
      },
      "outputs": [],
      "source": [
        "ReduceLROnPlateau = ReduceLROnPlateau(factor=0.1,\n",
        "                                     min_lr = 0.01,\n",
        "                                     monitor = 'val_loss',\n",
        "                                     verbose = 1)"
      ]
    },
    {
      "cell_type": "code",
      "execution_count": null,
      "metadata": {
        "id": "P3vILNLVr8mM"
      },
      "outputs": [],
      "source": [
        "# train with mapped embeddings\n",
        "history = model.fit(x_trainvec, y_train, batch_size=BATCH_SIZE, epochs= num_epochs,\n",
        "                    validation_data=(x_valvec, y_test),verbose=1, callbacks=[ReduceLROnPlateau])"
      ]
    },
    {
      "cell_type": "code",
      "execution_count": null,
      "metadata": {
        "id": "C4kKExmVH63L"
      },
      "outputs": [],
      "source": [
        "# 125 epochs, 16 neurons, 1 layer, 0.4 dropout\n",
        "from matplotlib import pyplot as plt\n",
        "\n",
        "plt.plot(history.history['accuracy'])\n",
        "plt.plot(history.history['val_accuracy'])\n",
        "plt.title('model accuracy')\n",
        "plt.ylabel('accuracy')\n",
        "plt.xlabel('epoch')\n",
        "plt.legend(['train', 'val'], loc='upper left')\n",
        "plt.show()"
      ]
    },
    {
      "cell_type": "code",
      "execution_count": null,
      "metadata": {
        "id": "4COa9uni6mEZ"
      },
      "outputs": [],
      "source": [
        "# 125 epochs, 16 neurons, 1 layer, 0.4 dropout\n",
        "from matplotlib import pyplot as plt\n",
        "\n",
        "plt.plot(history.history['accuracy'])\n",
        "plt.plot(history.history['val_accuracy'])\n",
        "plt.title('model accuracy')\n",
        "plt.ylabel('accuracy')\n",
        "plt.xlabel('epoch')\n",
        "plt.legend(['train', 'val'], loc='upper left')\n",
        "plt.show()"
      ]
    },
    {
      "cell_type": "code",
      "execution_count": null,
      "metadata": {
        "id": "gdv5GoYZDgmX"
      },
      "outputs": [],
      "source": [
        "model.save('CrosslingualModel.h5')"
      ]
    },
    {
      "cell_type": "code",
      "execution_count": null,
      "metadata": {
        "id": "IJgV2KDRewtt"
      },
      "outputs": [],
      "source": [
        "path_totest = ''\n",
        "testdata = pd.read_csv(path_totest, sep =\",\")"
      ]
    },
    {
      "cell_type": "code",
      "execution_count": null,
      "metadata": {
        "id": "BDBJtiCmewwq"
      },
      "outputs": [],
      "source": [
        "testdata.Text = testdata.Text.apply(lambda x: preprocess(x))\n",
        "testdata['cleantext'] = testdata['Text'].map(lambda x: cleanString(x))"
      ]
    },
    {
      "cell_type": "code",
      "execution_count": null,
      "metadata": {
        "id": "zqxJS0xPe3Gg"
      },
      "outputs": [],
      "source": [
        "from tensorflow.keras.utils import to_categorical\n",
        "### Categorical data to be converted to numeric data\n",
        "train_classesEng = testdata.Category.tolist()\n",
        "\n",
        "### Universal list of colors\n",
        "total_catEng =  testdata['Category'].unique()\n",
        "\n",
        "### map each color to an integer\n",
        "mappingEng = {}\n",
        "for x in range(len(total_catEng)):\n",
        "  mappingEng[total_catEng[x]] = x\n",
        "\n",
        "# integer representation\n",
        "for x in range(len(train_classesEng)):\n",
        "  train_classesEng[x] = mappingEng[train_classesEng[x]]\n",
        "\n",
        "y_testEng = to_categorical(train_classesEng)"
      ]
    },
    {
      "cell_type": "code",
      "execution_count": null,
      "metadata": {
        "id": "Sh77p_pthRs8"
      },
      "outputs": [],
      "source": [
        "x_testvecEng = vectorizer(np.array([[s] for s in testdata.cleantext.to_list()])).numpy()"
      ]
    },
    {
      "cell_type": "code",
      "execution_count": null,
      "metadata": {
        "id": "RObA-8L5hUof"
      },
      "outputs": [],
      "source": [
        "testresult = model.evaluate(x_testvecEng, y_testEng)\n",
        "print('The test loss is ', testresult[0] )\n",
        "print('The test accuracy is ', testresult[1])"
      ]
    },
    {
      "cell_type": "code",
      "execution_count": null,
      "metadata": {
        "id": "CjBgdzEGqvTQ"
      },
      "outputs": [],
      "source": [
        "# model.layers"
      ]
    },
    {
      "cell_type": "code",
      "execution_count": null,
      "metadata": {
        "id": "NvNxYAf6rnVb"
      },
      "outputs": [],
      "source": [
        "# sepedi data"
      ]
    },
    {
      "cell_type": "code",
      "execution_count": null,
      "metadata": {
        "id": "xP5hSljUrnYi"
      },
      "outputs": [],
      "source": [
        "testdf = pd.read_excel('/content/drive/MyDrive/Sotho_DAT/daily-news-full-latest.xlsx')"
      ]
    },
    {
      "cell_type": "code",
      "execution_count": null,
      "metadata": {
        "id": "dA9pPRvurnbH"
      },
      "outputs": [],
      "source": [
        "testdf.head()"
      ]
    },
    {
      "cell_type": "code",
      "execution_count": null,
      "metadata": {
        "id": "qukaOV7ZIcRt"
      },
      "outputs": [],
      "source": [
        "testdf_wcols = testdf.drop(['Unnamed: 0', 'title', 'url', 'content_word_count', 'content_character_count', 'sub-label' ], axis=1)"
      ]
    },
    {
      "cell_type": "code",
      "execution_count": null,
      "metadata": {
        "id": "HLO2jf_lIcUR"
      },
      "outputs": [],
      "source": [
        "testdf_wcols"
      ]
    },
    {
      "cell_type": "code",
      "execution_count": null,
      "metadata": {
        "id": "43DoJs2WLbhR"
      },
      "outputs": [],
      "source": [
        "# drop Nan\n",
        "testdf_wcolsNanRemoved = testdf_wcols.dropna()"
      ]
    },
    {
      "cell_type": "code",
      "execution_count": null,
      "metadata": {
        "id": "udjUOWxeMDKZ"
      },
      "outputs": [],
      "source": [
        "testdf_wcolsNanRemoved.head()"
      ]
    },
    {
      "cell_type": "code",
      "execution_count": null,
      "metadata": {
        "id": "bRzNUNZyMIbz"
      },
      "outputs": [],
      "source": [
        "labelsavailable = testdf_wcolsNanRemoved['label'].unique()"
      ]
    },
    {
      "cell_type": "code",
      "execution_count": null,
      "metadata": {
        "id": "qKn02DpGMYTC"
      },
      "outputs": [],
      "source": [
        "labelsavailable"
      ]
    },
    {
      "cell_type": "markdown",
      "metadata": {
        "id": "lndoWq9kOQ3V"
      },
      "source": [
        "['business', 'tech', 'politics', 'sport', 'entertainment'] -- Classes\n",
        "\n",
        "\n",
        ", 'health', 'environment', 'labour', 'crime,law and justuce', 'religion and belief','human interest', 'disaster,accident and emergency incident', 'weather', 'lifestyle and leisure','health ', 'puso'"
      ]
    },
    {
      "cell_type": "code",
      "execution_count": null,
      "metadata": {
        "id": "hxgx6pTdManq"
      },
      "outputs": [],
      "source": [
        "testdf_wcolNoedu = testdf_wcolsNanRemoved[testdf_wcolsNanRemoved['label'] != 'education']\n"
      ]
    },
    {
      "cell_type": "code",
      "execution_count": null,
      "metadata": {
        "id": "BXk8NdTRSXlN"
      },
      "outputs": [],
      "source": [
        "testdf_wcolNohelt = testdf_wcolNoedu[testdf_wcolNoedu['label'] != 'health']"
      ]
    },
    {
      "cell_type": "code",
      "execution_count": null,
      "metadata": {
        "id": "_4d5VbIcSm1O"
      },
      "outputs": [],
      "source": [
        "testdf_wcolNoenv= testdf_wcolNohelt[testdf_wcolNohelt['label'] != 'environment']"
      ]
    },
    {
      "cell_type": "code",
      "execution_count": null,
      "metadata": {
        "id": "NvsWBEeGS3QL"
      },
      "outputs": [],
      "source": [
        "testdf_wcolNolab = testdf_wcolNoenv[testdf_wcolNoenv['label'] != 'labour']"
      ]
    },
    {
      "cell_type": "code",
      "execution_count": null,
      "metadata": {
        "id": "-nRU0dDMTLSm"
      },
      "outputs": [],
      "source": [
        "testdf_wcolNocljus = testdf_wcolNolab[testdf_wcolNolab['label'] != 'crime,law and justuce']"
      ]
    },
    {
      "cell_type": "code",
      "execution_count": null,
      "metadata": {
        "id": "87YrfeavTb4m"
      },
      "outputs": [],
      "source": [
        "testdf_wcolNorb = testdf_wcolNocljus[testdf_wcolNocljus['label'] != 'religion and belief']"
      ]
    },
    {
      "cell_type": "code",
      "execution_count": null,
      "metadata": {
        "id": "GRWutpc1TmiU"
      },
      "outputs": [],
      "source": [
        "testdf_wcolNohi = testdf_wcolNorb[testdf_wcolNorb['label'] != 'human interest']"
      ]
    },
    {
      "cell_type": "code",
      "execution_count": null,
      "metadata": {
        "id": "yM8YieEvT5Vw"
      },
      "outputs": [],
      "source": [
        "testdf_wcolNodaei = testdf_wcolNohi[testdf_wcolNohi['label'] != 'disaster,accident and emergency incident']"
      ]
    },
    {
      "cell_type": "code",
      "execution_count": null,
      "metadata": {
        "id": "iF4aBg28T5X-"
      },
      "outputs": [],
      "source": [
        "testdf_wcolNow = testdf_wcolNodaei[testdf_wcolNodaei['label'] != 'weather']"
      ]
    },
    {
      "cell_type": "code",
      "execution_count": null,
      "metadata": {
        "id": "F9cT3afSUUb5"
      },
      "outputs": [],
      "source": [
        "testdf_wcolNoll = testdf_wcolNow[testdf_wcolNow['label'] != 'lifestyle and leisure']"
      ]
    },
    {
      "cell_type": "code",
      "execution_count": null,
      "metadata": {
        "id": "TK83LsaWUrCa"
      },
      "outputs": [],
      "source": [
        "testdf_wcolNoll = testdf_wcolNow[testdf_wcolNow['label'] != 'puso']"
      ]
    },
    {
      "cell_type": "code",
      "execution_count": null,
      "metadata": {
        "id": "2tLiWYtiVQJg"
      },
      "outputs": [],
      "source": [
        "testdf_wcolNoHe = testdf_wcolNoll[testdf_wcolNoll['label'] != 'health']"
      ]
    },
    {
      "cell_type": "code",
      "execution_count": null,
      "metadata": {
        "id": "8dwbzRSgVh6N"
      },
      "outputs": [],
      "source": [
        "testdf_wcolNoSNTinc = testdf_wcolNoHe[testdf_wcolNoHe['label'] != 'sceince and technology']"
      ]
    },
    {
      "cell_type": "code",
      "execution_count": null,
      "metadata": {
        "id": "Wyy7IxuYUrLo"
      },
      "outputs": [],
      "source": [
        "testdf_wcolNoSNTinc = testdf_wcolNoSNTinc[testdf_wcolNoSNTinc['label'] != 'sceince and technology']"
      ]
    },
    {
      "cell_type": "code",
      "execution_count": null,
      "metadata": {
        "id": "8pL71zJKWMZI"
      },
      "outputs": [],
      "source": [
        "testdf_wcolNosoc = testdf_wcolNoSNTinc[testdf_wcolNoSNTinc['label'] != 'society']"
      ]
    },
    {
      "cell_type": "code",
      "execution_count": null,
      "metadata": {
        "id": "CmMxpFWSWg15"
      },
      "outputs": [],
      "source": [
        "testdf_wcolNopuso = testdf_wcolNosoc[testdf_wcolNosoc['label'] != 'puso']"
      ]
    },
    {
      "cell_type": "code",
      "execution_count": null,
      "metadata": {
        "id": "M-OkEdzWPF2x"
      },
      "outputs": [],
      "source": [
        "testdf_wcolNopuso"
      ]
    },
    {
      "cell_type": "code",
      "execution_count": null,
      "metadata": {
        "id": "lHlKZIYgPF57"
      },
      "outputs": [],
      "source": [
        "print(\"Number of rows per label:\")\n",
        "print(testdf_wcolNosoc['label'].value_counts())\n",
        "\n",
        "\n",
        "plt.figure()\n",
        "pd.value_counts(testdf_wcolNosoc['label']).plot.bar(title=\"Category distribution\")\n",
        "plt.xlabel(\"Categories\")\n",
        "plt.ylabel(\"No. of rows \")\n",
        "plt.savefig(\"Sclasses.png\", format = 'png', dpi = 150, bbox_inches='tight')\n",
        "plt.show()"
      ]
    },
    {
      "cell_type": "code",
      "execution_count": null,
      "metadata": {
        "id": "lz_cZ-B4W2xD"
      },
      "outputs": [],
      "source": [
        "# import numpy as np\n",
        "from tensorflow.keras.utils import to_categorical\n",
        "### Categorical data to be converted to numeric data\n",
        "train_classes1 = testdf_wcolNopuso.label.tolist()\n",
        "\n",
        "### Universal list of colors\n",
        "total_cat1 =  testdf_wcolNopuso['label'].unique()\n",
        "\n",
        "### map each color to an integer\n",
        "mappings = {}\n",
        "for x in range(len(total_cat1)):\n",
        "  mappings[total_cat1[x]] = x\n",
        "\n",
        "# integer representation\n",
        "for x in range(len(train_classes)):\n",
        "  train_classes1[x] = mappings[train_classes1[x]]\n",
        "\n",
        "y_test = to_categorical(train_classes1)\n",
        "# print(one_hot_encode[0:10])"
      ]
    },
    {
      "cell_type": "code",
      "execution_count": null,
      "metadata": {
        "id": "0vpTYli1rk2q"
      },
      "outputs": [],
      "source": [
        "vectorisesepedi = TextVectorization(max_tokens=20000, output_sequence_length=200)\n",
        "# text_ds = tf.data.Dataset.from_tensor_slices(train_samples).batch(128)\n",
        "vectorisesepedi.adapt(testdf_wcolNopuso['content'].to_numpy())"
      ]
    },
    {
      "cell_type": "code",
      "execution_count": null,
      "metadata": {
        "id": "2I0-DliFrk5r"
      },
      "outputs": [],
      "source": [
        "voca = vectorisesepedi.get_vocabulary()\n",
        "word_index = dict(zip(voca, range(len(voca))))"
      ]
    },
    {
      "cell_type": "code",
      "execution_count": null,
      "metadata": {
        "id": "vjLinUGQIHeq"
      },
      "outputs": [],
      "source": [
        "embeddings_index2 = {}\n",
        "path_to_file1 = '/content/drive/MyDrive/CrosslingualModel/mapped_trg.txt'\n",
        "with open(path_to_file1) as f:\n",
        "    for line in f:\n",
        "        word, coefs = line.split(maxsplit=1)\n",
        "        coefs = np.fromstring(coefs, \"f\", sep=\" \")\n",
        "        embeddings_index2[word] = coefs\n",
        "\n",
        "print(\"Found %s word vectors.\" % len(embeddings_index2))"
      ]
    },
    {
      "cell_type": "code",
      "execution_count": null,
      "metadata": {
        "id": "yGNPWIxNIHhx"
      },
      "outputs": [],
      "source": [
        "num_tokens = len(voc) + 2\n",
        "embedding_dim2 = 200\n",
        "hits = 0\n",
        "misses = 0\n",
        "input_size = 300\n",
        "# Prepare embedding matrix\n",
        "embedding_matrix2 = np.zeros((num_tokens, embedding_dim))\n",
        "for word, i in word_index.items():\n",
        "    embedding_vector = embeddings_index2.get(word)\n",
        "    if embedding_vector is not None:\n",
        "        # Words not found in embedding index will be all-zeros.\n",
        "        # This includes the representation for \"padding\" and \"OOV\"\n",
        "        embedding_matrix2[i] = embedding_vector\n",
        "        hits += 1\n",
        "    else:\n",
        "        misses += 1\n",
        "print(\"Converted %d words (%d misses)\" % (hits, misses))"
      ]
    },
    {
      "cell_type": "code",
      "execution_count": null,
      "metadata": {
        "id": "V_XbjDiqjgQx"
      },
      "outputs": [],
      "source": [
        "embedding_matrix2[0]"
      ]
    },
    {
      "cell_type": "code",
      "execution_count": null,
      "metadata": {
        "id": "4VXYLNDlZjJd"
      },
      "outputs": [],
      "source": [
        "model.layers[1].set_weights([embedding_matrix2])"
      ]
    },
    {
      "cell_type": "code",
      "execution_count": null,
      "metadata": {
        "id": "Zn6JWgkplkRm"
      },
      "outputs": [],
      "source": [
        "model.layers[1].get_weights()"
      ]
    },
    {
      "cell_type": "code",
      "execution_count": null,
      "metadata": {
        "id": "JXyW8PYTIHkp"
      },
      "outputs": [],
      "source": [
        "# Replace the embedding layer with matrix of Sepedi data\n",
        "\n",
        "\n",
        "# model.layers[0].set_weights(embedding_matrix2)"
      ]
    },
    {
      "cell_type": "markdown",
      "metadata": {
        "id": "DX3isruVYgM_"
      },
      "source": [
        "** Zero Shot **\n"
      ]
    },
    {
      "cell_type": "code",
      "execution_count": null,
      "metadata": {
        "id": "9woipcDhIHqO"
      },
      "outputs": [],
      "source": [
        "x_zeroshort = vectorisesepedi(np.array([[s] for s in testdf_wcolNopuso.content.tolist()])).numpy()\n",
        "y_pred = model.predict(x_zeroshort)"
      ]
    },
    {
      "cell_type": "code",
      "execution_count": null,
      "metadata": {
        "id": "o84ch4V_sdhv"
      },
      "outputs": [],
      "source": [
        "# 125 epochs, 16 neurons, 1 layer, 0.4 dropout\n",
        "from matplotlib import pyplot as plt\n",
        "\n",
        "plt.plot(history.history['accuracy'])\n",
        "plt.plot(history.history['val_accuracy'])\n",
        "plt.title('model accuracy')\n",
        "plt.ylabel('accuracy')\n",
        "plt.xlabel('epoch')\n",
        "plt.legend(['train', 'val'], loc='upper left')\n",
        "plt.show()"
      ]
    },
    {
      "cell_type": "code",
      "execution_count": null,
      "metadata": {
        "id": "eM8bFuICsKNP"
      },
      "outputs": [],
      "source": [
        "from matplotlib import pyplot as plt\n",
        "\n",
        "plt.plot(history.history['accuracy'])\n",
        "plt.plot(history.history['val_accuracy'])\n",
        "plt.title('model accuracy')\n",
        "plt.ylabel('accuracy')\n",
        "plt.xlabel('epoch')\n",
        "plt.legend(['train', 'val'], loc='upper left')\n",
        "plt.show()"
      ]
    },
    {
      "cell_type": "code",
      "execution_count": null,
      "metadata": {
        "id": "AURKo9E8QZBA"
      },
      "outputs": [],
      "source": [
        "history = model.fit(x_trainvec, y_train, batch_size=BATCH_SIZE, epochs= num_epochs,\n",
        "                    validation_data=(x_valvec, y_test),verbose=1, callbacks=[ReduceLROnPlateau])\n"
      ]
    },
    {
      "cell_type": "code",
      "execution_count": null,
      "metadata": {
        "id": "_1QwQNqjQZEH"
      },
      "outputs": [],
      "source": [
        "history"
      ]
    },
    {
      "cell_type": "code",
      "execution_count": null,
      "metadata": {
        "id": "jux34Mq8sZh6"
      },
      "outputs": [],
      "source": [
        "\n",
        "from matplotlib import pyplot as plt\n",
        "\n",
        "plt.plot(history.history['accuracy'])\n",
        "plt.plot(history.history['val_accuracy'])\n",
        "plt.title('model accuracy')\n",
        "plt.ylabel('accuracy')\n",
        "plt.xlabel('epoch')\n",
        "plt.legend(['train', 'val'], loc='upper left')\n",
        "plt.show()"
      ]
    }
  ],
  "metadata": {
    "accelerator": "GPU",
    "colab": {
      "provenance": []
    },
    "gpuClass": "standard",
    "kernelspec": {
      "display_name": "Python 3",
      "name": "python3"
    },
    "language_info": {
      "name": "python"
    }
  },
  "nbformat": 4,
  "nbformat_minor": 0
}
